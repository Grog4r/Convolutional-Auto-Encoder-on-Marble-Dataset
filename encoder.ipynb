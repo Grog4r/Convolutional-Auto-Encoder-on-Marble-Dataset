{
 "cells": [
  {
   "cell_type": "code",
   "execution_count": 162,
   "id": "14104e88",
   "metadata": {},
   "outputs": [],
   "source": [
    "import torch\n",
    "import torch.nn as nn\n",
    "import torch.optim as optim\n",
    "from torch.utils.data import DataLoader, Dataset\n",
    "from torchvision import transforms\n",
    "import matplotlib.pyplot as plt\n",
    "import numpy as np\n",
    "from PIL import Image\n",
    "import os"
   ]
  },
  {
   "cell_type": "code",
   "execution_count": 163,
   "id": "d8c9b2ac",
   "metadata": {},
   "outputs": [],
   "source": [
    "image_path_train = \"marble/train/good\"\n",
    "image_path_ok = \"marble/test/good\""
   ]
  },
  {
   "cell_type": "code",
   "execution_count": 164,
   "id": "9952f76a",
   "metadata": {},
   "outputs": [
    {
     "name": "stdout",
     "output_type": "stream",
     "text": [
      "The device is cpu.\n"
     ]
    }
   ],
   "source": [
    "BATCH_SIZE = 16\n",
    "N_EPOCHS = 10\n",
    "LEARNING_RATE = 1e-3\n",
    "DEVICE = torch.device(\"cuda\" if torch.cuda.is_available() else \"cpu\")\n",
    "print(f\"The device is {DEVICE}.\")"
   ]
  },
  {
   "cell_type": "code",
   "execution_count": 165,
   "id": "7b71f1fb",
   "metadata": {},
   "outputs": [],
   "source": [
    "import math\n",
    "\n",
    "\n",
    "class ConvAutoencoder(nn.Module):\n",
    "    def __init__(self, input_size=128, img_channels=3, feature_dim=256):\n",
    "        super(ConvAutoencoder, self).__init__()\n",
    "\n",
    "        assert math.log2(input_size).is_integer(), \"Input size must be a power of 2 (e.g., 64, 128, 256)\"\n",
    "        self.input_size = input_size\n",
    "\n",
    "        # Build encoder dynamically\n",
    "        layers = []\n",
    "        channels = [img_channels, 16, 32, 64, 128]\n",
    "        size = input_size\n",
    "        for i in range(len(channels) - 1):\n",
    "            layers.append(nn.Conv2d(channels[i], channels[i+1], kernel_size=4, stride=2, padding=1))\n",
    "            layers.append(nn.ReLU(True))\n",
    "            size //= 2  # downsampling step\n",
    "\n",
    "        self.encoder_conv = nn.Sequential(*layers)\n",
    "        self.flattened_size = channels[-1] * size * size\n",
    "        self.encoder_fc = nn.Linear(self.flattened_size, feature_dim)\n",
    "\n",
    "        # Decoder\n",
    "        self.decoder_fc = nn.Linear(feature_dim, self.flattened_size)\n",
    "\n",
    "        # Build decoder (inverse of encoder)\n",
    "        decoder_layers = []\n",
    "        channels = list(reversed(channels))\n",
    "        for i in range(len(channels) - 1):\n",
    "            decoder_layers.append(nn.ConvTranspose2d(\n",
    "                channels[i], channels[i+1], kernel_size=4, stride=2, padding=1))\n",
    "            if i < len(channels) - 2:\n",
    "                decoder_layers.append(nn.ReLU(True))\n",
    "            else:\n",
    "                decoder_layers.append(nn.Tanh())  # final layer\n",
    "\n",
    "        self.decoder_conv = nn.Sequential(*decoder_layers)\n",
    "\n",
    "    def forward(self, x):\n",
    "        x = self.encoder_conv(x)\n",
    "        x = x.view(x.size(0), -1)\n",
    "        z = self.encoder_fc(x)\n",
    "\n",
    "        x = self.decoder_fc(z)\n",
    "        x = x.view(x.size(0), -1, self.input_size // (2 ** 4), self.input_size // (2 ** 4))  # 4 conv layers\n",
    "        x = self.decoder_conv(x)\n",
    "        return x\n"
   ]
  },
  {
   "cell_type": "code",
   "execution_count": 166,
   "id": "4965c4af",
   "metadata": {},
   "outputs": [],
   "source": [
    "IMAGE_SIZE = 128\n",
    "\n",
    "transform = transforms.Compose([\n",
    "    transforms.Resize((IMAGE_SIZE, IMAGE_SIZE)),\n",
    "    transforms.ToTensor(),\n",
    "    transforms.Normalize(mean=[0.5, 0.5, 0.5], std=[0.5, 0.5, 0.5])\n",
    "])\n"
   ]
  },
  {
   "cell_type": "code",
   "execution_count": 167,
   "id": "52132a65",
   "metadata": {},
   "outputs": [],
   "source": [
    "class MarbleImageDataset(Dataset):\n",
    "    def __init__(self, img_dir, transform=None, target_transform=None, val=False):\n",
    "        self.img_dir = img_dir\n",
    "        self.image_names = os.listdir(self.img_dir)\n",
    "        val_len = int(len(self.image_names) * 0.2)\n",
    "        if val:\n",
    "            # last 20% are validation images\n",
    "            self.image_names = self.image_names[-val_len:]\n",
    "        else:\n",
    "            # everything before last 20% are training images\n",
    "            self.image_names = self.image_names[:-val_len]\n",
    "            \n",
    "        self.transform = transform\n",
    "        self.target_transform = target_transform\n",
    "\n",
    "    def __len__(self):\n",
    "        return len(self.image_names)\n",
    "\n",
    "    def __getitem__(self, idx):\n",
    "        img_path = os.path.join(self.img_dir, self.image_names[idx])\n",
    "        image = Image.open(img_path)\n",
    "        if self.transform:\n",
    "            image = self.transform(image)\n",
    "        return image"
   ]
  },
  {
   "cell_type": "code",
   "execution_count": 168,
   "id": "04c2b6d7",
   "metadata": {},
   "outputs": [],
   "source": [
    "train_dataset = MarbleImageDataset(image_path_train, transform=transform)\n",
    "train_loader = DataLoader(train_dataset, batch_size=BATCH_SIZE, shuffle=True)\n"
   ]
  },
  {
   "cell_type": "code",
   "execution_count": 169,
   "id": "5e971b4a",
   "metadata": {},
   "outputs": [],
   "source": [
    "val_dataset = MarbleImageDataset(image_path_train, transform=transform, val=True)\n",
    "val_loader = DataLoader(val_dataset, batch_size=BATCH_SIZE, shuffle=True)\n"
   ]
  },
  {
   "cell_type": "code",
   "execution_count": 170,
   "id": "9b5b0f4a",
   "metadata": {},
   "outputs": [],
   "source": [
    "import json\n",
    "from tqdm import tqdm\n",
    "\n",
    "# model = Autoencoder().to(DEVICE)\n",
    "model = ConvAutoencoder(input_size=IMAGE_SIZE).to(DEVICE)\n",
    "criterion = nn.MSELoss()\n",
    "if (\n",
    "    os.path.exists(\"model.pth\")\n",
    "    and os.path.exists(\"losses.json\")\n",
    "    and os.path.exists(\"batch_losses.json\")\n",
    "):\n",
    "    model.load_state_dict(torch.load(\"model.pth\", weights_only=True))\n",
    "    losses = json.load(open(\"losses.json\", encoding=\"utf-8\"))\n",
    "    batch_losses = json.load(open(\"batch_losses.json\", encoding=\"utf-8\"))\n",
    "# if False:\n",
    "#     pass\n",
    "else:\n",
    "    optimizer = optim.Adam(model.parameters(), lr=LEARNING_RATE)\n",
    "    losses = []\n",
    "    batch_losses = []\n",
    "\n",
    "    for epoch in range(N_EPOCHS):\n",
    "        model.train()\n",
    "        total_loss = 0\n",
    "        for imgs in tqdm(train_loader, desc=f\"Epoch {epoch+1}/{N_EPOCHS}\"):\n",
    "            imgs = imgs.to(DEVICE)\n",
    "            outputs = model(imgs)\n",
    "            loss = criterion(outputs, imgs)\n",
    "            optimizer.zero_grad()\n",
    "            loss.backward()\n",
    "            optimizer.step()\n",
    "            total_loss += loss.item()\n",
    "            batch_losses.append(loss.item())\n",
    "\n",
    "        mean_loss = total_loss / len(train_loader)\n",
    "        print(f\"Epoch [{epoch+1}/{N_EPOCHS}], Loss: {mean_loss:.6f}\")\n",
    "        losses.append(mean_loss)\n",
    "\n",
    "    json.dump(losses, open(\"losses.json\", \"w\", encoding=\"utf-8\"))\n",
    "    json.dump(batch_losses, open(\"batch_losses.json\", \"w\", encoding=\"utf-8\"))"
   ]
  },
  {
   "cell_type": "code",
   "execution_count": 171,
   "id": "4f83329a",
   "metadata": {},
   "outputs": [
    {
     "data": {
      "text/plain": [
       "430"
      ]
     },
     "execution_count": 171,
     "metadata": {},
     "output_type": "execute_result"
    }
   ],
   "source": [
    "losses_extended = []\n",
    "for loss in losses:\n",
    "    for _ in range(43):\n",
    "        losses_extended.append(loss)\n",
    "len(losses_extended)"
   ]
  },
  {
   "cell_type": "code",
   "execution_count": 172,
   "id": "611ade45",
   "metadata": {},
   "outputs": [
    {
     "data": {
      "text/plain": [
       "430"
      ]
     },
     "execution_count": 172,
     "metadata": {},
     "output_type": "execute_result"
    }
   ],
   "source": [
    "len(batch_losses)"
   ]
  },
  {
   "cell_type": "code",
   "execution_count": 173,
   "id": "1b5f00b7",
   "metadata": {},
   "outputs": [
    {
     "data": {
      "text/html": [
       "<div>\n",
       "<style scoped>\n",
       "    .dataframe tbody tr th:only-of-type {\n",
       "        vertical-align: middle;\n",
       "    }\n",
       "\n",
       "    .dataframe tbody tr th {\n",
       "        vertical-align: top;\n",
       "    }\n",
       "\n",
       "    .dataframe thead th {\n",
       "        text-align: right;\n",
       "    }\n",
       "</style>\n",
       "<table border=\"1\" class=\"dataframe\">\n",
       "  <thead>\n",
       "    <tr style=\"text-align: right;\">\n",
       "      <th></th>\n",
       "      <th>Batch Loss</th>\n",
       "    </tr>\n",
       "  </thead>\n",
       "  <tbody>\n",
       "    <tr>\n",
       "      <th>0</th>\n",
       "      <td>0.213674</td>\n",
       "    </tr>\n",
       "    <tr>\n",
       "      <th>1</th>\n",
       "      <td>0.216852</td>\n",
       "    </tr>\n",
       "    <tr>\n",
       "      <th>2</th>\n",
       "      <td>0.154607</td>\n",
       "    </tr>\n",
       "    <tr>\n",
       "      <th>3</th>\n",
       "      <td>0.136302</td>\n",
       "    </tr>\n",
       "    <tr>\n",
       "      <th>4</th>\n",
       "      <td>0.100273</td>\n",
       "    </tr>\n",
       "    <tr>\n",
       "      <th>...</th>\n",
       "      <td>...</td>\n",
       "    </tr>\n",
       "    <tr>\n",
       "      <th>425</th>\n",
       "      <td>0.003371</td>\n",
       "    </tr>\n",
       "    <tr>\n",
       "      <th>426</th>\n",
       "      <td>0.002229</td>\n",
       "    </tr>\n",
       "    <tr>\n",
       "      <th>427</th>\n",
       "      <td>0.002056</td>\n",
       "    </tr>\n",
       "    <tr>\n",
       "      <th>428</th>\n",
       "      <td>0.001426</td>\n",
       "    </tr>\n",
       "    <tr>\n",
       "      <th>429</th>\n",
       "      <td>0.002235</td>\n",
       "    </tr>\n",
       "  </tbody>\n",
       "</table>\n",
       "<p>430 rows × 1 columns</p>\n",
       "</div>"
      ],
      "text/plain": [
       "     Batch Loss\n",
       "0      0.213674\n",
       "1      0.216852\n",
       "2      0.154607\n",
       "3      0.136302\n",
       "4      0.100273\n",
       "..          ...\n",
       "425    0.003371\n",
       "426    0.002229\n",
       "427    0.002056\n",
       "428    0.001426\n",
       "429    0.002235\n",
       "\n",
       "[430 rows x 1 columns]"
      ]
     },
     "execution_count": 173,
     "metadata": {},
     "output_type": "execute_result"
    }
   ],
   "source": [
    "import pandas as pd\n",
    "import plotly.express as px\n",
    "\n",
    "df_losses = pd.DataFrame({\"Batch Loss\": batch_losses})\n",
    "df_losses"
   ]
  },
  {
   "cell_type": "code",
   "execution_count": 174,
   "id": "5f086b34",
   "metadata": {},
   "outputs": [
    {
     "data": {
      "application/vnd.plotly.v1+json": {
       "config": {
        "plotlyServerURL": "https://plot.ly"
       },
       "data": [
        {
         "hovertemplate": "variable=Batch Loss<br>Batch Number=%{x}<br>MSE Loss=%{y}<extra></extra>",
         "legendgroup": "Batch Loss",
         "line": {
          "color": "#636efa",
          "dash": "solid"
         },
         "marker": {
          "symbol": "circle"
         },
         "mode": "lines",
         "name": "Batch Loss",
         "orientation": "v",
         "showlegend": true,
         "type": "scatter",
         "x": {
          "bdata": "AAABAAIAAwAEAAUABgAHAAgACQAKAAsADAANAA4ADwAQABEAEgATABQAFQAWABcAGAAZABoAGwAcAB0AHgAfACAAIQAiACMAJAAlACYAJwAoACkAKgArACwALQAuAC8AMAAxADIAMwA0ADUANgA3ADgAOQA6ADsAPAA9AD4APwBAAEEAQgBDAEQARQBGAEcASABJAEoASwBMAE0ATgBPAFAAUQBSAFMAVABVAFYAVwBYAFkAWgBbAFwAXQBeAF8AYABhAGIAYwBkAGUAZgBnAGgAaQBqAGsAbABtAG4AbwBwAHEAcgBzAHQAdQB2AHcAeAB5AHoAewB8AH0AfgB/AIAAgQCCAIMAhACFAIYAhwCIAIkAigCLAIwAjQCOAI8AkACRAJIAkwCUAJUAlgCXAJgAmQCaAJsAnACdAJ4AnwCgAKEAogCjAKQApQCmAKcAqACpAKoAqwCsAK0ArgCvALAAsQCyALMAtAC1ALYAtwC4ALkAugC7ALwAvQC+AL8AwADBAMIAwwDEAMUAxgDHAMgAyQDKAMsAzADNAM4AzwDQANEA0gDTANQA1QDWANcA2ADZANoA2wDcAN0A3gDfAOAA4QDiAOMA5ADlAOYA5wDoAOkA6gDrAOwA7QDuAO8A8ADxAPIA8wD0APUA9gD3APgA+QD6APsA/AD9AP4A/wAAAQEBAgEDAQQBBQEGAQcBCAEJAQoBCwEMAQ0BDgEPARABEQESARMBFAEVARYBFwEYARkBGgEbARwBHQEeAR8BIAEhASIBIwEkASUBJgEnASgBKQEqASsBLAEtAS4BLwEwATEBMgEzATQBNQE2ATcBOAE5AToBOwE8AT0BPgE/AUABQQFCAUMBRAFFAUYBRwFIAUkBSgFLAUwBTQFOAU8BUAFRAVIBUwFUAVUBVgFXAVgBWQFaAVsBXAFdAV4BXwFgAWEBYgFjAWQBZQFmAWcBaAFpAWoBawFsAW0BbgFvAXABcQFyAXMBdAF1AXYBdwF4AXkBegF7AXwBfQF+AX8BgAGBAYIBgwGEAYUBhgGHAYgBiQGKAYsBjAGNAY4BjwGQAZEBkgGTAZQBlQGWAZcBmAGZAZoBmwGcAZ0BngGfAaABoQGiAaMBpAGlAaYBpwGoAakBqgGrAawBrQE=",
          "dtype": "i2"
         },
         "xaxis": "x",
         "y": {
          "bdata": "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",
          "dtype": "f8"
         },
         "yaxis": "y"
        }
       ],
       "layout": {
        "height": 300,
        "legend": {
         "title": {
          "text": "variable"
         },
         "tracegroupgap": 0
        },
        "margin": {
         "b": 20,
         "l": 20,
         "r": 20,
         "t": 40
        },
        "showlegend": false,
        "template": {
         "data": {
          "bar": [
           {
            "error_x": {
             "color": "#2a3f5f"
            },
            "error_y": {
             "color": "#2a3f5f"
            },
            "marker": {
             "line": {
              "color": "#E5ECF6",
              "width": 0.5
             },
             "pattern": {
              "fillmode": "overlay",
              "size": 10,
              "solidity": 0.2
             }
            },
            "type": "bar"
           }
          ],
          "barpolar": [
           {
            "marker": {
             "line": {
              "color": "#E5ECF6",
              "width": 0.5
             },
             "pattern": {
              "fillmode": "overlay",
              "size": 10,
              "solidity": 0.2
             }
            },
            "type": "barpolar"
           }
          ],
          "carpet": [
           {
            "aaxis": {
             "endlinecolor": "#2a3f5f",
             "gridcolor": "white",
             "linecolor": "white",
             "minorgridcolor": "white",
             "startlinecolor": "#2a3f5f"
            },
            "baxis": {
             "endlinecolor": "#2a3f5f",
             "gridcolor": "white",
             "linecolor": "white",
             "minorgridcolor": "white",
             "startlinecolor": "#2a3f5f"
            },
            "type": "carpet"
           }
          ],
          "choropleth": [
           {
            "colorbar": {
             "outlinewidth": 0,
             "ticks": ""
            },
            "type": "choropleth"
           }
          ],
          "contour": [
           {
            "colorbar": {
             "outlinewidth": 0,
             "ticks": ""
            },
            "colorscale": [
             [
              0,
              "#0d0887"
             ],
             [
              0.1111111111111111,
              "#46039f"
             ],
             [
              0.2222222222222222,
              "#7201a8"
             ],
             [
              0.3333333333333333,
              "#9c179e"
             ],
             [
              0.4444444444444444,
              "#bd3786"
             ],
             [
              0.5555555555555556,
              "#d8576b"
             ],
             [
              0.6666666666666666,
              "#ed7953"
             ],
             [
              0.7777777777777778,
              "#fb9f3a"
             ],
             [
              0.8888888888888888,
              "#fdca26"
             ],
             [
              1,
              "#f0f921"
             ]
            ],
            "type": "contour"
           }
          ],
          "contourcarpet": [
           {
            "colorbar": {
             "outlinewidth": 0,
             "ticks": ""
            },
            "type": "contourcarpet"
           }
          ],
          "heatmap": [
           {
            "colorbar": {
             "outlinewidth": 0,
             "ticks": ""
            },
            "colorscale": [
             [
              0,
              "#0d0887"
             ],
             [
              0.1111111111111111,
              "#46039f"
             ],
             [
              0.2222222222222222,
              "#7201a8"
             ],
             [
              0.3333333333333333,
              "#9c179e"
             ],
             [
              0.4444444444444444,
              "#bd3786"
             ],
             [
              0.5555555555555556,
              "#d8576b"
             ],
             [
              0.6666666666666666,
              "#ed7953"
             ],
             [
              0.7777777777777778,
              "#fb9f3a"
             ],
             [
              0.8888888888888888,
              "#fdca26"
             ],
             [
              1,
              "#f0f921"
             ]
            ],
            "type": "heatmap"
           }
          ],
          "histogram": [
           {
            "marker": {
             "pattern": {
              "fillmode": "overlay",
              "size": 10,
              "solidity": 0.2
             }
            },
            "type": "histogram"
           }
          ],
          "histogram2d": [
           {
            "colorbar": {
             "outlinewidth": 0,
             "ticks": ""
            },
            "colorscale": [
             [
              0,
              "#0d0887"
             ],
             [
              0.1111111111111111,
              "#46039f"
             ],
             [
              0.2222222222222222,
              "#7201a8"
             ],
             [
              0.3333333333333333,
              "#9c179e"
             ],
             [
              0.4444444444444444,
              "#bd3786"
             ],
             [
              0.5555555555555556,
              "#d8576b"
             ],
             [
              0.6666666666666666,
              "#ed7953"
             ],
             [
              0.7777777777777778,
              "#fb9f3a"
             ],
             [
              0.8888888888888888,
              "#fdca26"
             ],
             [
              1,
              "#f0f921"
             ]
            ],
            "type": "histogram2d"
           }
          ],
          "histogram2dcontour": [
           {
            "colorbar": {
             "outlinewidth": 0,
             "ticks": ""
            },
            "colorscale": [
             [
              0,
              "#0d0887"
             ],
             [
              0.1111111111111111,
              "#46039f"
             ],
             [
              0.2222222222222222,
              "#7201a8"
             ],
             [
              0.3333333333333333,
              "#9c179e"
             ],
             [
              0.4444444444444444,
              "#bd3786"
             ],
             [
              0.5555555555555556,
              "#d8576b"
             ],
             [
              0.6666666666666666,
              "#ed7953"
             ],
             [
              0.7777777777777778,
              "#fb9f3a"
             ],
             [
              0.8888888888888888,
              "#fdca26"
             ],
             [
              1,
              "#f0f921"
             ]
            ],
            "type": "histogram2dcontour"
           }
          ],
          "mesh3d": [
           {
            "colorbar": {
             "outlinewidth": 0,
             "ticks": ""
            },
            "type": "mesh3d"
           }
          ],
          "parcoords": [
           {
            "line": {
             "colorbar": {
              "outlinewidth": 0,
              "ticks": ""
             }
            },
            "type": "parcoords"
           }
          ],
          "pie": [
           {
            "automargin": true,
            "type": "pie"
           }
          ],
          "scatter": [
           {
            "fillpattern": {
             "fillmode": "overlay",
             "size": 10,
             "solidity": 0.2
            },
            "type": "scatter"
           }
          ],
          "scatter3d": [
           {
            "line": {
             "colorbar": {
              "outlinewidth": 0,
              "ticks": ""
             }
            },
            "marker": {
             "colorbar": {
              "outlinewidth": 0,
              "ticks": ""
             }
            },
            "type": "scatter3d"
           }
          ],
          "scattercarpet": [
           {
            "marker": {
             "colorbar": {
              "outlinewidth": 0,
              "ticks": ""
             }
            },
            "type": "scattercarpet"
           }
          ],
          "scattergeo": [
           {
            "marker": {
             "colorbar": {
              "outlinewidth": 0,
              "ticks": ""
             }
            },
            "type": "scattergeo"
           }
          ],
          "scattergl": [
           {
            "marker": {
             "colorbar": {
              "outlinewidth": 0,
              "ticks": ""
             }
            },
            "type": "scattergl"
           }
          ],
          "scattermap": [
           {
            "marker": {
             "colorbar": {
              "outlinewidth": 0,
              "ticks": ""
             }
            },
            "type": "scattermap"
           }
          ],
          "scattermapbox": [
           {
            "marker": {
             "colorbar": {
              "outlinewidth": 0,
              "ticks": ""
             }
            },
            "type": "scattermapbox"
           }
          ],
          "scatterpolar": [
           {
            "marker": {
             "colorbar": {
              "outlinewidth": 0,
              "ticks": ""
             }
            },
            "type": "scatterpolar"
           }
          ],
          "scatterpolargl": [
           {
            "marker": {
             "colorbar": {
              "outlinewidth": 0,
              "ticks": ""
             }
            },
            "type": "scatterpolargl"
           }
          ],
          "scatterternary": [
           {
            "marker": {
             "colorbar": {
              "outlinewidth": 0,
              "ticks": ""
             }
            },
            "type": "scatterternary"
           }
          ],
          "surface": [
           {
            "colorbar": {
             "outlinewidth": 0,
             "ticks": ""
            },
            "colorscale": [
             [
              0,
              "#0d0887"
             ],
             [
              0.1111111111111111,
              "#46039f"
             ],
             [
              0.2222222222222222,
              "#7201a8"
             ],
             [
              0.3333333333333333,
              "#9c179e"
             ],
             [
              0.4444444444444444,
              "#bd3786"
             ],
             [
              0.5555555555555556,
              "#d8576b"
             ],
             [
              0.6666666666666666,
              "#ed7953"
             ],
             [
              0.7777777777777778,
              "#fb9f3a"
             ],
             [
              0.8888888888888888,
              "#fdca26"
             ],
             [
              1,
              "#f0f921"
             ]
            ],
            "type": "surface"
           }
          ],
          "table": [
           {
            "cells": {
             "fill": {
              "color": "#EBF0F8"
             },
             "line": {
              "color": "white"
             }
            },
            "header": {
             "fill": {
              "color": "#C8D4E3"
             },
             "line": {
              "color": "white"
             }
            },
            "type": "table"
           }
          ]
         },
         "layout": {
          "annotationdefaults": {
           "arrowcolor": "#2a3f5f",
           "arrowhead": 0,
           "arrowwidth": 1
          },
          "autotypenumbers": "strict",
          "coloraxis": {
           "colorbar": {
            "outlinewidth": 0,
            "ticks": ""
           }
          },
          "colorscale": {
           "diverging": [
            [
             0,
             "#8e0152"
            ],
            [
             0.1,
             "#c51b7d"
            ],
            [
             0.2,
             "#de77ae"
            ],
            [
             0.3,
             "#f1b6da"
            ],
            [
             0.4,
             "#fde0ef"
            ],
            [
             0.5,
             "#f7f7f7"
            ],
            [
             0.6,
             "#e6f5d0"
            ],
            [
             0.7,
             "#b8e186"
            ],
            [
             0.8,
             "#7fbc41"
            ],
            [
             0.9,
             "#4d9221"
            ],
            [
             1,
             "#276419"
            ]
           ],
           "sequential": [
            [
             0,
             "#0d0887"
            ],
            [
             0.1111111111111111,
             "#46039f"
            ],
            [
             0.2222222222222222,
             "#7201a8"
            ],
            [
             0.3333333333333333,
             "#9c179e"
            ],
            [
             0.4444444444444444,
             "#bd3786"
            ],
            [
             0.5555555555555556,
             "#d8576b"
            ],
            [
             0.6666666666666666,
             "#ed7953"
            ],
            [
             0.7777777777777778,
             "#fb9f3a"
            ],
            [
             0.8888888888888888,
             "#fdca26"
            ],
            [
             1,
             "#f0f921"
            ]
           ],
           "sequentialminus": [
            [
             0,
             "#0d0887"
            ],
            [
             0.1111111111111111,
             "#46039f"
            ],
            [
             0.2222222222222222,
             "#7201a8"
            ],
            [
             0.3333333333333333,
             "#9c179e"
            ],
            [
             0.4444444444444444,
             "#bd3786"
            ],
            [
             0.5555555555555556,
             "#d8576b"
            ],
            [
             0.6666666666666666,
             "#ed7953"
            ],
            [
             0.7777777777777778,
             "#fb9f3a"
            ],
            [
             0.8888888888888888,
             "#fdca26"
            ],
            [
             1,
             "#f0f921"
            ]
           ]
          },
          "colorway": [
           "#636efa",
           "#EF553B",
           "#00cc96",
           "#ab63fa",
           "#FFA15A",
           "#19d3f3",
           "#FF6692",
           "#B6E880",
           "#FF97FF",
           "#FECB52"
          ],
          "font": {
           "color": "#2a3f5f"
          },
          "geo": {
           "bgcolor": "white",
           "lakecolor": "white",
           "landcolor": "#E5ECF6",
           "showlakes": true,
           "showland": true,
           "subunitcolor": "white"
          },
          "hoverlabel": {
           "align": "left"
          },
          "hovermode": "closest",
          "mapbox": {
           "style": "light"
          },
          "paper_bgcolor": "white",
          "plot_bgcolor": "#E5ECF6",
          "polar": {
           "angularaxis": {
            "gridcolor": "white",
            "linecolor": "white",
            "ticks": ""
           },
           "bgcolor": "#E5ECF6",
           "radialaxis": {
            "gridcolor": "white",
            "linecolor": "white",
            "ticks": ""
           }
          },
          "scene": {
           "xaxis": {
            "backgroundcolor": "#E5ECF6",
            "gridcolor": "white",
            "gridwidth": 2,
            "linecolor": "white",
            "showbackground": true,
            "ticks": "",
            "zerolinecolor": "white"
           },
           "yaxis": {
            "backgroundcolor": "#E5ECF6",
            "gridcolor": "white",
            "gridwidth": 2,
            "linecolor": "white",
            "showbackground": true,
            "ticks": "",
            "zerolinecolor": "white"
           },
           "zaxis": {
            "backgroundcolor": "#E5ECF6",
            "gridcolor": "white",
            "gridwidth": 2,
            "linecolor": "white",
            "showbackground": true,
            "ticks": "",
            "zerolinecolor": "white"
           }
          },
          "shapedefaults": {
           "line": {
            "color": "#2a3f5f"
           }
          },
          "ternary": {
           "aaxis": {
            "gridcolor": "white",
            "linecolor": "white",
            "ticks": ""
           },
           "baxis": {
            "gridcolor": "white",
            "linecolor": "white",
            "ticks": ""
           },
           "bgcolor": "#E5ECF6",
           "caxis": {
            "gridcolor": "white",
            "linecolor": "white",
            "ticks": ""
           }
          },
          "title": {
           "x": 0.05
          },
          "xaxis": {
           "automargin": true,
           "gridcolor": "white",
           "linecolor": "white",
           "ticks": "",
           "title": {
            "standoff": 15
           },
           "zerolinecolor": "white",
           "zerolinewidth": 2
          },
          "yaxis": {
           "automargin": true,
           "gridcolor": "white",
           "linecolor": "white",
           "ticks": "",
           "title": {
            "standoff": 15
           },
           "zerolinecolor": "white",
           "zerolinewidth": 2
          }
         }
        },
        "title": {
         "text": "Batch loss"
        },
        "width": 600,
        "xaxis": {
         "anchor": "y",
         "domain": [
          0,
          1
         ],
         "title": {
          "text": "Batch Number"
         }
        },
        "yaxis": {
         "anchor": "x",
         "domain": [
          0,
          1
         ],
         "title": {
          "text": "MSE Loss"
         }
        }
       }
      }
     },
     "metadata": {},
     "output_type": "display_data"
    }
   ],
   "source": [
    "fig = px.line(df_losses, title=\"Batch loss\", labels={\"value\": \"MSE Loss\", \"index\": \"Batch Number\"})\n",
    "fig.update_layout(\n",
    "    width=600,\n",
    "    height=300,\n",
    "    margin=dict(l=20, r=20, t=40, b=20),\n",
    "    showlegend=False,\n",
    ")\n",
    "fig.write_image(\"../images/batch_loss.pdf\")\n",
    "fig.show()"
   ]
  },
  {
   "cell_type": "code",
   "execution_count": 175,
   "id": "e0aa5339",
   "metadata": {},
   "outputs": [
    {
     "data": {
      "text/plain": [
       "[<matplotlib.lines.Line2D at 0x7fbea8d2f710>]"
      ]
     },
     "execution_count": 175,
     "metadata": {},
     "output_type": "execute_result"
    },
    {
     "data": {
      "image/png": "[encoded data removed]",
      "text/plain": [
       "<Figure size 640x480 with 1 Axes>"
      ]
     },
     "metadata": {},
     "output_type": "display_data"
    }
   ],
   "source": [
    "plt.plot(batch_losses)"
   ]
  },
  {
   "cell_type": "code",
   "execution_count": 176,
   "id": "bac5807b",
   "metadata": {},
   "outputs": [
    {
     "data": {
      "text/plain": [
       "[<matplotlib.lines.Line2D at 0x7fbea8d84d70>]"
      ]
     },
     "execution_count": 176,
     "metadata": {},
     "output_type": "execute_result"
    },
    {
     "data": {
      "image/png": "[encoded data removed]",
      "text/plain": [
       "<Figure size 640x480 with 1 Axes>"
      ]
     },
     "metadata": {},
     "output_type": "display_data"
    }
   ],
   "source": [
    "plt.plot(losses)"
   ]
  },
  {
   "cell_type": "code",
   "execution_count": 177,
   "id": "95ffc20a",
   "metadata": {},
   "outputs": [],
   "source": [
    "def compare_orig_and_reconstructed(orig, recon, error, path=None):\n",
    "    # Revert normalization\n",
    "    orig = (orig + 1) / 2\n",
    "    recon = (recon + 1) / 2\n",
    "    diff = abs(recon - orig)\n",
    "\n",
    "    plt.subplot(1, 3, 1)\n",
    "    plt.title(\"Original\")\n",
    "    plt.imshow(np.transpose(orig[0], (1, 2, 0)))\n",
    "    plt.axis(\"off\")\n",
    "\n",
    "    plt.subplot(1, 3, 2)\n",
    "    plt.title(f\"Reconstructed ({error:.4f})\")\n",
    "    plt.imshow(np.transpose(recon[0], (1, 2, 0)))\n",
    "    plt.axis(\"off\")\n",
    "\n",
    "    plt.subplot(1, 3, 3)\n",
    "    plt.title(f\"Difference\")\n",
    "    plt.imshow(np.transpose(diff[0], (1, 2, 0)))\n",
    "    plt.axis(\"off\")\n",
    "\n",
    "    if path is not None:\n",
    "        plt.savefig(path, dpi=199, bbox_inches=\"tight\")\n",
    "    plt.show()"
   ]
  },
  {
   "cell_type": "code",
   "execution_count": 178,
   "id": "3d1df6e2",
   "metadata": {},
   "outputs": [],
   "source": [
    "def compute_reconstruction_error_from_path(img_path):\n",
    "    img = Image.open(img_path)\n",
    "    img_tensor = transform(img).unsqueeze(0).to(DEVICE)\n",
    "    with torch.no_grad():\n",
    "        output = model(img_tensor)\n",
    "    loss = criterion(output, img_tensor).item()\n",
    "    return loss, img_tensor.cpu(), output.cpu()"
   ]
  },
  {
   "cell_type": "code",
   "execution_count": 179,
   "id": "a955bb97",
   "metadata": {},
   "outputs": [],
   "source": [
    "import torch.nn.functional as F\n",
    "\n",
    "def compute_reconstruction_error(original, reconstructed):\n",
    "    # Mean squared error per sample\n",
    "    errors = F.mse_loss(reconstructed, original, reduction='none')\n",
    "    errors = errors.view(errors.size(0), -1).mean(dim=1)  # (B,)\n",
    "    return errors"
   ]
  },
  {
   "cell_type": "code",
   "execution_count": 180,
   "id": "27afb0a1",
   "metadata": {},
   "outputs": [
    {
     "data": {
      "text/plain": [
       "np.float32(0.009129157)"
      ]
     },
     "execution_count": 180,
     "metadata": {},
     "output_type": "execute_result"
    }
   ],
   "source": [
    "# Run model on validation set\n",
    "model.eval()\n",
    "all_errors = []\n",
    "with torch.no_grad():\n",
    "    for batch in val_loader:\n",
    "        imgs = batch.to(DEVICE)\n",
    "        recon = model(imgs)\n",
    "        errors = compute_reconstruction_error(imgs, recon)\n",
    "        all_errors.extend(errors.cpu().numpy())\n",
    "\n",
    "# Set threshold to 95th percentile of normal reconstruction error\n",
    "import numpy as np\n",
    "threshold = np.percentile(all_errors, 95)\n",
    "threshold"
   ]
  },
  {
   "cell_type": "code",
   "execution_count": 181,
   "id": "e50a0f81",
   "metadata": {},
   "outputs": [
    {
     "name": "stdout",
     "output_type": "stream",
     "text": [
      "Reconstruction error: 0.0018\n"
     ]
    },
    {
     "data": {
      "image/png": "[encoded data removed]",
      "text/plain": [
       "<Figure size 640x480 with 3 Axes>"
      ]
     },
     "metadata": {},
     "output_type": "display_data"
    },
    {
     "name": "stdout",
     "output_type": "stream",
     "text": [
      "Reconstruction error: 0.1491\n"
     ]
    },
    {
     "data": {
      "image/png": "[encoded data removed]",
      "text/plain": [
       "<Figure size 640x480 with 3 Axes>"
      ]
     },
     "metadata": {},
     "output_type": "display_data"
    },
    {
     "name": "stdout",
     "output_type": "stream",
     "text": [
      "Reconstruction error: 0.0085\n"
     ]
    },
    {
     "data": {
      "image/png": "[encoded data removed]",
      "text/plain": [
       "<Figure size 640x480 with 3 Axes>"
      ]
     },
     "metadata": {},
     "output_type": "display_data"
    },
    {
     "name": "stdout",
     "output_type": "stream",
     "text": [
      "Reconstruction error: 0.0042\n"
     ]
    },
    {
     "data": {
      "image/png": "[encoded data removed]",
      "text/plain": [
       "<Figure size 640x480 with 3 Axes>"
      ]
     },
     "metadata": {},
     "output_type": "display_data"
    }
   ],
   "source": [
    "# Example\n",
    "error, orig, recon = compute_reconstruction_error_from_path(\"marble/test/good/_0_0_20210525_15434.jpg\")\n",
    "print(f\"Reconstruction error: {error:.4f}\")\n",
    "compare_orig_and_reconstructed(orig, recon, error, \"../images/rec_good.png\")\n",
    "\n",
    "error, orig, recon = compute_reconstruction_error_from_path(\"marble/test/crack/_0_0_20210531_17292_0.jpg\")\n",
    "print(f\"Reconstruction error: {error:.4f}\")\n",
    "compare_orig_and_reconstructed(orig, recon, error, \"../images/rec_crack.png\")\n",
    "\n",
    "error, orig, recon = compute_reconstruction_error_from_path(\"marble/test/joint/_0_4352_20210525_15441_1.jpg\")\n",
    "print(f\"Reconstruction error: {error:.4f}\")\n",
    "compare_orig_and_reconstructed(orig, recon, error, \"../images/rec_joint.png\")\n",
    "\n",
    "error, orig, recon = compute_reconstruction_error_from_path(\"marble/test/dot/_0_2560_20210531_10521_0.jpg\")\n",
    "print(f\"Reconstruction error: {error:.4f}\")\n",
    "compare_orig_and_reconstructed(orig, recon, error, \"../images/rec_dot.png\")"
   ]
  },
  {
   "cell_type": "code",
   "execution_count": 182,
   "id": "2bb5056a",
   "metadata": {},
   "outputs": [],
   "source": [
    "from numpy import mean\n",
    "\n",
    "\n",
    "def compute_mean_reconstruction_error(directory, error_thresh = None):\n",
    "    recon_errors = []\n",
    "    for file_name in os.listdir(directory):\n",
    "        error, orig, recon = compute_reconstruction_error_from_path(os.path.join(directory, file_name))\n",
    "        if error_thresh is not None:\n",
    "            if error > error_thresh:\n",
    "                print(error)\n",
    "                compare_orig_and_reconstructed(orig, recon)\n",
    "        recon_errors.append(error)\n",
    "    return mean(recon_errors), min(recon_errors), max(recon_errors)"
   ]
  },
  {
   "cell_type": "code",
   "execution_count": 183,
   "id": "338a0497",
   "metadata": {},
   "outputs": [
    {
     "data": {
      "text/plain": [
       "np.float32(0.009129157)"
      ]
     },
     "execution_count": 183,
     "metadata": {},
     "output_type": "execute_result"
    }
   ],
   "source": [
    "threshold"
   ]
  },
  {
   "cell_type": "code",
   "execution_count": 184,
   "id": "d5291576",
   "metadata": {},
   "outputs": [
    {
     "name": "stdout",
     "output_type": "stream",
     "text": [
      "(np.float64(0.002009283042399843), 0.0003183933440595865, 0.02120939828455448)\n",
      "(np.float64(0.041181357417372055), 0.001021543052047491, 0.33207467198371887)\n",
      "(np.float64(0.01833337511810119), 0.0006712108734063804, 0.1604766845703125)\n",
      "(np.float64(0.011069878094813562), 0.0006020698347128928, 0.07066803425550461)\n"
     ]
    }
   ],
   "source": [
    "print(compute_mean_reconstruction_error(\"marble/test/good\"))\n",
    "print(compute_mean_reconstruction_error(\"marble/test/crack\"))\n",
    "print(compute_mean_reconstruction_error(\"marble/test/joint\"))\n",
    "print(compute_mean_reconstruction_error(\"marble/test/dot\"))"
   ]
  },
  {
   "cell_type": "code",
   "execution_count": 185,
   "id": "e296516d",
   "metadata": {},
   "outputs": [],
   "source": [
    "def is_anomaly(original, reconstructed, threshold):\n",
    "    errors = compute_reconstruction_error(original, reconstructed).cpu().numpy()\n",
    "    return errors > threshold  # Boolean tensor"
   ]
  },
  {
   "cell_type": "code",
   "execution_count": 186,
   "id": "c9966847",
   "metadata": {},
   "outputs": [],
   "source": [
    "results = {\n",
    "    \"good\": {\"tp\": 0, \"tn\": 0, \"fp\": 0, \"fn\": 0, \"total\": 0},\n",
    "    \"crack\": {\"tp\": 0, \"tn\": 0, \"fp\": 0, \"fn\": 0, \"total\": 0},\n",
    "    \"joint\": {\"tp\": 0, \"tn\": 0, \"fp\": 0, \"fn\": 0, \"total\": 0},\n",
    "    \"dot\": {\"tp\": 0, \"tn\": 0, \"fp\": 0, \"fn\": 0, \"total\": 0},\n",
    "}\n",
    "\n",
    "for directory, anomaly in [\n",
    "    (\"marble/test/good\", False),\n",
    "    (\"marble/test/crack\", True),\n",
    "    (\"marble/test/joint\", True),\n",
    "    (\"marble/test/dot\", True),\n",
    "]:\n",
    "    for img_path in os.listdir(directory):\n",
    "        img = Image.open(os.path.join(directory, img_path))\n",
    "        img_tensor = transform(img).unsqueeze(0).to(DEVICE)\n",
    "        with torch.no_grad():\n",
    "            output = model(img_tensor)\n",
    "        pred = is_anomaly(img_tensor, output, threshold=threshold)\n",
    "        results[directory.split(\"/\")[-1]][\"total\"] += 1\n",
    "        if anomaly:\n",
    "            if pred:\n",
    "                results[directory.split(\"/\")[-1]][\"tp\"] += 1\n",
    "            else:\n",
    "                results[directory.split(\"/\")[-1]][\"fn\"] += 1\n",
    "        else:\n",
    "            if pred:\n",
    "                results[directory.split(\"/\")[-1]][\"fp\"] += 1\n",
    "            else:\n",
    "                results[directory.split(\"/\")[-1]][\"tn\"] += 1"
   ]
  },
  {
   "cell_type": "code",
   "execution_count": 187,
   "id": "26237b90",
   "metadata": {},
   "outputs": [
    {
     "data": {
      "text/plain": [
       "{'good': {'tp': 0, 'tn': 329, 'fp': 11, 'fn': 0, 'total': 340},\n",
       " 'crack': {'tp': 207, 'tn': 0, 'fp': 0, 'fn': 81, 'total': 288},\n",
       " 'joint': {'tp': 237, 'tn': 0, 'fp': 0, 'fn': 154, 'total': 391},\n",
       " 'dot': {'tp': 44, 'tn': 0, 'fp': 0, 'fn': 72, 'total': 116}}"
      ]
     },
     "execution_count": 187,
     "metadata": {},
     "output_type": "execute_result"
    }
   ],
   "source": [
    "results"
   ]
  },
  {
   "cell_type": "markdown",
   "id": "61a54751",
   "metadata": {},
   "source": [
    "# Precision Recall Curve"
   ]
  },
  {
   "cell_type": "code",
   "execution_count": 188,
   "id": "dd36a3e0",
   "metadata": {},
   "outputs": [],
   "source": [
    "all_anomaly_scores = {\n",
    "    \"good\": [],\n",
    "    \"crack\": [],\n",
    "    \"joint\": [],\n",
    "    \"dot\": [],\n",
    "}\n",
    "\n",
    "for directory, anomaly in [\n",
    "    (\"marble/test/good\", False),\n",
    "    (\"marble/test/crack\", True),\n",
    "    (\"marble/test/joint\", True),\n",
    "    (\"marble/test/dot\", True),\n",
    "]:\n",
    "    for img_path in os.listdir(directory):\n",
    "        img = Image.open(os.path.join(directory, img_path))\n",
    "        img_tensor = transform(img).unsqueeze(0).to(DEVICE)\n",
    "        with torch.no_grad():\n",
    "            output = model(img_tensor)\n",
    "        anomaly_score = compute_reconstruction_error(img_tensor, output).cpu().numpy().item()\n",
    "        all_anomaly_scores[directory.split(\"/\")[-1]].append(anomaly_score)"
   ]
  },
  {
   "cell_type": "code",
   "execution_count": 189,
   "id": "b3317f89",
   "metadata": {},
   "outputs": [],
   "source": [
    "def calculate_precision_recall(good_scores, anomaly_scores, threshold):\n",
    "    tp = len([sc for sc in anomaly_scores if sc > threshold])\n",
    "    fn = len(anomaly_scores) - tp\n",
    "    tn = len([sc for sc in good_scores if sc < threshold])\n",
    "    fp = len(good_scores) - tn\n",
    "    \n",
    "    precision = tp / (tp + fp)\n",
    "    recall = tp / (tp + fn)\n",
    "    return precision, recall\n"
   ]
  },
  {
   "cell_type": "code",
   "execution_count": 190,
   "id": "ccc5872f",
   "metadata": {},
   "outputs": [],
   "source": [
    "def calculate_tpr_fpr(good_scores, anomaly_scores, threshold):\n",
    "    tp = len([sc for sc in anomaly_scores if sc > threshold])\n",
    "    fn = len(anomaly_scores) - tp\n",
    "    tn = len([sc for sc in good_scores if sc < threshold])\n",
    "    fp = len(good_scores) - tn\n",
    "    \n",
    "    fpr = fp / (fp + tn)\n",
    "    tpr = tp / (tp + fn)\n",
    "    return fpr, tpr"
   ]
  },
  {
   "cell_type": "code",
   "execution_count": 191,
   "id": "94af7de7",
   "metadata": {},
   "outputs": [],
   "source": [
    "good_scores = all_anomaly_scores[\"good\"]\n",
    "anomaly_scores = all_anomaly_scores[\"crack\"] + all_anomaly_scores[\"dot\"] + all_anomaly_scores[\"joint\"]\n",
    "\n",
    "percentile_0 = np.percentile(good_scores, 0)\n",
    "percentile_100 = np.percentile(good_scores, 100)\n",
    "\n",
    "\n",
    "threshs_precisions_recalls = []\n",
    "threshs_tprs_fprs = []\n",
    "for thresh in np.arange(percentile_0, percentile_100, (percentile_100 - percentile_0) / 100):\n",
    "    precision, recall = calculate_precision_recall(good_scores, anomaly_scores, thresh)\n",
    "    tpr, fpr = calculate_tpr_fpr(good_scores, anomaly_scores, thresh)\n",
    "    threshs_precisions_recalls.append({\"thresh\": thresh, \"Precision\": precision, \"Recall\": recall})\n",
    "    threshs_tprs_fprs.append({\"thresh\": thresh, \"TPR\": tpr, \"FPR\": fpr})\n"
   ]
  },
  {
   "cell_type": "code",
   "execution_count": 192,
   "id": "c461728b",
   "metadata": {},
   "outputs": [
    {
     "data": {
      "text/html": [
       "<div>\n",
       "<style scoped>\n",
       "    .dataframe tbody tr th:only-of-type {\n",
       "        vertical-align: middle;\n",
       "    }\n",
       "\n",
       "    .dataframe tbody tr th {\n",
       "        vertical-align: top;\n",
       "    }\n",
       "\n",
       "    .dataframe thead th {\n",
       "        text-align: right;\n",
       "    }\n",
       "</style>\n",
       "<table border=\"1\" class=\"dataframe\">\n",
       "  <thead>\n",
       "    <tr style=\"text-align: right;\">\n",
       "      <th></th>\n",
       "      <th>thresh</th>\n",
       "      <th>Precision</th>\n",
       "      <th>Recall</th>\n",
       "    </tr>\n",
       "  </thead>\n",
       "  <tbody>\n",
       "    <tr>\n",
       "      <th>0</th>\n",
       "      <td>0.000318</td>\n",
       "      <td>0.700441</td>\n",
       "      <td>1.0</td>\n",
       "    </tr>\n",
       "    <tr>\n",
       "      <th>1</th>\n",
       "      <td>0.000527</td>\n",
       "      <td>0.716862</td>\n",
       "      <td>1.0</td>\n",
       "    </tr>\n",
       "  </tbody>\n",
       "</table>\n",
       "</div>"
      ],
      "text/plain": [
       "     thresh  Precision  Recall\n",
       "0  0.000318   0.700441     1.0\n",
       "1  0.000527   0.716862     1.0"
      ]
     },
     "execution_count": 192,
     "metadata": {},
     "output_type": "execute_result"
    }
   ],
   "source": [
    "df_precision_recall_curve = pd.DataFrame(threshs_precisions_recalls)\n",
    "df_precision_recall_curve.head(2)"
   ]
  },
  {
   "cell_type": "code",
   "execution_count": 193,
   "id": "221d850b",
   "metadata": {},
   "outputs": [
    {
     "data": {
      "application/vnd.plotly.v1+json": {
       "config": {
        "plotlyServerURL": "https://plot.ly"
       },
       "data": [
        {
         "hovertemplate": "Recall=%{x}<br>Precision=%{y}<extra></extra>",
         "legendgroup": "",
         "line": {
          "color": "#636efa",
          "dash": "solid"
         },
         "marker": {
          "symbol": "circle"
         },
         "mode": "lines",
         "name": "",
         "orientation": "v",
         "showlegend": false,
         "type": "scatter",
         "x": {
          "bdata": "AAAAAAAA8D8AAAAAAADwP742Yl16zO8/oqtxzaaO7z/42oh16THvPwKORfjH6e4/pDm3xW547j/6aM5tsRvuP1CY5RX0vu0/GIIE9kxD7T+KPAwuYyTtP1ImKw68qOw/QE73AMci7D9KAbSDpdrrP8ZueD6ac+s/jliXHvP36j/kh67GNZvqPxR5GFzGSOo/HizV3qQA6j9Y0Pv2E2bpP67/Ep9WCek/3vB8NOe26D+AnO4BjkXoP2QR/nG6B+g/R4YN4ubJ5z/ffsIsr6DnP6do4QwIJec/sRuej+bc5j8j1qXH/L3mP7vOWhLFlOY/eQW9bz9h5j+p9iYF0A7mPyVk67/Ep+U/LxeoQqNf5T/tTQqgHSzlP/cAxyL84+Q/j/l7bcS65D8BtIOl2pvkP+UokxUHXuQ/yZ2ihTMg5D/v20+Y5RXkP9NQXwgS2OM/kYfBZYyk4z/dAxyL8I/jP0++I8MGceM/dfzQ1bhm4z8N9YUggT3jP3+vjViXHuM/yyvoffsJ4z9jJJ3Iw+DiPyFb/yU+reI/35Fhg7h54j/DBnHz5DviP/P32oh16eE/sS495u+14T/9qpcLVKHhP29ln0NqguE/b2WfQ2qC4T/hH6d7gGPhP8WUtuusJeE/N0++I8MG4T/PR3Nui93gP41+1csFquA/cfPkOzJs4D9VaPSrXi7gP6HkTtHCGeA/7WCp9iYF4D8Ks7yC3rffP+4nzPIKet8/0pzbYjc83z+2EevSY/7eP5qG+kKQwN4/Mn+vjViX3j+u7HNITTDeP5Jhg7h58t0/Klo4A0LJ3T/CUu1NCqDdP1pLopjSdt0/PsCxCP843T9usRuej+bcP1ImKw68qNw/6h7gWIR/3D+CF5WjTFbcP/6EWV5B79s/xm54Pppz2z+OWJce8/faP75JAbSDpdo/OrfFbng+2j9qqC8ECezZPwKh5E7Rwtk/rv8Sn1YJ2T9G+MfpHuDYP3bpMX+vjdg/wmWMpBN52D/yVvY5pCbYPyFIYM801Nc/uUAVGv2q1z+BKjT6VS/XP7Ebno/m3NY/lZCt/xKf1j8=",
          "dtype": "f8"
         },
         "xaxis": "x",
         "y": {
          "bdata": "jeFoQQJq5j9N7QyoiPDmP+g8wI6Sfuc/CU/LzXZb6D9X3yTvr4PpP9fV+NlJdOo/hpdlYF5P6z9mcwwl0mTsP8nK7FBbFu0/tX6lQK1f7T/O8iQyDdvtP45hTo+G8O0/Rzg2zeH77T9kv4zRyDXuP/NBK0smOu4//9V7DkhT7j9Zfug/4ljuP6xfANtOge4/Z1DkIgyg7j+YxoBpDJjuP40Df04xq+4/MzMzMzOz7j+Ln5hFYa3uP0JFuKVmw+4/IfAtKv/Z7j9RXkN5DeXuP4iSZmH3+e4/BkWdXF4E7z9fmLPhEgPvP0GPlJBTAe8/68Wp1PQM7z8+mPDZgwnvP1HwZekSBe8/iD9uXd4B7z/9PeF03RzvP/KMZzzjGe8/V/Y5pCYY7z+1CiNE9iXvPzdyIzdyI+8/BvMZzGcw7z9PT09PT0/vP9M0TdM0Te8/L8xGMmpL7z9ba6211lrvP5qIboSGeu8/EtOeyEB67z9gb6nTw4nvP3AHiW8Hie8/iYiIiIiI7z+Ih4eHh4fvP0txyNhrl+8/lr9k+UuW7z9A6pQ/6pTvP5M/MPkDk+8/jvxcMcuR7z8V+awbTJHvP+Sv2VGLkO8/5K/ZUYuQ7z/8+PHjx4/vP+Q4juM4ju8/eoTqM22N7z+Mv/IlWYzvP7D4iq/4iu8/+RklfkaJ7z9BKEB2XJvvP1ikDDzdmu8/wijg0Hyu7z++NHEYq63vP8BliQQLre8/GmjXUSXB7z8YVz/oqMDvP3fNS44qwO8/B4vQONW/7z/w+77v+77vP1g5tMh2vu8/doRj0xy+7z/0asflwb3vP71f1vtlve8/Mv2TwRzT7z/MueptndLvP5B5KRE80u8//ehHP/rR7z9DcgGvt9HvP3TK3O8N0e8/gf4C+gvo7z96nud5nufvPwyU8EZT5+8/b/7tsPLm7z+IHPREo+bvPz9x8tB65u8/XL7lW77l7z/mL1n+kuXvP5A65Y865e8/cGuAFyTl7z/5J7W3yOTvPwHn1OFq5O8/wneaAjvk7z+28i5rp+PvPzT+aZJB4+8/QJFwSvPi7z8=",
          "dtype": "f8"
         },
         "yaxis": "y"
        }
       ],
       "layout": {
        "height": 600,
        "legend": {
         "tracegroupgap": 0
        },
        "margin": {
         "b": 20,
         "l": 20,
         "r": 20,
         "t": 60
        },
        "showlegend": false,
        "template": {
         "data": {
          "bar": [
           {
            "error_x": {
             "color": "#2a3f5f"
            },
            "error_y": {
             "color": "#2a3f5f"
            },
            "marker": {
             "line": {
              "color": "#E5ECF6",
              "width": 0.5
             },
             "pattern": {
              "fillmode": "overlay",
              "size": 10,
              "solidity": 0.2
             }
            },
            "type": "bar"
           }
          ],
          "barpolar": [
           {
            "marker": {
             "line": {
              "color": "#E5ECF6",
              "width": 0.5
             },
             "pattern": {
              "fillmode": "overlay",
              "size": 10,
              "solidity": 0.2
             }
            },
            "type": "barpolar"
           }
          ],
          "carpet": [
           {
            "aaxis": {
             "endlinecolor": "#2a3f5f",
             "gridcolor": "white",
             "linecolor": "white",
             "minorgridcolor": "white",
             "startlinecolor": "#2a3f5f"
            },
            "baxis": {
             "endlinecolor": "#2a3f5f",
             "gridcolor": "white",
             "linecolor": "white",
             "minorgridcolor": "white",
             "startlinecolor": "#2a3f5f"
            },
            "type": "carpet"
           }
          ],
          "choropleth": [
           {
            "colorbar": {
             "outlinewidth": 0,
             "ticks": ""
            },
            "type": "choropleth"
           }
          ],
          "contour": [
           {
            "colorbar": {
             "outlinewidth": 0,
             "ticks": ""
            },
            "colorscale": [
             [
              0,
              "#0d0887"
             ],
             [
              0.1111111111111111,
              "#46039f"
             ],
             [
              0.2222222222222222,
              "#7201a8"
             ],
             [
              0.3333333333333333,
              "#9c179e"
             ],
             [
              0.4444444444444444,
              "#bd3786"
             ],
             [
              0.5555555555555556,
              "#d8576b"
             ],
             [
              0.6666666666666666,
              "#ed7953"
             ],
             [
              0.7777777777777778,
              "#fb9f3a"
             ],
             [
              0.8888888888888888,
              "#fdca26"
             ],
             [
              1,
              "#f0f921"
             ]
            ],
            "type": "contour"
           }
          ],
          "contourcarpet": [
           {
            "colorbar": {
             "outlinewidth": 0,
             "ticks": ""
            },
            "type": "contourcarpet"
           }
          ],
          "heatmap": [
           {
            "colorbar": {
             "outlinewidth": 0,
             "ticks": ""
            },
            "colorscale": [
             [
              0,
              "#0d0887"
             ],
             [
              0.1111111111111111,
              "#46039f"
             ],
             [
              0.2222222222222222,
              "#7201a8"
             ],
             [
              0.3333333333333333,
              "#9c179e"
             ],
             [
              0.4444444444444444,
              "#bd3786"
             ],
             [
              0.5555555555555556,
              "#d8576b"
             ],
             [
              0.6666666666666666,
              "#ed7953"
             ],
             [
              0.7777777777777778,
              "#fb9f3a"
             ],
             [
              0.8888888888888888,
              "#fdca26"
             ],
             [
              1,
              "#f0f921"
             ]
            ],
            "type": "heatmap"
           }
          ],
          "histogram": [
           {
            "marker": {
             "pattern": {
              "fillmode": "overlay",
              "size": 10,
              "solidity": 0.2
             }
            },
            "type": "histogram"
           }
          ],
          "histogram2d": [
           {
            "colorbar": {
             "outlinewidth": 0,
             "ticks": ""
            },
            "colorscale": [
             [
              0,
              "#0d0887"
             ],
             [
              0.1111111111111111,
              "#46039f"
             ],
             [
              0.2222222222222222,
              "#7201a8"
             ],
             [
              0.3333333333333333,
              "#9c179e"
             ],
             [
              0.4444444444444444,
              "#bd3786"
             ],
             [
              0.5555555555555556,
              "#d8576b"
             ],
             [
              0.6666666666666666,
              "#ed7953"
             ],
             [
              0.7777777777777778,
              "#fb9f3a"
             ],
             [
              0.8888888888888888,
              "#fdca26"
             ],
             [
              1,
              "#f0f921"
             ]
            ],
            "type": "histogram2d"
           }
          ],
          "histogram2dcontour": [
           {
            "colorbar": {
             "outlinewidth": 0,
             "ticks": ""
            },
            "colorscale": [
             [
              0,
              "#0d0887"
             ],
             [
              0.1111111111111111,
              "#46039f"
             ],
             [
              0.2222222222222222,
              "#7201a8"
             ],
             [
              0.3333333333333333,
              "#9c179e"
             ],
             [
              0.4444444444444444,
              "#bd3786"
             ],
             [
              0.5555555555555556,
              "#d8576b"
             ],
             [
              0.6666666666666666,
              "#ed7953"
             ],
             [
              0.7777777777777778,
              "#fb9f3a"
             ],
             [
              0.8888888888888888,
              "#fdca26"
             ],
             [
              1,
              "#f0f921"
             ]
            ],
            "type": "histogram2dcontour"
           }
          ],
          "mesh3d": [
           {
            "colorbar": {
             "outlinewidth": 0,
             "ticks": ""
            },
            "type": "mesh3d"
           }
          ],
          "parcoords": [
           {
            "line": {
             "colorbar": {
              "outlinewidth": 0,
              "ticks": ""
             }
            },
            "type": "parcoords"
           }
          ],
          "pie": [
           {
            "automargin": true,
            "type": "pie"
           }
          ],
          "scatter": [
           {
            "fillpattern": {
             "fillmode": "overlay",
             "size": 10,
             "solidity": 0.2
            },
            "type": "scatter"
           }
          ],
          "scatter3d": [
           {
            "line": {
             "colorbar": {
              "outlinewidth": 0,
              "ticks": ""
             }
            },
            "marker": {
             "colorbar": {
              "outlinewidth": 0,
              "ticks": ""
             }
            },
            "type": "scatter3d"
           }
          ],
          "scattercarpet": [
           {
            "marker": {
             "colorbar": {
              "outlinewidth": 0,
              "ticks": ""
             }
            },
            "type": "scattercarpet"
           }
          ],
          "scattergeo": [
           {
            "marker": {
             "colorbar": {
              "outlinewidth": 0,
              "ticks": ""
             }
            },
            "type": "scattergeo"
           }
          ],
          "scattergl": [
           {
            "marker": {
             "colorbar": {
              "outlinewidth": 0,
              "ticks": ""
             }
            },
            "type": "scattergl"
           }
          ],
          "scattermap": [
           {
            "marker": {
             "colorbar": {
              "outlinewidth": 0,
              "ticks": ""
             }
            },
            "type": "scattermap"
           }
          ],
          "scattermapbox": [
           {
            "marker": {
             "colorbar": {
              "outlinewidth": 0,
              "ticks": ""
             }
            },
            "type": "scattermapbox"
           }
          ],
          "scatterpolar": [
           {
            "marker": {
             "colorbar": {
              "outlinewidth": 0,
              "ticks": ""
             }
            },
            "type": "scatterpolar"
           }
          ],
          "scatterpolargl": [
           {
            "marker": {
             "colorbar": {
              "outlinewidth": 0,
              "ticks": ""
             }
            },
            "type": "scatterpolargl"
           }
          ],
          "scatterternary": [
           {
            "marker": {
             "colorbar": {
              "outlinewidth": 0,
              "ticks": ""
             }
            },
            "type": "scatterternary"
           }
          ],
          "surface": [
           {
            "colorbar": {
             "outlinewidth": 0,
             "ticks": ""
            },
            "colorscale": [
             [
              0,
              "#0d0887"
             ],
             [
              0.1111111111111111,
              "#46039f"
             ],
             [
              0.2222222222222222,
              "#7201a8"
             ],
             [
              0.3333333333333333,
              "#9c179e"
             ],
             [
              0.4444444444444444,
              "#bd3786"
             ],
             [
              0.5555555555555556,
              "#d8576b"
             ],
             [
              0.6666666666666666,
              "#ed7953"
             ],
             [
              0.7777777777777778,
              "#fb9f3a"
             ],
             [
              0.8888888888888888,
              "#fdca26"
             ],
             [
              1,
              "#f0f921"
             ]
            ],
            "type": "surface"
           }
          ],
          "table": [
           {
            "cells": {
             "fill": {
              "color": "#EBF0F8"
             },
             "line": {
              "color": "white"
             }
            },
            "header": {
             "fill": {
              "color": "#C8D4E3"
             },
             "line": {
              "color": "white"
             }
            },
            "type": "table"
           }
          ]
         },
         "layout": {
          "annotationdefaults": {
           "arrowcolor": "#2a3f5f",
           "arrowhead": 0,
           "arrowwidth": 1
          },
          "autotypenumbers": "strict",
          "coloraxis": {
           "colorbar": {
            "outlinewidth": 0,
            "ticks": ""
           }
          },
          "colorscale": {
           "diverging": [
            [
             0,
             "#8e0152"
            ],
            [
             0.1,
             "#c51b7d"
            ],
            [
             0.2,
             "#de77ae"
            ],
            [
             0.3,
             "#f1b6da"
            ],
            [
             0.4,
             "#fde0ef"
            ],
            [
             0.5,
             "#f7f7f7"
            ],
            [
             0.6,
             "#e6f5d0"
            ],
            [
             0.7,
             "#b8e186"
            ],
            [
             0.8,
             "#7fbc41"
            ],
            [
             0.9,
             "#4d9221"
            ],
            [
             1,
             "#276419"
            ]
           ],
           "sequential": [
            [
             0,
             "#0d0887"
            ],
            [
             0.1111111111111111,
             "#46039f"
            ],
            [
             0.2222222222222222,
             "#7201a8"
            ],
            [
             0.3333333333333333,
             "#9c179e"
            ],
            [
             0.4444444444444444,
             "#bd3786"
            ],
            [
             0.5555555555555556,
             "#d8576b"
            ],
            [
             0.6666666666666666,
             "#ed7953"
            ],
            [
             0.7777777777777778,
             "#fb9f3a"
            ],
            [
             0.8888888888888888,
             "#fdca26"
            ],
            [
             1,
             "#f0f921"
            ]
           ],
           "sequentialminus": [
            [
             0,
             "#0d0887"
            ],
            [
             0.1111111111111111,
             "#46039f"
            ],
            [
             0.2222222222222222,
             "#7201a8"
            ],
            [
             0.3333333333333333,
             "#9c179e"
            ],
            [
             0.4444444444444444,
             "#bd3786"
            ],
            [
             0.5555555555555556,
             "#d8576b"
            ],
            [
             0.6666666666666666,
             "#ed7953"
            ],
            [
             0.7777777777777778,
             "#fb9f3a"
            ],
            [
             0.8888888888888888,
             "#fdca26"
            ],
            [
             1,
             "#f0f921"
            ]
           ]
          },
          "colorway": [
           "#636efa",
           "#EF553B",
           "#00cc96",
           "#ab63fa",
           "#FFA15A",
           "#19d3f3",
           "#FF6692",
           "#B6E880",
           "#FF97FF",
           "#FECB52"
          ],
          "font": {
           "color": "#2a3f5f"
          },
          "geo": {
           "bgcolor": "white",
           "lakecolor": "white",
           "landcolor": "#E5ECF6",
           "showlakes": true,
           "showland": true,
           "subunitcolor": "white"
          },
          "hoverlabel": {
           "align": "left"
          },
          "hovermode": "closest",
          "mapbox": {
           "style": "light"
          },
          "paper_bgcolor": "white",
          "plot_bgcolor": "#E5ECF6",
          "polar": {
           "angularaxis": {
            "gridcolor": "white",
            "linecolor": "white",
            "ticks": ""
           },
           "bgcolor": "#E5ECF6",
           "radialaxis": {
            "gridcolor": "white",
            "linecolor": "white",
            "ticks": ""
           }
          },
          "scene": {
           "xaxis": {
            "backgroundcolor": "#E5ECF6",
            "gridcolor": "white",
            "gridwidth": 2,
            "linecolor": "white",
            "showbackground": true,
            "ticks": "",
            "zerolinecolor": "white"
           },
           "yaxis": {
            "backgroundcolor": "#E5ECF6",
            "gridcolor": "white",
            "gridwidth": 2,
            "linecolor": "white",
            "showbackground": true,
            "ticks": "",
            "zerolinecolor": "white"
           },
           "zaxis": {
            "backgroundcolor": "#E5ECF6",
            "gridcolor": "white",
            "gridwidth": 2,
            "linecolor": "white",
            "showbackground": true,
            "ticks": "",
            "zerolinecolor": "white"
           }
          },
          "shapedefaults": {
           "line": {
            "color": "#2a3f5f"
           }
          },
          "ternary": {
           "aaxis": {
            "gridcolor": "white",
            "linecolor": "white",
            "ticks": ""
           },
           "baxis": {
            "gridcolor": "white",
            "linecolor": "white",
            "ticks": ""
           },
           "bgcolor": "#E5ECF6",
           "caxis": {
            "gridcolor": "white",
            "linecolor": "white",
            "ticks": ""
           }
          },
          "title": {
           "x": 0.05
          },
          "xaxis": {
           "automargin": true,
           "gridcolor": "white",
           "linecolor": "white",
           "ticks": "",
           "title": {
            "standoff": 15
           },
           "zerolinecolor": "white",
           "zerolinewidth": 2
          },
          "yaxis": {
           "automargin": true,
           "gridcolor": "white",
           "linecolor": "white",
           "ticks": "",
           "title": {
            "standoff": 15
           },
           "zerolinecolor": "white",
           "zerolinewidth": 2
          }
         }
        },
        "title": {
         "font": {
          "size": 30
         },
         "text": "Precision Recall Curve"
        },
        "width": 600,
        "xaxis": {
         "anchor": "y",
         "domain": [
          0,
          1
         ],
         "tickfont": {
          "size": 15
         },
         "title": {
          "font": {
           "size": 20
          },
          "text": "Recall"
         }
        },
        "yaxis": {
         "anchor": "x",
         "domain": [
          0,
          1
         ],
         "range": [
          0,
          1
         ],
         "tickfont": {
          "size": 15
         },
         "title": {
          "font": {
           "size": 20
          },
          "text": "Precision"
         }
        }
       }
      }
     },
     "metadata": {},
     "output_type": "display_data"
    }
   ],
   "source": [
    "fig = px.line(df_precision_recall_curve, x=\"Recall\", y=\"Precision\", width=600, height=600, title=\"Precision Recall Curve\")\n",
    "fig.update_layout(\n",
    "    yaxis_range=[0, 1],\n",
    "    margin=dict(l=20, r=20, t=60, b=20),\n",
    "    showlegend=False,\n",
    "    title=dict(font=dict(size=30)),\n",
    "    yaxis=dict(tickfont=dict(size=15), title_font=dict(size=20)),\n",
    "    xaxis=dict(tickfont=dict(size=15), title_font=dict(size=20)),\n",
    ")\n",
    "fig.write_image(\"../images/precision_recall_curve.pdf\")\n",
    "fig.show()"
   ]
  },
  {
   "cell_type": "code",
   "execution_count": 194,
   "id": "d4faf3b5",
   "metadata": {},
   "outputs": [
    {
     "data": {
      "text/html": [
       "<div>\n",
       "<style scoped>\n",
       "    .dataframe tbody tr th:only-of-type {\n",
       "        vertical-align: middle;\n",
       "    }\n",
       "\n",
       "    .dataframe tbody tr th {\n",
       "        vertical-align: top;\n",
       "    }\n",
       "\n",
       "    .dataframe thead th {\n",
       "        text-align: right;\n",
       "    }\n",
       "</style>\n",
       "<table border=\"1\" class=\"dataframe\">\n",
       "  <thead>\n",
       "    <tr style=\"text-align: right;\">\n",
       "      <th></th>\n",
       "      <th>thresh</th>\n",
       "      <th>TPR</th>\n",
       "      <th>FPR</th>\n",
       "    </tr>\n",
       "  </thead>\n",
       "  <tbody>\n",
       "    <tr>\n",
       "      <th>0</th>\n",
       "      <td>0.000318</td>\n",
       "      <td>1.000000</td>\n",
       "      <td>1.0</td>\n",
       "    </tr>\n",
       "    <tr>\n",
       "      <th>1</th>\n",
       "      <td>0.000527</td>\n",
       "      <td>0.923529</td>\n",
       "      <td>1.0</td>\n",
       "    </tr>\n",
       "  </tbody>\n",
       "</table>\n",
       "</div>"
      ],
      "text/plain": [
       "     thresh       TPR  FPR\n",
       "0  0.000318  1.000000  1.0\n",
       "1  0.000527  0.923529  1.0"
      ]
     },
     "execution_count": 194,
     "metadata": {},
     "output_type": "execute_result"
    }
   ],
   "source": [
    "df_roc_curve = pd.DataFrame(threshs_tprs_fprs)\n",
    "df_roc_curve.head(2)"
   ]
  },
  {
   "cell_type": "code",
   "execution_count": 195,
   "id": "cfc84ce8",
   "metadata": {},
   "outputs": [
    {
     "data": {
      "text/plain": [
       "tensor(0.9340)"
      ]
     },
     "execution_count": 195,
     "metadata": {},
     "output_type": "execute_result"
    }
   ],
   "source": [
    "from torch import tensor\n",
    "from torchmetrics.classification import BinaryAUROC, BinaryROC\n",
    "\n",
    "\n",
    "preds = tensor(good_scores + anomaly_scores)\n",
    "target = tensor([0] * len(good_scores) + [1] * len(anomaly_scores))\n",
    "metric = BinaryAUROC(thresholds=None)\n",
    "auc = metric(preds, target)\n",
    "auc"
   ]
  },
  {
   "cell_type": "code",
   "execution_count": 196,
   "id": "ffd19c8c",
   "metadata": {},
   "outputs": [
    {
     "data": {
      "application/vnd.plotly.v1+json": {
       "config": {
        "plotlyServerURL": "https://plot.ly"
       },
       "data": [
        {
         "fillpattern": {
          "shape": ""
         },
         "hovertemplate": "False Positive Rate=%{x}<br>True Positive Rate=%{y}<extra></extra>",
         "legendgroup": "",
         "line": {
          "color": "#636efa"
         },
         "marker": {
          "symbol": "circle"
         },
         "mode": "lines",
         "name": "",
         "orientation": "v",
         "showlegend": false,
         "stackgroup": "1",
         "type": "scatter",
         "x": {
          "bdata": "AAAAAAAAAAAAAAAAAAAAAAAAAAAAAAAAAAAAAAAAAAAAAAAAAAAAAAAAAAAAAAAAAAAAAAAAAAAAAAAAAAAAAAAAAAAAAAAAAAAAAAAAAAAAAAAAAAAAAAAAAAAAAAAAAAAAAAAAAAAAAAAAAAAAAAAAAAAAAAAAAAAAAAAAAAAAAAAAAAAAAAAAAAAAAAAAAAAAAAAAAAAAAAAAAAAAAAAAAAAAAAAAAAAAAAAAAAAAAAAAAAAAAAAAAAAAAAAAAAAAAAAAAAAAAAAAAAAAAAAAAAAAAAAAAAAAAAAAAAAAAAAAAAAAAAAAAAAAAAAAAAAAAAAAAAAAAAAAAAAAAAAAAAAAAAAAAAAAAAAAAAAAAAAAAAAAAAAAAAAAAAAAAAAAAAAAAAAAAAAAAAAAAAAAAAAAAAAAAAAAAAAAAAAAAAAAAAAAAAAAAAAAAAAAAAAAAAAAAAAAAAAAAAAAAAAAAAAAAAAAAAAAAAAAAAAAAAAAAAAAAAAAAAAAAAAAAAAAAAAAAAAAAAAAAAAAAAAAAAAAAAAAAAAAAAAAAAAAAAAAAAAAAAAAAAAAAAAAAAAAAAAAAAAAAAAAAAAAAAAAAAAAAAAAAAAAAAAAAAAAAAAAAAAAAAAAAAAAAAAAAAAAAAAAAAAAAAAAAAAAAAAAAAAAAAAAAAAAAAAAAAAAAAAAAAAAAAAAAAAAAAAAAAAAAAAAAAAAAAAAAAAAAAAAAAAAAAAAAAAAAAAAAAAAAAAAAAAAAAAAAAAAAAAAAAAAAAAAAAAAAAAAAAAAAAAAAAAAAAAAAAAAAAAAAAAAAAAAAAAAAAAAAAAAAAAAAAAAAAAAAAAAAAAAAAAAAAAAAAAAAAAAAAAAAAAAAAAAAAAAAAAAAAAAAAAAAAAAAAAAAAAAAAAAAAAAAAAAAAAAAAAAAAAAAAAAAAAAAAAAAAAAAAAAAAAAAAAAAAAAAAAAAAAAAAAAAAAAAAAAAAAAAAAAAAAAAAAAAAAAAAAAAAAAAAAAAAAAAAAAAAAAAAAAAAAAAAAAAAAAAAAAAAAAAAAAAAAAAAAAAAAAAAAAAAAAAAAAAAAAAAAAAAAAAAAAAAAAAAAAAAAAAAAAAAAAAAAAAAAAAAAAAAAAAAAAAAAAAAAAAAAAAAAAAAAAAAAAAAAAAAAAAAAAAAAAAAAAAAAAAAAAAAAAAAAAAAAAAAAAAAAAAAAAAAAAAAAAAAAAAAAAAAAAAAAAAAAAAAAAAAAAAAAAAAAAAAAAAAAAAAAAAAAAAAAAAAAAAAAAAAAAAAAAAAAAAAAAAAAAAAAAAAAAAAAAAAAAAAAAAAAAAAAAAAAAAAAAAAAAAAAAAAAAAAAAAAAAAAAAAAAAAAAAAAAAAAAAAAAAAAAAAAAAAAAAAAAAAAAAAAAAAAAAAAAAAAAAAAAAAAAAAAAAAAAAAAAAAAAAAAAAAAAAAAAAAAAAAAAAAAAAAAAAAAAAAAAAAAAAAAAAAAAAAAAAAAAAAAAAAAAAAAAAAAAAAAAAAAAAAAAAAAAAAAAAAAAAAAAAAAAAAAAAAAAAAAAAAAAAAAAAAAAAAAAAAAAAAAAAAAAAAAAAAAAAAAAAAAAAAAAAAAAAAAAAAAAAAAAAAAAAAAAAAAAAAAAAAAAAAAAAAAAAAAAAAAAAAAAAAAAAAAAAAAAAAAAAAAAAAAAAAAAAAAAAAAAAAAAAAAAAAAAAAAAAAAAAAAAAAAAAAAAAAAAAAAAAAAAAAAAAAAAAAAAAAAAAAAAAAAAAAAAAAAAAAAAAAAAAAAAAAAAAAAAAAAAAAAAAAAAAAAAAAAAAAAAAAAAAAAAAAAAAAAAAAAAAAAAAAAAAAAAAAAAAAAAAAAAAAAAAAAAAAAAAAAAAAAAAAAAAAAAAAAAAAAAAAAAAAAAAAAAAAAAAAAAAAAAAAAAAAAAAAAAAAAAAAAAAAAAAAAAAAAAAAAAAAAAAAAAAAAAAAAAAAAAAAAAAAAAAAAAAAAAAAAAAAAAAAAAAAAAAAAAAAAAAAAAAAAAAAAAAAAAAAAAAAAAAAAAAAAAAAAAAAAAAAAAAAAAAAAAAAAAAAAAAAAAAAAAAAAAAAAAAAAAAAAAAAAAAAAAAAAAAAAAAAAAAAAAAAAAAAAAAAAAAAAAAAAAAAAAAAAAAAAAAAAAAAAAAAAAAAAAAAAAAAAAAAAAAAAAAAAAAAAAAAAAAAAAAAAAAAAAAAAAAAAAAAAAAAAAAAAAAAAAAAAAAAAAAAAAAAAAAAAAAAAAAAAAAAAAAAAAAAAAAAAAAAAAAAAAAAAAAAAAAAAAAAAAAAAAAAAAAAAAAAAAAAAAAAAAAAAAAAAAAAAAAAAAAAAAAAAAAAAAAAAAAAAAAAAAAAAAAAAAAAAAAAAAAAAAAAAAAAAAAAAAAAAAAAAAAAAAAAAAAAAAAAAAAAAAAAAAAAAAAAAAAAAAAAAAAAAAAAAAAAAAAAAAAAAAAAAAAAAAAAAAAAAAAAAAAAAAAAAAAAAAAAAAAAAAAAAAAAAAAAAAAAAAAAAAAAAAAAAAAAAAAAAAAAAAAAAAAAAAAAAAAAAAAAAAAAAAAAAAAAAAAAAAAAAAAAAAAAAAAAAAAAAAAAAAAAAAAAAAAAAAAAAAAAAAAAAAAAAAAAAAAAAAAAAAAAAAAAAAAAAAAAAAAAAAAAAAAAAAAAAAAAAAAAAAAAAAAAAAAAAAAAAAAAAAAAAAAAAAAAAAAAAAAAAAAAAAAAAAAAAAAAAAAAAAAAAAAAAAAAAAAAAAAAAAAAAAAAAAAAAAAAAAAAAAAAAAAAAAAAAAAAAAAAAAAAAAAAAAAAAAAAAAAAAAAAAAAAAAAAAAAAAAAAAAAAAAAAAAAAAAAAAAAAAAAAAAAAAAAAAAAAAAAAAAAAAAAAAAAAAAAAAAAAAAAAAAAAAAAAAAAAAAAAAAAAAAAAAAAAAAAAAAAAAAAAAAAAAAAAAAAAAAAAAAAAAAAAAAAAAAAAAAAAAAAAAAAAAAAAAAAAAAAAAAAAAAAAAAAAAAAAAAAAAAAAAAAAAAAAAAAAAAAAAAAAAAAAAAAAAAAAAAAAAAAAAAAAAAAAAAAAAAAAAAAAAAAAAAAAAAAAAAAAAAAAAAAAAAAAAAAAAAAAAAAAAAAAAAAAAAAAAAAAAAAAAAAAAAAAAAAAAAAAAAAAAAAAAAAAAAAAAAAAAAAAAAAAAAAAAAAAAAAAAAAAAAAAAAAAAAAAAAAAAAAAAAAAAAAAAAAAAAAAAAAAAAAAAAAAAAAAAAAAAAAAAAAAAAAAAAAAAAAAAAAAAAAAAAAAAAAAAAAAAAAAAAAAAAAAAAAAAAAAAAAAAAAAAAAAAAAAAAAAAAAAAAAAAAAAAAAAAAAAAAAAAAAAAAAAAAAAAAAAAAAAAAAAAAAAAAAAAAAAAAAAAAAAAAAAAAAAAAAAAAAAAAAAAAAAAAAAAAAAAAAAAAAAAAAAAAAAAAAAAAAAAAAAAAAAAAAAAAAAAAAAAAAAAAAAAAAAAAAAAAAAAAAAAAAAAAAAAAAAAAAAAAAAAAAAAAAAAAAAAAAAAAAAAAAAAAAAAAAAAAAAAAAAAAAAAAAAAAAAAAAAAAAAAAAAAAAAAAAAAAAAAAAAAAAAAAAAAAAAAAAAAAAAAAAAAAAAAAAAAAAAAAAAAAAAAAAAAAAAAAAAAAAAAAAAAAAAAAAAAAAAAAAAAAAAAAAAAAAAAAAAAAAAAAAAAAAAAAAAAAAAAAAAAAAAAAAAAAAAAAAAAAAAAAAAAAAAAAAAAAAAAAAAAAAAAAAAAAAAAAAAAAAAAAAAAAAAAAAAAAAAAAAAAAAAAAAAAAAAAAAAAAAAAAAAAAAAAAAAAAAAAAAAAAAAAAAAAAAAAAAAAAAAAAAAAAAAAAAAAAAAAAAAAAAAAAAAAAAAAAAAAAAAAAAAAAAAAAAAAAAAAAAAAAAAAAAAAAAAAAAAAAAAAAAAAAAAAAAAAAAAAAAAAAAAAAAAAAAAAAAAAAAAAAAAAAAAAAAAAAAAAAAAAAAAAAAAAAAAAAAAAAAAAAAAAAAAAAAAAAAAAAAAAAAAAAAAAAAAAAAAAAAAAAAAAAAAAAAAAAAAAAAAAAAAAAAAAAAAAAAAAAAAAAAAAAAAAAAAAAAAAAAAAAAAAAAAAAAAAAAAAAAAAAAAAAAAAAAAAAAAAAAAAAAAAAAAAAAAAAAAAAAAAAAAAAAAAAAAAAAAAAAAAAAAAAAAAAAAAAAAAAAAAAAAAAAAAAAAAAAAAAAAAAAAAAAAAAAAAAAAAAAAAAAAAAAAAAAAAAAAAAAAAAAAAAAAAAAAAAAAAAAAAAAAAAAAAAAAAAAAAAAAAAAAAAAAAAAAAAAAAAAAAAAAAAAAAAAAAAAAAAAAAAAAAAAAAAAAAAAAAAAAAAAAAAAAAAAAAAAAAAAAAAAAAAAAAAAAAAAAAAAAAAAAAAAAAAAAAAAAAAAAAAAAAAAAAAAAAAAAAAAAAAAAAAAAAAAAAAAAAAAAAAAAAAAAAAAAAAAAAAAAAAAAAAAAAAAAAAAAAAAAAAAAAAAAAAAAAAAAAAAAAAAAAAAAAAAAAAAAAAAAAAAAAAAAAAAAAAAAAAAAAAAAAAAAAAAAAAAAAAAAAAAAAAAAAAAAAAAAAAAAAAAAAAAAAAAAAAAAAAAAAAAAAAAAAAAAAAAAAAAAAAAAAAAAAAAAAAAAAAAAAAAAAAAAAAAAAAAAAAAAAAAAAAAAAAAAAAAAAAAAAAAAAAAAAAAAAAAAAAAAAAAAAAAAAAAAAAAAAAAAAAAAAAAAAAAAAAAAAAAAAAAAAAAAAAAAAAAAAAAAAAAAAAAAAAAAAAAAAAAAAAAAAAAAAAAAAAAAAAAAAAAAAAAAAAAAAAAAAAAAAAAAAAAAAAAAAAAAAAAAAAAAAAAAAAAAAAAAAAAAAAAAAAAAAAAAAAAAAAAAAAAAAAAAAAAAAAAAAAAAAAAAAAAAAAAAAAAAAAAAAAAAAAAAAAAAAAAAAAAAAAAAAAAAAAAAAAAAAAAAAAAAAAAAAAAAAAAAAAAAAAAAAAAAAAAAAAAAAAAAAAAAAAAAAAAAAAAAAAAAAAAAAAAAAAAAAAAAAAAAAAAAAAAAAAAAAAAAAAAAAAAAAAAAAAAAAAAAAAAAAAAAAAAAAAAAAAAAAAAAAAAAAAAAAAAAAAAAAAAAAAAAAAAAAAAAAAAAAAAAAAAAAAAAAAAAAAAAAAAAAAAwcBAO8HAQDvBwEA7wcBAO8HAwDuRkBA8kZAQPMHAQDyRkJA8kZCQPJGQkDypqKg8hYQEPamoKD3NzEw92dhYPZGQkD3BwMA9/fz8PdzbWz61tDQ/AACAPw==",
          "dtype": "f4"
         },
         "xaxis": "x",
         "y": {
          "bdata": "AAAAAAAAAAAAAAAAAAAAAAAAAAAAAAAAAAAAAAAAAAAAAAAAAAAAAAAAAAAAAAAAAAAAAAAAAAAAAAAAAAAAAAAAAAAAAAAAAAAAAAAAAAAAAAAAAAAAAAAAAAAAAAAAAAAAAAAAAAAAAAAAAAAAAAAAAAAAAAAAAAAAAAAAAAAAAAAAAAAAAAAAAAAAAAAAAAAAAAAAAAAAAAAAAAAAAAAAAAAAAAAAAAAAAAAAAAAAAAAAAAAAAAAAAAAAAAAAAAAAAAAAAAAAAAAAAAAAAAAAAAAAAAAAAAAAAAAAAAAAAAAAAAAAAAAAAAAAAAAAAAAAAAAAAAAAAAAAAAAAAAAAAAAAAAAAAAAAAAAAAAAAAAAAAAAAAAAAAAAAAAAAAAAAAAAAAAAAAAAAAAAAAAAAAAAAAAAAAAAAAAAAAAAAAAAAAAAAAAAAAAAAAAAAAAAAAAAAAAAAAAAAAAAAAAAAAAAAAAAAAAAAAAAAAAAAAAAAAAAAAAAAAAAAAAAAAAAAAAAAAAAAAAAAAAAAAAAAAAAAAAAAAAAAAAAAAAAAAAAAAAAAAAAAAAAAAAAAAAAAAAAAAAAAAAAAAAAAAAAAAAAAAAAAAAAAAAAAAAAAAAAAAAAAAAAAAAAAAAAAAAAAAAAAAAAAAAAAAAAAAAAAAAAAAAAAAAAAAAAAAAAAAAAAAAAAAAAAAAAAAAAAAAAAAAAAAAAAAAAAAAAAAAAAAAAAAAAAAAAAAAAAAAAAAAAAAAAAAAAAAAAAAAAAAAAAAAAAAAAAAAAAAAAAAAAAAAAAAAAAAAAAAAAAAAAAAAAAAAAAAAAAAAAAAAAAAAAAAAAAAAAAAAAAAAAAAAAAAAAAAAAAAAAAAAAAAAAAAAAAAAAAAAAAAAAAAAAAAAAAAAAAAAAAAAAAAAAAAAAAAAAAAAAAAAAAAAAAAAAAAAAAAAAAAAAAAAAAAAAAAAAAAAAAAAAAAAAAAAAAAAAAAAAAAAAAAAAAAAAAAAAAAAAAAAAAAAAAAAAAAAAAAAAAAAAAAAAAAAAAAAAAAAAAAAAAAAAAAAAAAAAAAAAAAAAAAAAAAAAAAAAAAAAAAAAAAAAAAAAAAAAAAAAAAAAAAAAAAAAAAAAAAAAAAAAAAAAAAAAAAAAAAAAAAAAAAAAAAAAAAAAAAAAAAAAAAAAAAAAAAAAAAAAAAAAAAAAAAAAAAAAAAAAAAAAAAAAAAAAAAAAAAAAAAAAAAAAAAAAAAAAAAAAAAAAAAAAAAAAAAAAAAAAAAAAAAAAAAAAAAAAAAAAAAAAAAAAAAAAAAAAAAAAAAAAAAAAAAAAAAAAAAAAAAAAAAAAAAAAAAAAAAAAAAAAAAAAAAAAAAAAAAAAAAAAAAAAAAAAAAAAAAAAAAAAAAAAAAAAAAAAAAAAAAAAAAAAAAAAAAAAAAAAAAAAAAAAAAAAAAAAAAAAAAAAAAAAAAAAAAAAAAAAAAAAAAAAAAAAAAAAAAAAAAAAAAAAAAAAAAAAAAAAAAAAAAAAAAAAAAAAAAAAAAAAAAAAAAAAAAAAAAAAAAAAAAAAAAAAAAAAAAAAAAAAAAAAAAAAAAAAAAAAAAAAAAAAAAAAAAAAAAAAAAAAAAAAAAAAAAAAAAAAAAAAAAAAAAAAAAAAAAAAAAAAAAAAAAAAAAAAAAAAAAAAAAAAAAAAAAAAAAAAAAAAAAAAAAAAAAAAAAAAAAAAAAAAAAAAAAAAAAAAAAAAAAAAAAAAAAAAAAAAAAAAAAAAAAAAAAAAAAAAAAAAAAAAAAAAAAAAAAAAAAAAAAAAAAAAAAAAAAAAAAAAAAAAAAAAAAAAAAAAAAAAAAAAAAAAAAAAAAAAAAAAAAAAAAAAAAAAAAAAAAAAAAAAAAAAAAAAAAAAAAAAAAAAAAAAAAAAAAAAAAAAAAAAAAAAAAAAAAAAAAAAAAAAAAAAAAAAAAAAAAAAAAAAAAAAAAAAAAAAAAAAAAAAAAAAAAAAAAAAAAAAAAAAAAAAAAAAAAAAAAAAAAAAAAAAAAAAAAAAAAAAAAAAAAAAAAAAAAAAAAAAAAAAAAAAAAAAAAAAAAAAAAAAAAAAAAAAAAAAAAAAAAAAAAAAAAAAAAAAAAAAAAAAAAAAAAAAAAAAAAAAAAAAAAAAAAAAAAAAAAAAAAAAAAAAAAAAAAAAAAAAAAAAAAAAAAAAAAAAAAAAAAAAAAAAAAAAAAAAAAAAAAAAAAAAAAAAAAAAAAAAAAAAAAAAAAAAAAAAAAAAAAAAAAAAAAAAAAAAAAAAAAAAAAAAAAAAAAAAAAAAAAAAAAAAAAAAAAAAAAAAAAAAAAAAAAAAAAAAAAAAAAAAAAAAAAAAAAAAAAAAAAAAAAAAAAAAAAAAAAAAAAAAAAAAAAAAAAAAAAAAAAAAAAAAAAAAAAAAAAAAAAAAAAAAAAAAAAAAAAAAAAAAAAAAAAAAAAAAAAAAAAAAAAAAAAAAAAAAAAAAAAAAAAAAAAAAAAAAAAAAAAAAAAAAAAAAAAAAAAAAAAAAAAAAAAAAAAAAAAAAAAAAAAAAAAAAAAAAAAAAAAAAAAAAAAAAAAAAAAAAAAAAAAAAAAAAAAAAAAAAAAAAAAAAAAAAAAAAAAAAAAAAAAAAAAAAAAAAAAAAAAAAAAAAAAAAAAAAAAAAAAAAAAAAAAAAAAAAAAAAAAAAAAAAAAAAAAAAAAAAAAAAAAAAAAAAAAAAAAAAAAAAAAAAAAAAAAAAAAAAAAAAAAAAAAAAAAAAAAAAAAAAAAAAAAAAAAAAAAAAAAAAAAAAAAAAAAAAAAAAAAAAAAAAAAAAAAAAAAAAAAAAAAAAAAAAAAAAAAAAAAAAAAAAAAAAAAAAAAAAAAAAAAAAAAAAAAAAAAAAAAAAAAAAAAAAAAAAAAAAAAAAAAAAAAAAAAAAAAAAAAAAAAAAAAAAAAAAAAAAAAAAAAAAAAAAAAAAAAAAAAAAAAAAAAAAAAAAAAAAAAAAAAAAAAAAAAAAAAAAAAAAAAAAAAAAAAAAAAAAAAAAAAAAAAAAAAAAAAAAAAAAAAAAAAAAAAAAAAAAAAAAAAAAAAAAAAAAAAAAAAAAAAAAAAAAAAAAAAAAAAAAAAAAAAAAAAAAAAAAAAAAAAAAAAAAAAAAAAAAAAAAAAAAAAAAAAAAAAAAAAAAAAAAAAAAAAAAAAAAAAAAAAAAAAAAAAAAAAAAAAAAAAAAAAAAAAAAAAAAAAAAAAAAAAAAAAAAAAAAAAAAAAAAAAAAAAAAAAAAAAAAAAAAAAAAAAAAAAAAAAAAAAAAAAAAAAAAAAAAAAAAAAAAAAAAAAAAAAAAAAAAAAAAAAAAAAAAAAAAAAAAAAAAAAAAAAAAAAAAAAAAAAAAAAAAAAAAAAAAAAAAAAAAAAAAAAAAAAAAAAAAAAAAAAAAAAAAAAAAAAAAAAAAAAAAAAAAAAAAAAAAAAAAAAAAAAAAAAAAAAAAAAAAAAAAAAAAAAAAAAAAAAAAAAAAAAAAAAAAAAAAAAAAAAAAAAAAAAAAAAAAAAAAAAAAAAAAAAAAAAAAAAAAAAAAAAAAAAAAAAAAAAAAAAADV3qQ61d6kOtXepDrV3qQ61d6kOtXepDrV3qQ61d6kOtXepDrV3qQ61d6kOtXepDrV3qQ61d6kOtXepDrV3qQ61d6kOtXepDrV3qQ61d6kOtXepDrV3qQ61d6kOtXepDrV3qQ61d6kOtXepDrV3qQ61d6kOtXepDrV3qQ61d6kOtXepDrV3qQ61d4kO9XeJDvV3iQ71d4kO9XeJDvV3iQ71d4kO9XeJDvV3iQ71d4kO9XeJDvV3iQ71d4kO9XeJDvV3iQ71d4kO9XeJDvV3iQ71d4kO9XeJDvV3iQ71d4kO9XeJDvV3iQ71d4kO9XeJDvV3iQ71d4kO9XeJDvV3iQ71d4kO9XeJDvV3iQ71d4kO9XeJDvV3iQ71d4kO9XeJDvV3iQ71d4kO9XeJDvV3iQ71d4kO9XeJDvV3iQ7QE53O0BOdztATnc7QE53O0BOdztATnc7QE53O0BOdztATnc7QE53O0BOdzvV3qQ71d6kO9XepDvV3qQ71d6kO4oWzjtATvc7QE73O0BO9ztATvc7QE73O0BO9ztATvc7QE73O/tCEDz7QhA8+0IQPPtCEDz7QhA8+0IQPPtCEDz7QhA8+0IQPPtCEDz7QhA8+0IQPPtCEDz7QhA8+0IQPPtCEDz7QhA8+0IQPPtCEDz7QhA81d4kPNXeJDzV3iQ81d4kPNXeJDzV3iQ81d4kPLB6OTywejk8sHo5PLB6OTywejk8sHo5PLB6OTywejk8sHo5PLB6OTywejk8ihZOPGWyYjxlsmI8ZbJiPGWyYjxlsmI8ZbJiPEBOdzxATnc8QE53PEBOdzxATnc8QE53PEBOdzxATnc8QE53PEBOdzxATnc8QE53PEBOdzwN9YU8DfWFPA31hTz7QpA8+0KQPPtCkDz7QpA86JCaPOiQmjzV3qQ81d6kPMIsrzzCLK88wiyvPMIsrzzCLK88wiyvPMIsrzywerk8sHq5PLB6uTydyMM8ncjDPJ3IwzyKFs48ihbOPIoWzjx4ZNg8eGTYPHhk2DxlsuI8ZbLiPGWy4jxlsuI8ZbLiPFIA7TxSAO08UgDtPFIA7TxATvc8QE73PA31BT0N9QU9DfUFPQ31BT0N9QU9DfUFPQ31BT0N9QU9DfUFPQ31BT0EHAs9BBwLPQQcCz37QhA9+0IQPftCED37QhA9+0IQPfFpFT3xaRU98WkVPfFpFT3okBo96JAaPcwFKj3MBSo9wiwvPcIsLz2wejk9nchDPZTvSD2KFk49gT1TPYE9Uz2BPVM9eGRYPXhkWD14ZFg9eGRYPW6LXT1ui109botdPW6LXT1c2Wc9SSdyPUBOdz1ATnc9QE53PTZ1fD2SYYM9kmGDPZJhgz1/r4096JCaPWMknT3V3qQ9UXKnPcwFqj3CLK89PsCxPT7AsT0+wLE9NOe2PTTntj0rDrw9ncjDPZTvyD2U78g9lO/IPZTvyD0Pg8s9BqrQPfzQ1T380NU9bovdPeoe4D1c2ec9SSfyPbvh+T02dfw9sgj/PRfOAD6SYQM+RtIJPj35Dj64jBE+6JAaPmMkHT4YlSM+UXInPkeZLD4+wDE+uVM0PjTnNj4iNUE+WxJFPsPzUT7z91o+4EVlPovdcD70vn0+7JmGPn+vjT5Ve5M+YySdPvY5pD6JT6s+mPi0PkOQwD4w3so+eGTYPuBF5T4QSu4+QE73Pqd7AD9b7AY/UhMMP1V7Ez8qRxk/03YdP0UxJT8mPi0/xZQ2P7LiQD91/FA/nCdfP6H3bT/HInw/AACAPw==",
          "dtype": "f4"
         },
         "yaxis": "y"
        }
       ],
       "layout": {
        "height": 600,
        "legend": {
         "tracegroupgap": 0
        },
        "margin": {
         "b": 20,
         "l": 20,
         "r": 20,
         "t": 60
        },
        "shapes": [
         {
          "line": {
           "dash": "dash"
          },
          "type": "line",
          "x0": 0,
          "x1": 1,
          "y0": 0,
          "y1": 1
         }
        ],
        "showlegend": false,
        "template": {
         "data": {
          "bar": [
           {
            "error_x": {
             "color": "#2a3f5f"
            },
            "error_y": {
             "color": "#2a3f5f"
            },
            "marker": {
             "line": {
              "color": "#E5ECF6",
              "width": 0.5
             },
             "pattern": {
              "fillmode": "overlay",
              "size": 10,
              "solidity": 0.2
             }
            },
            "type": "bar"
           }
          ],
          "barpolar": [
           {
            "marker": {
             "line": {
              "color": "#E5ECF6",
              "width": 0.5
             },
             "pattern": {
              "fillmode": "overlay",
              "size": 10,
              "solidity": 0.2
             }
            },
            "type": "barpolar"
           }
          ],
          "carpet": [
           {
            "aaxis": {
             "endlinecolor": "#2a3f5f",
             "gridcolor": "white",
             "linecolor": "white",
             "minorgridcolor": "white",
             "startlinecolor": "#2a3f5f"
            },
            "baxis": {
             "endlinecolor": "#2a3f5f",
             "gridcolor": "white",
             "linecolor": "white",
             "minorgridcolor": "white",
             "startlinecolor": "#2a3f5f"
            },
            "type": "carpet"
           }
          ],
          "choropleth": [
           {
            "colorbar": {
             "outlinewidth": 0,
             "ticks": ""
            },
            "type": "choropleth"
           }
          ],
          "contour": [
           {
            "colorbar": {
             "outlinewidth": 0,
             "ticks": ""
            },
            "colorscale": [
             [
              0,
              "#0d0887"
             ],
             [
              0.1111111111111111,
              "#46039f"
             ],
             [
              0.2222222222222222,
              "#7201a8"
             ],
             [
              0.3333333333333333,
              "#9c179e"
             ],
             [
              0.4444444444444444,
              "#bd3786"
             ],
             [
              0.5555555555555556,
              "#d8576b"
             ],
             [
              0.6666666666666666,
              "#ed7953"
             ],
             [
              0.7777777777777778,
              "#fb9f3a"
             ],
             [
              0.8888888888888888,
              "#fdca26"
             ],
             [
              1,
              "#f0f921"
             ]
            ],
            "type": "contour"
           }
          ],
          "contourcarpet": [
           {
            "colorbar": {
             "outlinewidth": 0,
             "ticks": ""
            },
            "type": "contourcarpet"
           }
          ],
          "heatmap": [
           {
            "colorbar": {
             "outlinewidth": 0,
             "ticks": ""
            },
            "colorscale": [
             [
              0,
              "#0d0887"
             ],
             [
              0.1111111111111111,
              "#46039f"
             ],
             [
              0.2222222222222222,
              "#7201a8"
             ],
             [
              0.3333333333333333,
              "#9c179e"
             ],
             [
              0.4444444444444444,
              "#bd3786"
             ],
             [
              0.5555555555555556,
              "#d8576b"
             ],
             [
              0.6666666666666666,
              "#ed7953"
             ],
             [
              0.7777777777777778,
              "#fb9f3a"
             ],
             [
              0.8888888888888888,
              "#fdca26"
             ],
             [
              1,
              "#f0f921"
             ]
            ],
            "type": "heatmap"
           }
          ],
          "histogram": [
           {
            "marker": {
             "pattern": {
              "fillmode": "overlay",
              "size": 10,
              "solidity": 0.2
             }
            },
            "type": "histogram"
           }
          ],
          "histogram2d": [
           {
            "colorbar": {
             "outlinewidth": 0,
             "ticks": ""
            },
            "colorscale": [
             [
              0,
              "#0d0887"
             ],
             [
              0.1111111111111111,
              "#46039f"
             ],
             [
              0.2222222222222222,
              "#7201a8"
             ],
             [
              0.3333333333333333,
              "#9c179e"
             ],
             [
              0.4444444444444444,
              "#bd3786"
             ],
             [
              0.5555555555555556,
              "#d8576b"
             ],
             [
              0.6666666666666666,
              "#ed7953"
             ],
             [
              0.7777777777777778,
              "#fb9f3a"
             ],
             [
              0.8888888888888888,
              "#fdca26"
             ],
             [
              1,
              "#f0f921"
             ]
            ],
            "type": "histogram2d"
           }
          ],
          "histogram2dcontour": [
           {
            "colorbar": {
             "outlinewidth": 0,
             "ticks": ""
            },
            "colorscale": [
             [
              0,
              "#0d0887"
             ],
             [
              0.1111111111111111,
              "#46039f"
             ],
             [
              0.2222222222222222,
              "#7201a8"
             ],
             [
              0.3333333333333333,
              "#9c179e"
             ],
             [
              0.4444444444444444,
              "#bd3786"
             ],
             [
              0.5555555555555556,
              "#d8576b"
             ],
             [
              0.6666666666666666,
              "#ed7953"
             ],
             [
              0.7777777777777778,
              "#fb9f3a"
             ],
             [
              0.8888888888888888,
              "#fdca26"
             ],
             [
              1,
              "#f0f921"
             ]
            ],
            "type": "histogram2dcontour"
           }
          ],
          "mesh3d": [
           {
            "colorbar": {
             "outlinewidth": 0,
             "ticks": ""
            },
            "type": "mesh3d"
           }
          ],
          "parcoords": [
           {
            "line": {
             "colorbar": {
              "outlinewidth": 0,
              "ticks": ""
             }
            },
            "type": "parcoords"
           }
          ],
          "pie": [
           {
            "automargin": true,
            "type": "pie"
           }
          ],
          "scatter": [
           {
            "fillpattern": {
             "fillmode": "overlay",
             "size": 10,
             "solidity": 0.2
            },
            "type": "scatter"
           }
          ],
          "scatter3d": [
           {
            "line": {
             "colorbar": {
              "outlinewidth": 0,
              "ticks": ""
             }
            },
            "marker": {
             "colorbar": {
              "outlinewidth": 0,
              "ticks": ""
             }
            },
            "type": "scatter3d"
           }
          ],
          "scattercarpet": [
           {
            "marker": {
             "colorbar": {
              "outlinewidth": 0,
              "ticks": ""
             }
            },
            "type": "scattercarpet"
           }
          ],
          "scattergeo": [
           {
            "marker": {
             "colorbar": {
              "outlinewidth": 0,
              "ticks": ""
             }
            },
            "type": "scattergeo"
           }
          ],
          "scattergl": [
           {
            "marker": {
             "colorbar": {
              "outlinewidth": 0,
              "ticks": ""
             }
            },
            "type": "scattergl"
           }
          ],
          "scattermap": [
           {
            "marker": {
             "colorbar": {
              "outlinewidth": 0,
              "ticks": ""
             }
            },
            "type": "scattermap"
           }
          ],
          "scattermapbox": [
           {
            "marker": {
             "colorbar": {
              "outlinewidth": 0,
              "ticks": ""
             }
            },
            "type": "scattermapbox"
           }
          ],
          "scatterpolar": [
           {
            "marker": {
             "colorbar": {
              "outlinewidth": 0,
              "ticks": ""
             }
            },
            "type": "scatterpolar"
           }
          ],
          "scatterpolargl": [
           {
            "marker": {
             "colorbar": {
              "outlinewidth": 0,
              "ticks": ""
             }
            },
            "type": "scatterpolargl"
           }
          ],
          "scatterternary": [
           {
            "marker": {
             "colorbar": {
              "outlinewidth": 0,
              "ticks": ""
             }
            },
            "type": "scatterternary"
           }
          ],
          "surface": [
           {
            "colorbar": {
             "outlinewidth": 0,
             "ticks": ""
            },
            "colorscale": [
             [
              0,
              "#0d0887"
             ],
             [
              0.1111111111111111,
              "#46039f"
             ],
             [
              0.2222222222222222,
              "#7201a8"
             ],
             [
              0.3333333333333333,
              "#9c179e"
             ],
             [
              0.4444444444444444,
              "#bd3786"
             ],
             [
              0.5555555555555556,
              "#d8576b"
             ],
             [
              0.6666666666666666,
              "#ed7953"
             ],
             [
              0.7777777777777778,
              "#fb9f3a"
             ],
             [
              0.8888888888888888,
              "#fdca26"
             ],
             [
              1,
              "#f0f921"
             ]
            ],
            "type": "surface"
           }
          ],
          "table": [
           {
            "cells": {
             "fill": {
              "color": "#EBF0F8"
             },
             "line": {
              "color": "white"
             }
            },
            "header": {
             "fill": {
              "color": "#C8D4E3"
             },
             "line": {
              "color": "white"
             }
            },
            "type": "table"
           }
          ]
         },
         "layout": {
          "annotationdefaults": {
           "arrowcolor": "#2a3f5f",
           "arrowhead": 0,
           "arrowwidth": 1
          },
          "autotypenumbers": "strict",
          "coloraxis": {
           "colorbar": {
            "outlinewidth": 0,
            "ticks": ""
           }
          },
          "colorscale": {
           "diverging": [
            [
             0,
             "#8e0152"
            ],
            [
             0.1,
             "#c51b7d"
            ],
            [
             0.2,
             "#de77ae"
            ],
            [
             0.3,
             "#f1b6da"
            ],
            [
             0.4,
             "#fde0ef"
            ],
            [
             0.5,
             "#f7f7f7"
            ],
            [
             0.6,
             "#e6f5d0"
            ],
            [
             0.7,
             "#b8e186"
            ],
            [
             0.8,
             "#7fbc41"
            ],
            [
             0.9,
             "#4d9221"
            ],
            [
             1,
             "#276419"
            ]
           ],
           "sequential": [
            [
             0,
             "#0d0887"
            ],
            [
             0.1111111111111111,
             "#46039f"
            ],
            [
             0.2222222222222222,
             "#7201a8"
            ],
            [
             0.3333333333333333,
             "#9c179e"
            ],
            [
             0.4444444444444444,
             "#bd3786"
            ],
            [
             0.5555555555555556,
             "#d8576b"
            ],
            [
             0.6666666666666666,
             "#ed7953"
            ],
            [
             0.7777777777777778,
             "#fb9f3a"
            ],
            [
             0.8888888888888888,
             "#fdca26"
            ],
            [
             1,
             "#f0f921"
            ]
           ],
           "sequentialminus": [
            [
             0,
             "#0d0887"
            ],
            [
             0.1111111111111111,
             "#46039f"
            ],
            [
             0.2222222222222222,
             "#7201a8"
            ],
            [
             0.3333333333333333,
             "#9c179e"
            ],
            [
             0.4444444444444444,
             "#bd3786"
            ],
            [
             0.5555555555555556,
             "#d8576b"
            ],
            [
             0.6666666666666666,
             "#ed7953"
            ],
            [
             0.7777777777777778,
             "#fb9f3a"
            ],
            [
             0.8888888888888888,
             "#fdca26"
            ],
            [
             1,
             "#f0f921"
            ]
           ]
          },
          "colorway": [
           "#636efa",
           "#EF553B",
           "#00cc96",
           "#ab63fa",
           "#FFA15A",
           "#19d3f3",
           "#FF6692",
           "#B6E880",
           "#FF97FF",
           "#FECB52"
          ],
          "font": {
           "color": "#2a3f5f"
          },
          "geo": {
           "bgcolor": "white",
           "lakecolor": "white",
           "landcolor": "#E5ECF6",
           "showlakes": true,
           "showland": true,
           "subunitcolor": "white"
          },
          "hoverlabel": {
           "align": "left"
          },
          "hovermode": "closest",
          "mapbox": {
           "style": "light"
          },
          "paper_bgcolor": "white",
          "plot_bgcolor": "#E5ECF6",
          "polar": {
           "angularaxis": {
            "gridcolor": "white",
            "linecolor": "white",
            "ticks": ""
           },
           "bgcolor": "#E5ECF6",
           "radialaxis": {
            "gridcolor": "white",
            "linecolor": "white",
            "ticks": ""
           }
          },
          "scene": {
           "xaxis": {
            "backgroundcolor": "#E5ECF6",
            "gridcolor": "white",
            "gridwidth": 2,
            "linecolor": "white",
            "showbackground": true,
            "ticks": "",
            "zerolinecolor": "white"
           },
           "yaxis": {
            "backgroundcolor": "#E5ECF6",
            "gridcolor": "white",
            "gridwidth": 2,
            "linecolor": "white",
            "showbackground": true,
            "ticks": "",
            "zerolinecolor": "white"
           },
           "zaxis": {
            "backgroundcolor": "#E5ECF6",
            "gridcolor": "white",
            "gridwidth": 2,
            "linecolor": "white",
            "showbackground": true,
            "ticks": "",
            "zerolinecolor": "white"
           }
          },
          "shapedefaults": {
           "line": {
            "color": "#2a3f5f"
           }
          },
          "ternary": {
           "aaxis": {
            "gridcolor": "white",
            "linecolor": "white",
            "ticks": ""
           },
           "baxis": {
            "gridcolor": "white",
            "linecolor": "white",
            "ticks": ""
           },
           "bgcolor": "#E5ECF6",
           "caxis": {
            "gridcolor": "white",
            "linecolor": "white",
            "ticks": ""
           }
          },
          "title": {
           "x": 0.05
          },
          "xaxis": {
           "automargin": true,
           "gridcolor": "white",
           "linecolor": "white",
           "ticks": "",
           "title": {
            "standoff": 15
           },
           "zerolinecolor": "white",
           "zerolinewidth": 2
          },
          "yaxis": {
           "automargin": true,
           "gridcolor": "white",
           "linecolor": "white",
           "ticks": "",
           "title": {
            "standoff": 15
           },
           "zerolinecolor": "white",
           "zerolinewidth": 2
          }
         }
        },
        "title": {
         "font": {
          "size": 30
         },
         "text": "ROC Curve (AUC = 0.934)"
        },
        "width": 600,
        "xaxis": {
         "anchor": "y",
         "domain": [
          0,
          1
         ],
         "tickfont": {
          "size": 15
         },
         "title": {
          "font": {
           "size": 20
          },
          "text": "False Positive Rate"
         }
        },
        "yaxis": {
         "anchor": "x",
         "domain": [
          0,
          1
         ],
         "range": [
          0,
          1
         ],
         "tickfont": {
          "size": 15
         },
         "title": {
          "font": {
           "size": 20
          },
          "text": "True Positive Rate"
         }
        }
       }
      }
     },
     "metadata": {},
     "output_type": "display_data"
    }
   ],
   "source": [
    "roc = BinaryROC(thresholds=1000)\n",
    "rocs = roc(preds, target)\n",
    "fig = px.area(x=rocs[0], y = rocs[1], labels={\"x\": \"False Positive Rate\", \"y\": \"True Positive Rate\"}, width=600, height=600, title=f\"ROC Curve (AUC = {auc:.3f})\")\n",
    "fig.update_layout(\n",
    "    yaxis_range=[0, 1],\n",
    "    margin=dict(l=20, r=20, t=60, b=20),\n",
    "    showlegend=False,\n",
    "    title=dict(font=dict(size=30)),\n",
    "    yaxis=dict(tickfont=dict(size=15), title_font=dict(size=20)),\n",
    "    xaxis=dict(tickfont=dict(size=15), title_font=dict(size=20)),\n",
    ")\n",
    "fig.add_shape(\n",
    "    type='line', line=dict(dash='dash'),\n",
    "    x0=0, x1=1, y0=0, y1=1\n",
    ")\n",
    "fig.write_image(\"../images/roc_curve.pdf\")\n",
    "fig.show()"
   ]
  },
  {
   "cell_type": "code",
   "execution_count": 197,
   "id": "83e43706",
   "metadata": {},
   "outputs": [
    {
     "data": {
      "text/plain": [
       "0.9676470588235294"
      ]
     },
     "execution_count": 197,
     "metadata": {},
     "output_type": "execute_result"
    }
   ],
   "source": [
    "accuracy = results[\"good\"][\"tn\"] / results[\"good\"][\"total\"]\n",
    "accuracy"
   ]
  },
  {
   "cell_type": "code",
   "execution_count": 198,
   "id": "d5ec2a1d",
   "metadata": {},
   "outputs": [
    {
     "data": {
      "text/plain": [
       "Sequential(\n",
       "  (0): Conv2d(3, 16, kernel_size=(4, 4), stride=(2, 2), padding=(1, 1))\n",
       "  (1): ReLU(inplace=True)\n",
       "  (2): Conv2d(16, 32, kernel_size=(4, 4), stride=(2, 2), padding=(1, 1))\n",
       "  (3): ReLU(inplace=True)\n",
       "  (4): Conv2d(32, 64, kernel_size=(4, 4), stride=(2, 2), padding=(1, 1))\n",
       "  (5): ReLU(inplace=True)\n",
       "  (6): Conv2d(64, 128, kernel_size=(4, 4), stride=(2, 2), padding=(1, 1))\n",
       "  (7): ReLU(inplace=True)\n",
       ")"
      ]
     },
     "execution_count": 198,
     "metadata": {},
     "output_type": "execute_result"
    }
   ],
   "source": [
    "model.encoder_conv"
   ]
  },
  {
   "cell_type": "code",
   "execution_count": 199,
   "id": "f15127da",
   "metadata": {},
   "outputs": [
    {
     "data": {
      "text/plain": [
       "Sequential(\n",
       "  (0): ConvTranspose2d(128, 64, kernel_size=(4, 4), stride=(2, 2), padding=(1, 1))\n",
       "  (1): ReLU(inplace=True)\n",
       "  (2): ConvTranspose2d(64, 32, kernel_size=(4, 4), stride=(2, 2), padding=(1, 1))\n",
       "  (3): ReLU(inplace=True)\n",
       "  (4): ConvTranspose2d(32, 16, kernel_size=(4, 4), stride=(2, 2), padding=(1, 1))\n",
       "  (5): ReLU(inplace=True)\n",
       "  (6): ConvTranspose2d(16, 3, kernel_size=(4, 4), stride=(2, 2), padding=(1, 1))\n",
       "  (7): Tanh()\n",
       ")"
      ]
     },
     "execution_count": 199,
     "metadata": {},
     "output_type": "execute_result"
    }
   ],
   "source": [
    "model.decoder_conv"
   ]
  },
  {
   "cell_type": "code",
   "execution_count": 200,
   "id": "112d9a55",
   "metadata": {},
   "outputs": [],
   "source": [
    "torch.save(model.state_dict(), \"model.pth\")"
   ]
  }
 ],
 "metadata": {
  "kernelspec": {
   "display_name": ".venv",
   "language": "python",
   "name": "python3"
  },
  "language_info": {
   "codemirror_mode": {
    "name": "ipython",
    "version": 3
   },
   "file_extension": ".py",
   "mimetype": "text/x-python",
   "name": "python",
   "nbconvert_exporter": "python",
   "pygments_lexer": "ipython3",
   "version": "3.12.3"
  }
 },
 "nbformat": 4,
 "nbformat_minor": 5
}
