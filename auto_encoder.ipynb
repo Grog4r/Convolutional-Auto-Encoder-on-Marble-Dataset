{
 "cells": [
  {
   "cell_type": "code",
   "execution_count": 106,
   "id": "14104e88",
   "metadata": {},
   "outputs": [],
   "source": [
    "import torch\n",
    "import torch.nn as nn\n",
    "import torch.optim as optim\n",
    "from torch.utils.data import DataLoader, Dataset\n",
    "from torchvision import transforms\n",
    "import matplotlib.pyplot as plt\n",
    "import numpy as np\n",
    "from PIL import Image\n",
    "import os\n",
    "from torch import tensor\n",
    "from torchmetrics.classification import BinaryAUROC, BinaryROC, BinaryF1Score, BinaryAccuracy, BinaryPrecision, BinaryRecall\n"
   ]
  },
  {
   "cell_type": "code",
   "execution_count": 107,
   "id": "d8c9b2ac",
   "metadata": {},
   "outputs": [],
   "source": [
    "image_path_train = \"marble/train/good\"\n",
    "image_path_ok = \"marble/test/good\""
   ]
  },
  {
   "cell_type": "code",
   "execution_count": 108,
   "id": "9952f76a",
   "metadata": {},
   "outputs": [
    {
     "name": "stdout",
     "output_type": "stream",
     "text": [
      "The device is cpu.\n"
     ]
    }
   ],
   "source": [
    "BATCH_SIZE = 16\n",
    "N_EPOCHS = 10\n",
    "LEARNING_RATE = 1e-3\n",
    "DEVICE = torch.device(\"cuda\" if torch.cuda.is_available() else \"cpu\")\n",
    "print(f\"The device is {DEVICE}.\")"
   ]
  },
  {
   "cell_type": "code",
   "execution_count": 109,
   "id": "7b71f1fb",
   "metadata": {},
   "outputs": [],
   "source": [
    "import math\n",
    "\n",
    "\n",
    "class ConvAutoencoder(nn.Module):\n",
    "    def __init__(self, input_size=128, img_channels=3, latent_space=256):\n",
    "        super(ConvAutoencoder, self).__init__()\n",
    "\n",
    "        assert math.log2(input_size).is_integer(), \"Input size must be a power of 2 (e.g., 64, 128, 256)\"\n",
    "        self.input_size = input_size\n",
    "\n",
    "        # Build encoder dynamically\n",
    "        layers = []\n",
    "        channels = [img_channels, 16, 32, 64, 128]\n",
    "        size = input_size\n",
    "        for i in range(len(channels) - 1):\n",
    "            layers.append(nn.Conv2d(channels[i], channels[i+1], kernel_size=4, stride=2, padding=1))\n",
    "            layers.append(nn.ReLU(True))\n",
    "            size //= 2  # downsampling step\n",
    "\n",
    "        self.encoder_conv = nn.Sequential(*layers)\n",
    "        self.flattened_size = channels[-1] * size * size\n",
    "        self.encoder_fc = nn.Linear(self.flattened_size, latent_space)\n",
    "\n",
    "        # Decoder\n",
    "        self.decoder_fc = nn.Linear(latent_space, self.flattened_size)\n",
    "\n",
    "        # Build decoder (inverse of encoder)\n",
    "        decoder_layers = []\n",
    "        channels = list(reversed(channels))\n",
    "        for i in range(len(channels) - 1):\n",
    "            decoder_layers.append(nn.ConvTranspose2d(\n",
    "                channels[i], channels[i+1], kernel_size=4, stride=2, padding=1))\n",
    "            if i < len(channels) - 2:\n",
    "                decoder_layers.append(nn.ReLU(True))\n",
    "            else:\n",
    "                decoder_layers.append(nn.Tanh())  # final layer\n",
    "\n",
    "        self.decoder_conv = nn.Sequential(*decoder_layers)\n",
    "\n",
    "    def forward(self, x):\n",
    "        x = self.encoder_conv(x)\n",
    "        x = x.view(x.size(0), -1)\n",
    "        z = self.encoder_fc(x)\n",
    "\n",
    "        x = self.decoder_fc(z)\n",
    "        x = x.view(x.size(0), -1, self.input_size // (2 ** 4), self.input_size // (2 ** 4))  # 4 conv layers\n",
    "        x = self.decoder_conv(x)\n",
    "        return x\n"
   ]
  },
  {
   "cell_type": "code",
   "execution_count": 110,
   "id": "4965c4af",
   "metadata": {},
   "outputs": [],
   "source": [
    "IMAGE_SIZE = 128\n",
    "\n",
    "transform = transforms.Compose([\n",
    "    transforms.Resize((IMAGE_SIZE, IMAGE_SIZE)),\n",
    "    transforms.ToTensor(),\n",
    "    transforms.Normalize(mean=[0.5, 0.5, 0.5], std=[0.5, 0.5, 0.5])\n",
    "])\n"
   ]
  },
  {
   "cell_type": "code",
   "execution_count": 111,
   "id": "52132a65",
   "metadata": {},
   "outputs": [],
   "source": [
    "class MarbleImageDataset(Dataset):\n",
    "    def __init__(self, img_dir, transform=None, target_transform=None, val=False):\n",
    "        self.img_dir = img_dir\n",
    "        self.image_names = os.listdir(self.img_dir)\n",
    "        val_len = int(len(self.image_names) * 0.2)\n",
    "        if val:\n",
    "            # last 20% are validation images\n",
    "            self.image_names = self.image_names[-val_len:]\n",
    "        else:\n",
    "            # everything before last 20% are training images\n",
    "            self.image_names = self.image_names[:-val_len]\n",
    "            \n",
    "        self.transform = transform\n",
    "        self.target_transform = target_transform\n",
    "\n",
    "    def __len__(self):\n",
    "        return len(self.image_names)\n",
    "\n",
    "    def __getitem__(self, idx):\n",
    "        img_path = os.path.join(self.img_dir, self.image_names[idx])\n",
    "        image = Image.open(img_path)\n",
    "        if self.transform:\n",
    "            image = self.transform(image)\n",
    "        return image"
   ]
  },
  {
   "cell_type": "code",
   "execution_count": 112,
   "id": "04c2b6d7",
   "metadata": {},
   "outputs": [],
   "source": [
    "train_dataset = MarbleImageDataset(image_path_train, transform=transform)\n",
    "train_loader = DataLoader(train_dataset, batch_size=BATCH_SIZE, shuffle=True)\n"
   ]
  },
  {
   "cell_type": "code",
   "execution_count": 113,
   "id": "5e971b4a",
   "metadata": {},
   "outputs": [],
   "source": [
    "val_dataset = MarbleImageDataset(image_path_train, transform=transform, val=True)\n",
    "val_loader = DataLoader(val_dataset, batch_size=BATCH_SIZE, shuffle=True)\n"
   ]
  },
  {
   "cell_type": "code",
   "execution_count": 114,
   "id": "9b5b0f4a",
   "metadata": {},
   "outputs": [],
   "source": [
    "import json\n",
    "from tqdm import tqdm\n",
    "\n",
    "# model = Autoencoder().to(DEVICE)\n",
    "model = ConvAutoencoder(input_size=IMAGE_SIZE).to(DEVICE)\n",
    "criterion = nn.MSELoss()\n",
    "if (\n",
    "    os.path.exists(\"model.pth\")\n",
    "    and os.path.exists(\"losses.json\")\n",
    "    and os.path.exists(\"batch_losses.json\")\n",
    "):\n",
    "    model.load_state_dict(torch.load(\"model.pth\", weights_only=True))\n",
    "    losses = json.load(open(\"losses.json\", encoding=\"utf-8\"))\n",
    "    batch_losses = json.load(open(\"batch_losses.json\", encoding=\"utf-8\"))\n",
    "else:\n",
    "    optimizer = optim.Adam(model.parameters(), lr=LEARNING_RATE)\n",
    "    losses = []\n",
    "    batch_losses = []\n",
    "\n",
    "    for epoch in range(N_EPOCHS):\n",
    "        model.train()\n",
    "        total_loss = 0\n",
    "        for imgs in tqdm(train_loader, desc=f\"Epoch {epoch+1}/{N_EPOCHS}\"):\n",
    "            imgs = imgs.to(DEVICE)\n",
    "            outputs = model(imgs)\n",
    "            loss = criterion(outputs, imgs)\n",
    "            val_losses = []\n",
    "            for val_imgs in tqdm(val_loader, desc=\"Validating\"):\n",
    "                val_imgs = val_imgs.to(DEVICE)\n",
    "                val_outputs = model(val_imgs)\n",
    "                val_loss = criterion(val_outputs, val_imgs)\n",
    "                val_losses.append(val_loss.detach())\n",
    "            val_loss = np.mean(val_losses)\n",
    "            optimizer.zero_grad()\n",
    "            loss.backward()\n",
    "            optimizer.step()\n",
    "            total_loss += loss.item()\n",
    "            batch_losses.append({\"Batch Loss\": loss.item(), \"Validation Loss\": val_loss.item()})\n",
    "\n",
    "        mean_loss = total_loss / len(train_loader)\n",
    "        print(f\"Epoch [{epoch+1}/{N_EPOCHS}], Loss: {mean_loss:.6f}\")\n",
    "        losses.append(mean_loss)\n",
    "\n",
    "    json.dump(losses, open(\"losses.json\", \"w\", encoding=\"utf-8\"))\n",
    "    json.dump(batch_losses, open(\"batch_losses.json\", \"w\", encoding=\"utf-8\"))\n",
    "    torch.save(model.state_dict(), \"model.pth\")"
   ]
  },
  {
   "cell_type": "code",
   "execution_count": 115,
   "id": "1b5f00b7",
   "metadata": {},
   "outputs": [
    {
     "data": {
      "text/html": [
       "<div>\n",
       "<style scoped>\n",
       "    .dataframe tbody tr th:only-of-type {\n",
       "        vertical-align: middle;\n",
       "    }\n",
       "\n",
       "    .dataframe tbody tr th {\n",
       "        vertical-align: top;\n",
       "    }\n",
       "\n",
       "    .dataframe thead th {\n",
       "        text-align: right;\n",
       "    }\n",
       "</style>\n",
       "<table border=\"1\" class=\"dataframe\">\n",
       "  <thead>\n",
       "    <tr style=\"text-align: right;\">\n",
       "      <th></th>\n",
       "      <th>Batch Loss</th>\n",
       "      <th>Validation Loss</th>\n",
       "    </tr>\n",
       "  </thead>\n",
       "  <tbody>\n",
       "    <tr>\n",
       "      <th>0</th>\n",
       "      <td>0.154323</td>\n",
       "      <td>0.162668</td>\n",
       "    </tr>\n",
       "    <tr>\n",
       "      <th>1</th>\n",
       "      <td>0.104166</td>\n",
       "      <td>0.162146</td>\n",
       "    </tr>\n",
       "    <tr>\n",
       "      <th>2</th>\n",
       "      <td>0.157522</td>\n",
       "      <td>0.159341</td>\n",
       "    </tr>\n",
       "    <tr>\n",
       "      <th>3</th>\n",
       "      <td>0.160672</td>\n",
       "      <td>0.156663</td>\n",
       "    </tr>\n",
       "    <tr>\n",
       "      <th>4</th>\n",
       "      <td>0.127131</td>\n",
       "      <td>0.152387</td>\n",
       "    </tr>\n",
       "    <tr>\n",
       "      <th>...</th>\n",
       "      <td>...</td>\n",
       "      <td>...</td>\n",
       "    </tr>\n",
       "    <tr>\n",
       "      <th>425</th>\n",
       "      <td>0.001263</td>\n",
       "      <td>0.001830</td>\n",
       "    </tr>\n",
       "    <tr>\n",
       "      <th>426</th>\n",
       "      <td>0.001727</td>\n",
       "      <td>0.001842</td>\n",
       "    </tr>\n",
       "    <tr>\n",
       "      <th>427</th>\n",
       "      <td>0.001890</td>\n",
       "      <td>0.001880</td>\n",
       "    </tr>\n",
       "    <tr>\n",
       "      <th>428</th>\n",
       "      <td>0.001118</td>\n",
       "      <td>0.001820</td>\n",
       "    </tr>\n",
       "    <tr>\n",
       "      <th>429</th>\n",
       "      <td>0.001546</td>\n",
       "      <td>0.001859</td>\n",
       "    </tr>\n",
       "  </tbody>\n",
       "</table>\n",
       "<p>430 rows × 2 columns</p>\n",
       "</div>"
      ],
      "text/plain": [
       "     Batch Loss  Validation Loss\n",
       "0      0.154323         0.162668\n",
       "1      0.104166         0.162146\n",
       "2      0.157522         0.159341\n",
       "3      0.160672         0.156663\n",
       "4      0.127131         0.152387\n",
       "..          ...              ...\n",
       "425    0.001263         0.001830\n",
       "426    0.001727         0.001842\n",
       "427    0.001890         0.001880\n",
       "428    0.001118         0.001820\n",
       "429    0.001546         0.001859\n",
       "\n",
       "[430 rows x 2 columns]"
      ]
     },
     "execution_count": 115,
     "metadata": {},
     "output_type": "execute_result"
    }
   ],
   "source": [
    "import pandas as pd\n",
    "import plotly.express as px\n",
    "\n",
    "df_losses = pd.DataFrame(batch_losses)\n",
    "df_losses"
   ]
  },
  {
   "cell_type": "code",
   "execution_count": 116,
   "id": "5f086b34",
   "metadata": {},
   "outputs": [
    {
     "data": {
      "application/vnd.plotly.v1+json": {
       "config": {
        "plotlyServerURL": "https://plot.ly"
       },
       "data": [
        {
         "hovertemplate": "variable=Batch Loss<br>Batch Number=%{x}<br>MSE Loss=%{y}<extra></extra>",
         "legendgroup": "Batch Loss",
         "line": {
          "color": "#636efa",
          "dash": "solid"
         },
         "marker": {
          "symbol": "circle"
         },
         "mode": "lines",
         "name": "Batch Loss",
         "orientation": "v",
         "showlegend": true,
         "type": "scatter",
         "x": {
          "bdata": "AAABAAIAAwAEAAUABgAHAAgACQAKAAsADAANAA4ADwAQABEAEgATABQAFQAWABcAGAAZABoAGwAcAB0AHgAfACAAIQAiACMAJAAlACYAJwAoACkAKgArACwALQAuAC8AMAAxADIAMwA0ADUANgA3ADgAOQA6ADsAPAA9AD4APwBAAEEAQgBDAEQARQBGAEcASABJAEoASwBMAE0ATgBPAFAAUQBSAFMAVABVAFYAVwBYAFkAWgBbAFwAXQBeAF8AYABhAGIAYwBkAGUAZgBnAGgAaQBqAGsAbABtAG4AbwBwAHEAcgBzAHQAdQB2AHcAeAB5AHoAewB8AH0AfgB/AIAAgQCCAIMAhACFAIYAhwCIAIkAigCLAIwAjQCOAI8AkACRAJIAkwCUAJUAlgCXAJgAmQCaAJsAnACdAJ4AnwCgAKEAogCjAKQApQCmAKcAqACpAKoAqwCsAK0ArgCvALAAsQCyALMAtAC1ALYAtwC4ALkAugC7ALwAvQC+AL8AwADBAMIAwwDEAMUAxgDHAMgAyQDKAMsAzADNAM4AzwDQANEA0gDTANQA1QDWANcA2ADZANoA2wDcAN0A3gDfAOAA4QDiAOMA5ADlAOYA5wDoAOkA6gDrAOwA7QDuAO8A8ADxAPIA8wD0APUA9gD3APgA+QD6APsA/AD9AP4A/wAAAQEBAgEDAQQBBQEGAQcBCAEJAQoBCwEMAQ0BDgEPARABEQESARMBFAEVARYBFwEYARkBGgEbARwBHQEeAR8BIAEhASIBIwEkASUBJgEnASgBKQEqASsBLAEtAS4BLwEwATEBMgEzATQBNQE2ATcBOAE5AToBOwE8AT0BPgE/AUABQQFCAUMBRAFFAUYBRwFIAUkBSgFLAUwBTQFOAU8BUAFRAVIBUwFUAVUBVgFXAVgBWQFaAVsBXAFdAV4BXwFgAWEBYgFjAWQBZQFmAWcBaAFpAWoBawFsAW0BbgFvAXABcQFyAXMBdAF1AXYBdwF4AXkBegF7AXwBfQF+AX8BgAGBAYIBgwGEAYUBhgGHAYgBiQGKAYsBjAGNAY4BjwGQAZEBkgGTAZQBlQGWAZcBmAGZAZoBmwGcAZ0BngGfAaABoQGiAaMBpAGlAaYBpwGoAakBqgGrAawBrQE=",
          "dtype": "i2"
         },
         "xaxis": "x",
         "y": {
          "bdata": "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",
          "dtype": "f8"
         },
         "yaxis": "y"
        },
        {
         "hovertemplate": "variable=Validation Loss<br>Batch Number=%{x}<br>MSE Loss=%{y}<extra></extra>",
         "legendgroup": "Validation Loss",
         "line": {
          "color": "#EF553B",
          "dash": "solid"
         },
         "marker": {
          "symbol": "circle"
         },
         "mode": "lines",
         "name": "Validation Loss",
         "orientation": "v",
         "showlegend": true,
         "type": "scatter",
         "x": {
          "bdata": "AAABAAIAAwAEAAUABgAHAAgACQAKAAsADAANAA4ADwAQABEAEgATABQAFQAWABcAGAAZABoAGwAcAB0AHgAfACAAIQAiACMAJAAlACYAJwAoACkAKgArACwALQAuAC8AMAAxADIAMwA0ADUANgA3ADgAOQA6ADsAPAA9AD4APwBAAEEAQgBDAEQARQBGAEcASABJAEoASwBMAE0ATgBPAFAAUQBSAFMAVABVAFYAVwBYAFkAWgBbAFwAXQBeAF8AYABhAGIAYwBkAGUAZgBnAGgAaQBqAGsAbABtAG4AbwBwAHEAcgBzAHQAdQB2AHcAeAB5AHoAewB8AH0AfgB/AIAAgQCCAIMAhACFAIYAhwCIAIkAigCLAIwAjQCOAI8AkACRAJIAkwCUAJUAlgCXAJgAmQCaAJsAnACdAJ4AnwCgAKEAogCjAKQApQCmAKcAqACpAKoAqwCsAK0ArgCvALAAsQCyALMAtAC1ALYAtwC4ALkAugC7ALwAvQC+AL8AwADBAMIAwwDEAMUAxgDHAMgAyQDKAMsAzADNAM4AzwDQANEA0gDTANQA1QDWANcA2ADZANoA2wDcAN0A3gDfAOAA4QDiAOMA5ADlAOYA5wDoAOkA6gDrAOwA7QDuAO8A8ADxAPIA8wD0APUA9gD3APgA+QD6APsA/AD9AP4A/wAAAQEBAgEDAQQBBQEGAQcBCAEJAQoBCwEMAQ0BDgEPARABEQESARMBFAEVARYBFwEYARkBGgEbARwBHQEeAR8BIAEhASIBIwEkASUBJgEnASgBKQEqASsBLAEtAS4BLwEwATEBMgEzATQBNQE2ATcBOAE5AToBOwE8AT0BPgE/AUABQQFCAUMBRAFFAUYBRwFIAUkBSgFLAUwBTQFOAU8BUAFRAVIBUwFUAVUBVgFXAVgBWQFaAVsBXAFdAV4BXwFgAWEBYgFjAWQBZQFmAWcBaAFpAWoBawFsAW0BbgFvAXABcQFyAXMBdAF1AXYBdwF4AXkBegF7AXwBfQF+AX8BgAGBAYIBgwGEAYUBhgGHAYgBiQGKAYsBjAGNAY4BjwGQAZEBkgGTAZQBlQGWAZcBmAGZAZoBmwGcAZ0BngGfAaABoQGiAaMBpAGlAaYBpwGoAakBqgGrAawBrQE=",
          "dtype": "i2"
         },
         "xaxis": "x",
         "y": {
          "bdata": "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",
          "dtype": "f8"
         },
         "yaxis": "y"
        }
       ],
       "layout": {
        "height": 400,
        "legend": {},
        "margin": {
         "b": 20,
         "l": 20,
         "r": 20,
         "t": 20
        },
        "template": {
         "data": {
          "bar": [
           {
            "error_x": {
             "color": "#2a3f5f"
            },
            "error_y": {
             "color": "#2a3f5f"
            },
            "marker": {
             "line": {
              "color": "#E5ECF6",
              "width": 0.5
             },
             "pattern": {
              "fillmode": "overlay",
              "size": 10,
              "solidity": 0.2
             }
            },
            "type": "bar"
           }
          ],
          "barpolar": [
           {
            "marker": {
             "line": {
              "color": "#E5ECF6",
              "width": 0.5
             },
             "pattern": {
              "fillmode": "overlay",
              "size": 10,
              "solidity": 0.2
             }
            },
            "type": "barpolar"
           }
          ],
          "carpet": [
           {
            "aaxis": {
             "endlinecolor": "#2a3f5f",
             "gridcolor": "white",
             "linecolor": "white",
             "minorgridcolor": "white",
             "startlinecolor": "#2a3f5f"
            },
            "baxis": {
             "endlinecolor": "#2a3f5f",
             "gridcolor": "white",
             "linecolor": "white",
             "minorgridcolor": "white",
             "startlinecolor": "#2a3f5f"
            },
            "type": "carpet"
           }
          ],
          "choropleth": [
           {
            "colorbar": {
             "outlinewidth": 0,
             "ticks": ""
            },
            "type": "choropleth"
           }
          ],
          "contour": [
           {
            "colorbar": {
             "outlinewidth": 0,
             "ticks": ""
            },
            "colorscale": [
             [
              0,
              "#0d0887"
             ],
             [
              0.1111111111111111,
              "#46039f"
             ],
             [
              0.2222222222222222,
              "#7201a8"
             ],
             [
              0.3333333333333333,
              "#9c179e"
             ],
             [
              0.4444444444444444,
              "#bd3786"
             ],
             [
              0.5555555555555556,
              "#d8576b"
             ],
             [
              0.6666666666666666,
              "#ed7953"
             ],
             [
              0.7777777777777778,
              "#fb9f3a"
             ],
             [
              0.8888888888888888,
              "#fdca26"
             ],
             [
              1,
              "#f0f921"
             ]
            ],
            "type": "contour"
           }
          ],
          "contourcarpet": [
           {
            "colorbar": {
             "outlinewidth": 0,
             "ticks": ""
            },
            "type": "contourcarpet"
           }
          ],
          "heatmap": [
           {
            "colorbar": {
             "outlinewidth": 0,
             "ticks": ""
            },
            "colorscale": [
             [
              0,
              "#0d0887"
             ],
             [
              0.1111111111111111,
              "#46039f"
             ],
             [
              0.2222222222222222,
              "#7201a8"
             ],
             [
              0.3333333333333333,
              "#9c179e"
             ],
             [
              0.4444444444444444,
              "#bd3786"
             ],
             [
              0.5555555555555556,
              "#d8576b"
             ],
             [
              0.6666666666666666,
              "#ed7953"
             ],
             [
              0.7777777777777778,
              "#fb9f3a"
             ],
             [
              0.8888888888888888,
              "#fdca26"
             ],
             [
              1,
              "#f0f921"
             ]
            ],
            "type": "heatmap"
           }
          ],
          "histogram": [
           {
            "marker": {
             "pattern": {
              "fillmode": "overlay",
              "size": 10,
              "solidity": 0.2
             }
            },
            "type": "histogram"
           }
          ],
          "histogram2d": [
           {
            "colorbar": {
             "outlinewidth": 0,
             "ticks": ""
            },
            "colorscale": [
             [
              0,
              "#0d0887"
             ],
             [
              0.1111111111111111,
              "#46039f"
             ],
             [
              0.2222222222222222,
              "#7201a8"
             ],
             [
              0.3333333333333333,
              "#9c179e"
             ],
             [
              0.4444444444444444,
              "#bd3786"
             ],
             [
              0.5555555555555556,
              "#d8576b"
             ],
             [
              0.6666666666666666,
              "#ed7953"
             ],
             [
              0.7777777777777778,
              "#fb9f3a"
             ],
             [
              0.8888888888888888,
              "#fdca26"
             ],
             [
              1,
              "#f0f921"
             ]
            ],
            "type": "histogram2d"
           }
          ],
          "histogram2dcontour": [
           {
            "colorbar": {
             "outlinewidth": 0,
             "ticks": ""
            },
            "colorscale": [
             [
              0,
              "#0d0887"
             ],
             [
              0.1111111111111111,
              "#46039f"
             ],
             [
              0.2222222222222222,
              "#7201a8"
             ],
             [
              0.3333333333333333,
              "#9c179e"
             ],
             [
              0.4444444444444444,
              "#bd3786"
             ],
             [
              0.5555555555555556,
              "#d8576b"
             ],
             [
              0.6666666666666666,
              "#ed7953"
             ],
             [
              0.7777777777777778,
              "#fb9f3a"
             ],
             [
              0.8888888888888888,
              "#fdca26"
             ],
             [
              1,
              "#f0f921"
             ]
            ],
            "type": "histogram2dcontour"
           }
          ],
          "mesh3d": [
           {
            "colorbar": {
             "outlinewidth": 0,
             "ticks": ""
            },
            "type": "mesh3d"
           }
          ],
          "parcoords": [
           {
            "line": {
             "colorbar": {
              "outlinewidth": 0,
              "ticks": ""
             }
            },
            "type": "parcoords"
           }
          ],
          "pie": [
           {
            "automargin": true,
            "type": "pie"
           }
          ],
          "scatter": [
           {
            "fillpattern": {
             "fillmode": "overlay",
             "size": 10,
             "solidity": 0.2
            },
            "type": "scatter"
           }
          ],
          "scatter3d": [
           {
            "line": {
             "colorbar": {
              "outlinewidth": 0,
              "ticks": ""
             }
            },
            "marker": {
             "colorbar": {
              "outlinewidth": 0,
              "ticks": ""
             }
            },
            "type": "scatter3d"
           }
          ],
          "scattercarpet": [
           {
            "marker": {
             "colorbar": {
              "outlinewidth": 0,
              "ticks": ""
             }
            },
            "type": "scattercarpet"
           }
          ],
          "scattergeo": [
           {
            "marker": {
             "colorbar": {
              "outlinewidth": 0,
              "ticks": ""
             }
            },
            "type": "scattergeo"
           }
          ],
          "scattergl": [
           {
            "marker": {
             "colorbar": {
              "outlinewidth": 0,
              "ticks": ""
             }
            },
            "type": "scattergl"
           }
          ],
          "scattermap": [
           {
            "marker": {
             "colorbar": {
              "outlinewidth": 0,
              "ticks": ""
             }
            },
            "type": "scattermap"
           }
          ],
          "scattermapbox": [
           {
            "marker": {
             "colorbar": {
              "outlinewidth": 0,
              "ticks": ""
             }
            },
            "type": "scattermapbox"
           }
          ],
          "scatterpolar": [
           {
            "marker": {
             "colorbar": {
              "outlinewidth": 0,
              "ticks": ""
             }
            },
            "type": "scatterpolar"
           }
          ],
          "scatterpolargl": [
           {
            "marker": {
             "colorbar": {
              "outlinewidth": 0,
              "ticks": ""
             }
            },
            "type": "scatterpolargl"
           }
          ],
          "scatterternary": [
           {
            "marker": {
             "colorbar": {
              "outlinewidth": 0,
              "ticks": ""
             }
            },
            "type": "scatterternary"
           }
          ],
          "surface": [
           {
            "colorbar": {
             "outlinewidth": 0,
             "ticks": ""
            },
            "colorscale": [
             [
              0,
              "#0d0887"
             ],
             [
              0.1111111111111111,
              "#46039f"
             ],
             [
              0.2222222222222222,
              "#7201a8"
             ],
             [
              0.3333333333333333,
              "#9c179e"
             ],
             [
              0.4444444444444444,
              "#bd3786"
             ],
             [
              0.5555555555555556,
              "#d8576b"
             ],
             [
              0.6666666666666666,
              "#ed7953"
             ],
             [
              0.7777777777777778,
              "#fb9f3a"
             ],
             [
              0.8888888888888888,
              "#fdca26"
             ],
             [
              1,
              "#f0f921"
             ]
            ],
            "type": "surface"
           }
          ],
          "table": [
           {
            "cells": {
             "fill": {
              "color": "#EBF0F8"
             },
             "line": {
              "color": "white"
             }
            },
            "header": {
             "fill": {
              "color": "#C8D4E3"
             },
             "line": {
              "color": "white"
             }
            },
            "type": "table"
           }
          ]
         },
         "layout": {
          "annotationdefaults": {
           "arrowcolor": "#2a3f5f",
           "arrowhead": 0,
           "arrowwidth": 1
          },
          "autotypenumbers": "strict",
          "coloraxis": {
           "colorbar": {
            "outlinewidth": 0,
            "ticks": ""
           }
          },
          "colorscale": {
           "diverging": [
            [
             0,
             "#8e0152"
            ],
            [
             0.1,
             "#c51b7d"
            ],
            [
             0.2,
             "#de77ae"
            ],
            [
             0.3,
             "#f1b6da"
            ],
            [
             0.4,
             "#fde0ef"
            ],
            [
             0.5,
             "#f7f7f7"
            ],
            [
             0.6,
             "#e6f5d0"
            ],
            [
             0.7,
             "#b8e186"
            ],
            [
             0.8,
             "#7fbc41"
            ],
            [
             0.9,
             "#4d9221"
            ],
            [
             1,
             "#276419"
            ]
           ],
           "sequential": [
            [
             0,
             "#0d0887"
            ],
            [
             0.1111111111111111,
             "#46039f"
            ],
            [
             0.2222222222222222,
             "#7201a8"
            ],
            [
             0.3333333333333333,
             "#9c179e"
            ],
            [
             0.4444444444444444,
             "#bd3786"
            ],
            [
             0.5555555555555556,
             "#d8576b"
            ],
            [
             0.6666666666666666,
             "#ed7953"
            ],
            [
             0.7777777777777778,
             "#fb9f3a"
            ],
            [
             0.8888888888888888,
             "#fdca26"
            ],
            [
             1,
             "#f0f921"
            ]
           ],
           "sequentialminus": [
            [
             0,
             "#0d0887"
            ],
            [
             0.1111111111111111,
             "#46039f"
            ],
            [
             0.2222222222222222,
             "#7201a8"
            ],
            [
             0.3333333333333333,
             "#9c179e"
            ],
            [
             0.4444444444444444,
             "#bd3786"
            ],
            [
             0.5555555555555556,
             "#d8576b"
            ],
            [
             0.6666666666666666,
             "#ed7953"
            ],
            [
             0.7777777777777778,
             "#fb9f3a"
            ],
            [
             0.8888888888888888,
             "#fdca26"
            ],
            [
             1,
             "#f0f921"
            ]
           ]
          },
          "colorway": [
           "#636efa",
           "#EF553B",
           "#00cc96",
           "#ab63fa",
           "#FFA15A",
           "#19d3f3",
           "#FF6692",
           "#B6E880",
           "#FF97FF",
           "#FECB52"
          ],
          "font": {
           "color": "#2a3f5f"
          },
          "geo": {
           "bgcolor": "white",
           "lakecolor": "white",
           "landcolor": "#E5ECF6",
           "showlakes": true,
           "showland": true,
           "subunitcolor": "white"
          },
          "hoverlabel": {
           "align": "left"
          },
          "hovermode": "closest",
          "mapbox": {
           "style": "light"
          },
          "paper_bgcolor": "white",
          "plot_bgcolor": "#E5ECF6",
          "polar": {
           "angularaxis": {
            "gridcolor": "white",
            "linecolor": "white",
            "ticks": ""
           },
           "bgcolor": "#E5ECF6",
           "radialaxis": {
            "gridcolor": "white",
            "linecolor": "white",
            "ticks": ""
           }
          },
          "scene": {
           "xaxis": {
            "backgroundcolor": "#E5ECF6",
            "gridcolor": "white",
            "gridwidth": 2,
            "linecolor": "white",
            "showbackground": true,
            "ticks": "",
            "zerolinecolor": "white"
           },
           "yaxis": {
            "backgroundcolor": "#E5ECF6",
            "gridcolor": "white",
            "gridwidth": 2,
            "linecolor": "white",
            "showbackground": true,
            "ticks": "",
            "zerolinecolor": "white"
           },
           "zaxis": {
            "backgroundcolor": "#E5ECF6",
            "gridcolor": "white",
            "gridwidth": 2,
            "linecolor": "white",
            "showbackground": true,
            "ticks": "",
            "zerolinecolor": "white"
           }
          },
          "shapedefaults": {
           "line": {
            "color": "#2a3f5f"
           }
          },
          "ternary": {
           "aaxis": {
            "gridcolor": "white",
            "linecolor": "white",
            "ticks": ""
           },
           "baxis": {
            "gridcolor": "white",
            "linecolor": "white",
            "ticks": ""
           },
           "bgcolor": "#E5ECF6",
           "caxis": {
            "gridcolor": "white",
            "linecolor": "white",
            "ticks": ""
           }
          },
          "title": {
           "x": 0.05
          },
          "xaxis": {
           "automargin": true,
           "gridcolor": "white",
           "linecolor": "white",
           "ticks": "",
           "title": {
            "standoff": 15
           },
           "zerolinecolor": "white",
           "zerolinewidth": 2
          },
          "yaxis": {
           "automargin": true,
           "gridcolor": "white",
           "linecolor": "white",
           "ticks": "",
           "title": {
            "standoff": 15
           },
           "zerolinecolor": "white",
           "zerolinewidth": 2
          }
         }
        },
        "width": 800,
        "xaxis": {
         "anchor": "y",
         "domain": [
          0,
          1
         ],
         "tickfont": {
          "size": 15
         },
         "title": {
          "font": {
           "size": 20
          },
          "text": "Batch Number"
         }
        },
        "yaxis": {
         "anchor": "x",
         "domain": [
          0,
          1
         ],
         "tickfont": {
          "size": 15
         },
         "title": {
          "font": {
           "size": 20
          },
          "text": "MSE Loss"
         }
        }
       }
      }
     },
     "metadata": {},
     "output_type": "display_data"
    }
   ],
   "source": [
    "fig = px.line(df_losses, labels={\"value\": \"MSE Loss\", \"index\": \"Batch Number\"})\n",
    "fig.update_layout(\n",
    "    width=800,\n",
    "    height=400,\n",
    "    legend=None,\n",
    "    margin=dict(l=20, r=20, t=20, b=20),\n",
    "    yaxis=dict(tickfont=dict(size=15), title_font=dict(size=20)),\n",
    "    xaxis=dict(tickfont=dict(size=15), title_font=dict(size=20)),\n",
    ")\n",
    "fig.write_image(\"../images/batch_loss.pdf\")\n",
    "fig.write_image(\"../images/batch_loss.png\")\n",
    "fig.show()"
   ]
  },
  {
   "cell_type": "code",
   "execution_count": 117,
   "id": "95ffc20a",
   "metadata": {},
   "outputs": [],
   "source": [
    "def compare_orig_and_reconstructed(orig, recon, error, path=None):\n",
    "    # Revert normalization\n",
    "    orig = (orig + 1) / 2\n",
    "    recon = (recon + 1) / 2\n",
    "    diff = abs(recon - orig)\n",
    "\n",
    "    plt.subplot(1, 3, 1)\n",
    "    plt.title(\"Original\")\n",
    "    plt.imshow(np.transpose(orig[0], (1, 2, 0)))\n",
    "    plt.axis(\"off\")\n",
    "\n",
    "    plt.subplot(1, 3, 2)\n",
    "    plt.title(f\"Reconstructed ({error:.4f})\")\n",
    "    plt.imshow(np.transpose(recon[0], (1, 2, 0)))\n",
    "    plt.axis(\"off\")\n",
    "\n",
    "    plt.subplot(1, 3, 3)\n",
    "    plt.title(f\"Difference\")\n",
    "    plt.imshow(np.transpose(diff[0], (1, 2, 0)))\n",
    "    plt.axis(\"off\")\n",
    "\n",
    "    if path is not None:\n",
    "        plt.savefig(path, dpi=199, bbox_inches=\"tight\")\n",
    "    plt.show()"
   ]
  },
  {
   "cell_type": "code",
   "execution_count": 118,
   "id": "3d1df6e2",
   "metadata": {},
   "outputs": [],
   "source": [
    "def compute_reconstruction_error_from_path(img_path):\n",
    "    img = Image.open(img_path)\n",
    "    img_tensor = transform(img).unsqueeze(0).to(DEVICE)\n",
    "    with torch.no_grad():\n",
    "        output = model(img_tensor)\n",
    "    loss = criterion(output, img_tensor).item()\n",
    "    return loss, img_tensor.cpu(), output.cpu()"
   ]
  },
  {
   "cell_type": "code",
   "execution_count": 119,
   "id": "a955bb97",
   "metadata": {},
   "outputs": [],
   "source": [
    "import torch.nn.functional as F\n",
    "\n",
    "def compute_reconstruction_error(original, reconstructed):\n",
    "    # Mean squared error per sample\n",
    "    errors = F.mse_loss(reconstructed, original, reduction='none')\n",
    "    errors = errors.view(errors.size(0), -1).mean(dim=1)  # (B,)\n",
    "    return errors"
   ]
  },
  {
   "cell_type": "code",
   "execution_count": 120,
   "id": "27afb0a1",
   "metadata": {},
   "outputs": [
    {
     "data": {
      "text/plain": [
       "(np.float32(0.0012105682),\n",
       " np.float32(0.002319264),\n",
       " np.float32(0.0034521199),\n",
       " np.float32(0.006526873),\n",
       " np.float32(0.009125256),\n",
       " np.float32(0.009750993))"
      ]
     },
     "execution_count": 120,
     "metadata": {},
     "output_type": "execute_result"
    }
   ],
   "source": [
    "# Run model on validation set\n",
    "model.eval()\n",
    "all_errors = []\n",
    "with torch.no_grad():\n",
    "    for batch in val_loader:\n",
    "        imgs = batch.to(DEVICE)\n",
    "        recon = model(imgs)\n",
    "        errors = compute_reconstruction_error(imgs, recon)\n",
    "        all_errors.extend(errors.cpu().numpy())\n",
    "\n",
    "# Set threshold to 95th percentile of normal reconstruction error\n",
    "import numpy as np\n",
    "threshold_50_q = np.percentile(all_errors, 50)\n",
    "threshold_80_q = np.percentile(all_errors, 80)\n",
    "threshold_90_q = np.percentile(all_errors, 90)\n",
    "threshold_95_q = np.percentile(all_errors, 95)\n",
    "threshold_99_q = np.percentile(all_errors, 99)\n",
    "threshold_max = np.max(all_errors)\n",
    "threshold_50_q, threshold_80_q, threshold_90_q, threshold_95_q, threshold_99_q, threshold_max"
   ]
  },
  {
   "cell_type": "code",
   "execution_count": 121,
   "id": "0d7bbcd9",
   "metadata": {},
   "outputs": [
    {
     "data": {
      "text/plain": [
       "(np.float32(0.002319264),\n",
       " np.float32(0.0034521199),\n",
       " np.float32(0.006526873),\n",
       " np.float32(0.009125256),\n",
       " np.float32(0.009750993))"
      ]
     },
     "execution_count": 121,
     "metadata": {},
     "output_type": "execute_result"
    }
   ],
   "source": [
    "d_50_q = np.percentile(all_errors, 50)\n",
    "threshold_80_q = np.percentile(all_errors, 80)\n",
    "threshold_90_q = np.percentile(all_errors, 90)\n",
    "threshold_95_q = np.percentile(all_errors, 95)\n",
    "threshold_99_q = np.percentile(all_errors, 99)\n",
    "threshold_max = np.max(all_errors)\n",
    "threshold_80_q, threshold_90_q, threshold_95_q, threshold_99_q, threshold_max"
   ]
  },
  {
   "cell_type": "code",
   "execution_count": 122,
   "id": "e50a0f81",
   "metadata": {},
   "outputs": [
    {
     "name": "stdout",
     "output_type": "stream",
     "text": [
      "Reconstruction error: 0.0016\n"
     ]
    },
    {
     "data": {
      "image/png": "[encoded data removed]",
      "text/plain": [
       "<Figure size 640x480 with 3 Axes>"
      ]
     },
     "metadata": {},
     "output_type": "display_data"
    },
    {
     "name": "stdout",
     "output_type": "stream",
     "text": [
      "Reconstruction error: 0.0524\n"
     ]
    },
    {
     "data": {
      "image/png": "[encoded data removed]",
      "text/plain": [
       "<Figure size 640x480 with 3 Axes>"
      ]
     },
     "metadata": {},
     "output_type": "display_data"
    },
    {
     "name": "stdout",
     "output_type": "stream",
     "text": [
      "Reconstruction error: 0.0072\n"
     ]
    },
    {
     "data": {
      "image/png": "[encoded data removed]",
      "text/plain": [
       "<Figure size 640x480 with 3 Axes>"
      ]
     },
     "metadata": {},
     "output_type": "display_data"
    },
    {
     "name": "stdout",
     "output_type": "stream",
     "text": [
      "Reconstruction error: 0.0022\n"
     ]
    },
    {
     "data": {
      "image/png": "[encoded data removed]",
      "text/plain": [
       "<Figure size 640x480 with 3 Axes>"
      ]
     },
     "metadata": {},
     "output_type": "display_data"
    }
   ],
   "source": [
    "# Example\n",
    "error, orig, recon = compute_reconstruction_error_from_path(\"marble/test/good/_0_0_20210525_15434.jpg\")\n",
    "print(f\"Reconstruction error: {error:.4f}\")\n",
    "compare_orig_and_reconstructed(orig, recon, error, \"../images/rec_good.png\")\n",
    "\n",
    "error, orig, recon = compute_reconstruction_error_from_path(\"marble/test/crack/_0_0_20210531_17292_0.jpg\")\n",
    "print(f\"Reconstruction error: {error:.4f}\")\n",
    "compare_orig_and_reconstructed(orig, recon, error, \"../images/rec_crack.png\")\n",
    "\n",
    "error, orig, recon = compute_reconstruction_error_from_path(\"marble/test/joint/_0_4352_20210525_15441_1.jpg\")\n",
    "print(f\"Reconstruction error: {error:.4f}\")\n",
    "compare_orig_and_reconstructed(orig, recon, error, \"../images/rec_joint.png\")\n",
    "\n",
    "error, orig, recon = compute_reconstruction_error_from_path(\"marble/test/dot/_0_2560_20210531_10521_0.jpg\")\n",
    "print(f\"Reconstruction error: {error:.4f}\")\n",
    "compare_orig_and_reconstructed(orig, recon, error, \"../images/rec_dot.png\")"
   ]
  },
  {
   "cell_type": "code",
   "execution_count": 123,
   "id": "2bb5056a",
   "metadata": {},
   "outputs": [],
   "source": [
    "from numpy import mean\n",
    "\n",
    "\n",
    "def compute_reconstruction_errors(directory, error_thresh = None):\n",
    "    recon_errors = []\n",
    "    for file_name in os.listdir(directory):\n",
    "        error, orig, recon = compute_reconstruction_error_from_path(os.path.join(directory, file_name))\n",
    "        if error_thresh is not None:\n",
    "            if error > error_thresh:\n",
    "                print(error)\n",
    "                compare_orig_and_reconstructed(orig, recon)\n",
    "        recon_errors.append(error)\n",
    "    return recon_errors"
   ]
  },
  {
   "cell_type": "code",
   "execution_count": 124,
   "id": "d5291576",
   "metadata": {},
   "outputs": [
    {
     "name": "stdout",
     "output_type": "stream",
     "text": [
      "0.0017863473040907753\n",
      "0.02439584803121559\n",
      "0.014388651723581631\n",
      "0.008098905288628383\n"
     ]
    }
   ],
   "source": [
    "recon_errors_good = compute_reconstruction_errors(\"marble/test/good\")\n",
    "print(np.mean(recon_errors_good))\n",
    "recon_errors_crack = compute_reconstruction_errors(\"marble/test/crack\")\n",
    "print(np.mean(recon_errors_crack))\n",
    "recon_errors_joint = compute_reconstruction_errors(\"marble/test/joint\")\n",
    "print(np.mean(recon_errors_joint))\n",
    "recon_errors_dot = compute_reconstruction_errors(\"marble/test/dot\")\n",
    "print(np.mean(recon_errors_dot))"
   ]
  },
  {
   "cell_type": "code",
   "execution_count": 125,
   "id": "125779c9",
   "metadata": {},
   "outputs": [
    {
     "data": {
      "text/html": [
       "<div>\n",
       "<style scoped>\n",
       "    .dataframe tbody tr th:only-of-type {\n",
       "        vertical-align: middle;\n",
       "    }\n",
       "\n",
       "    .dataframe tbody tr th {\n",
       "        vertical-align: top;\n",
       "    }\n",
       "\n",
       "    .dataframe thead th {\n",
       "        text-align: right;\n",
       "    }\n",
       "</style>\n",
       "<table border=\"1\" class=\"dataframe\">\n",
       "  <thead>\n",
       "    <tr style=\"text-align: right;\">\n",
       "      <th></th>\n",
       "      <th>class</th>\n",
       "      <th>error</th>\n",
       "    </tr>\n",
       "  </thead>\n",
       "  <tbody>\n",
       "    <tr>\n",
       "      <th>0</th>\n",
       "      <td>Gut</td>\n",
       "      <td>0.001019</td>\n",
       "    </tr>\n",
       "    <tr>\n",
       "      <th>1</th>\n",
       "      <td>Gut</td>\n",
       "      <td>0.000893</td>\n",
       "    </tr>\n",
       "    <tr>\n",
       "      <th>2</th>\n",
       "      <td>Gut</td>\n",
       "      <td>0.000786</td>\n",
       "    </tr>\n",
       "    <tr>\n",
       "      <th>3</th>\n",
       "      <td>Gut</td>\n",
       "      <td>0.002006</td>\n",
       "    </tr>\n",
       "    <tr>\n",
       "      <th>4</th>\n",
       "      <td>Gut</td>\n",
       "      <td>0.001796</td>\n",
       "    </tr>\n",
       "    <tr>\n",
       "      <th>...</th>\n",
       "      <td>...</td>\n",
       "      <td>...</td>\n",
       "    </tr>\n",
       "    <tr>\n",
       "      <th>1130</th>\n",
       "      <td>Punkt</td>\n",
       "      <td>0.009703</td>\n",
       "    </tr>\n",
       "    <tr>\n",
       "      <th>1131</th>\n",
       "      <td>Punkt</td>\n",
       "      <td>0.001964</td>\n",
       "    </tr>\n",
       "    <tr>\n",
       "      <th>1132</th>\n",
       "      <td>Punkt</td>\n",
       "      <td>0.003765</td>\n",
       "    </tr>\n",
       "    <tr>\n",
       "      <th>1133</th>\n",
       "      <td>Punkt</td>\n",
       "      <td>0.002627</td>\n",
       "    </tr>\n",
       "    <tr>\n",
       "      <th>1134</th>\n",
       "      <td>Punkt</td>\n",
       "      <td>0.001140</td>\n",
       "    </tr>\n",
       "  </tbody>\n",
       "</table>\n",
       "<p>1135 rows × 2 columns</p>\n",
       "</div>"
      ],
      "text/plain": [
       "      class     error\n",
       "0       Gut  0.001019\n",
       "1       Gut  0.000893\n",
       "2       Gut  0.000786\n",
       "3       Gut  0.002006\n",
       "4       Gut  0.001796\n",
       "...     ...       ...\n",
       "1130  Punkt  0.009703\n",
       "1131  Punkt  0.001964\n",
       "1132  Punkt  0.003765\n",
       "1133  Punkt  0.002627\n",
       "1134  Punkt  0.001140\n",
       "\n",
       "[1135 rows x 2 columns]"
      ]
     },
     "execution_count": 125,
     "metadata": {},
     "output_type": "execute_result"
    }
   ],
   "source": [
    "recon_errors_good_list_of_dicts = [{\"class\": \"Gut\", \"error\": error} for error in recon_errors_good]\n",
    "recon_errors_crack_list_of_dicts = [{\"class\": \"Riss\", \"error\": error} for error in recon_errors_crack]\n",
    "recon_errors_joint_list_of_dicts = [{\"class\": \"Verbindung\", \"error\": error} for error in recon_errors_joint]\n",
    "recon_errors_dot_list_of_dicts = [{\"class\": \"Punkt\", \"error\": error} for error in recon_errors_dot]\n",
    "all_recon_errors = (\n",
    "    recon_errors_good_list_of_dicts\n",
    "    + recon_errors_crack_list_of_dicts\n",
    "    + recon_errors_joint_list_of_dicts\n",
    "    + recon_errors_dot_list_of_dicts\n",
    ")\n",
    "all_recon_errors_df = pd.DataFrame(all_recon_errors)\n",
    "all_recon_errors_df"
   ]
  },
  {
   "cell_type": "code",
   "execution_count": 126,
   "id": "6da56c1f",
   "metadata": {},
   "outputs": [
    {
     "data": {
      "application/vnd.plotly.v1+json": {
       "config": {
        "plotlyServerURL": "https://plot.ly"
       },
       "data": [
        {
         "alignmentgroup": "True",
         "hovertemplate": "class=%{x}<br>error=%{y}<extra></extra>",
         "legendgroup": "Gut",
         "marker": {
          "color": "#636efa"
         },
         "name": "Gut",
         "notched": false,
         "offsetgroup": "Gut",
         "orientation": "v",
         "showlegend": true,
         "type": "box",
         "x": [
          "Gut",
          "Gut",
          "Gut",
          "Gut",
          "Gut",
          "Gut",
          "Gut",
          "Gut",
          "Gut",
          "Gut",
          "Gut",
          "Gut",
          "Gut",
          "Gut",
          "Gut",
          "Gut",
          "Gut",
          "Gut",
          "Gut",
          "Gut",
          "Gut",
          "Gut",
          "Gut",
          "Gut",
          "Gut",
          "Gut",
          "Gut",
          "Gut",
          "Gut",
          "Gut",
          "Gut",
          "Gut",
          "Gut",
          "Gut",
          "Gut",
          "Gut",
          "Gut",
          "Gut",
          "Gut",
          "Gut",
          "Gut",
          "Gut",
          "Gut",
          "Gut",
          "Gut",
          "Gut",
          "Gut",
          "Gut",
          "Gut",
          "Gut",
          "Gut",
          "Gut",
          "Gut",
          "Gut",
          "Gut",
          "Gut",
          "Gut",
          "Gut",
          "Gut",
          "Gut",
          "Gut",
          "Gut",
          "Gut",
          "Gut",
          "Gut",
          "Gut",
          "Gut",
          "Gut",
          "Gut",
          "Gut",
          "Gut",
          "Gut",
          "Gut",
          "Gut",
          "Gut",
          "Gut",
          "Gut",
          "Gut",
          "Gut",
          "Gut",
          "Gut",
          "Gut",
          "Gut",
          "Gut",
          "Gut",
          "Gut",
          "Gut",
          "Gut",
          "Gut",
          "Gut",
          "Gut",
          "Gut",
          "Gut",
          "Gut",
          "Gut",
          "Gut",
          "Gut",
          "Gut",
          "Gut",
          "Gut",
          "Gut",
          "Gut",
          "Gut",
          "Gut",
          "Gut",
          "Gut",
          "Gut",
          "Gut",
          "Gut",
          "Gut",
          "Gut",
          "Gut",
          "Gut",
          "Gut",
          "Gut",
          "Gut",
          "Gut",
          "Gut",
          "Gut",
          "Gut",
          "Gut",
          "Gut",
          "Gut",
          "Gut",
          "Gut",
          "Gut",
          "Gut",
          "Gut",
          "Gut",
          "Gut",
          "Gut",
          "Gut",
          "Gut",
          "Gut",
          "Gut",
          "Gut",
          "Gut",
          "Gut",
          "Gut",
          "Gut",
          "Gut",
          "Gut",
          "Gut",
          "Gut",
          "Gut",
          "Gut",
          "Gut",
          "Gut",
          "Gut",
          "Gut",
          "Gut",
          "Gut",
          "Gut",
          "Gut",
          "Gut",
          "Gut",
          "Gut",
          "Gut",
          "Gut",
          "Gut",
          "Gut",
          "Gut",
          "Gut",
          "Gut",
          "Gut",
          "Gut",
          "Gut",
          "Gut",
          "Gut",
          "Gut",
          "Gut",
          "Gut",
          "Gut",
          "Gut",
          "Gut",
          "Gut",
          "Gut",
          "Gut",
          "Gut",
          "Gut",
          "Gut",
          "Gut",
          "Gut",
          "Gut",
          "Gut",
          "Gut",
          "Gut",
          "Gut",
          "Gut",
          "Gut",
          "Gut",
          "Gut",
          "Gut",
          "Gut",
          "Gut",
          "Gut",
          "Gut",
          "Gut",
          "Gut",
          "Gut",
          "Gut",
          "Gut",
          "Gut",
          "Gut",
          "Gut",
          "Gut",
          "Gut",
          "Gut",
          "Gut",
          "Gut",
          "Gut",
          "Gut",
          "Gut",
          "Gut",
          "Gut",
          "Gut",
          "Gut",
          "Gut",
          "Gut",
          "Gut",
          "Gut",
          "Gut",
          "Gut",
          "Gut",
          "Gut",
          "Gut",
          "Gut",
          "Gut",
          "Gut",
          "Gut",
          "Gut",
          "Gut",
          "Gut",
          "Gut",
          "Gut",
          "Gut",
          "Gut",
          "Gut",
          "Gut",
          "Gut",
          "Gut",
          "Gut",
          "Gut",
          "Gut",
          "Gut",
          "Gut",
          "Gut",
          "Gut",
          "Gut",
          "Gut",
          "Gut",
          "Gut",
          "Gut",
          "Gut",
          "Gut",
          "Gut",
          "Gut",
          "Gut",
          "Gut",
          "Gut",
          "Gut",
          "Gut",
          "Gut",
          "Gut",
          "Gut",
          "Gut",
          "Gut",
          "Gut",
          "Gut",
          "Gut",
          "Gut",
          "Gut",
          "Gut",
          "Gut",
          "Gut",
          "Gut",
          "Gut",
          "Gut",
          "Gut",
          "Gut",
          "Gut",
          "Gut",
          "Gut",
          "Gut",
          "Gut",
          "Gut",
          "Gut",
          "Gut",
          "Gut",
          "Gut",
          "Gut",
          "Gut",
          "Gut",
          "Gut",
          "Gut",
          "Gut",
          "Gut",
          "Gut",
          "Gut",
          "Gut",
          "Gut",
          "Gut",
          "Gut",
          "Gut",
          "Gut",
          "Gut",
          "Gut",
          "Gut",
          "Gut",
          "Gut",
          "Gut",
          "Gut",
          "Gut",
          "Gut",
          "Gut",
          "Gut",
          "Gut",
          "Gut",
          "Gut",
          "Gut",
          "Gut",
          "Gut",
          "Gut",
          "Gut",
          "Gut",
          "Gut",
          "Gut",
          "Gut",
          "Gut",
          "Gut",
          "Gut",
          "Gut",
          "Gut",
          "Gut",
          "Gut",
          "Gut",
          "Gut",
          "Gut",
          "Gut",
          "Gut"
         ],
         "x0": " ",
         "xaxis": "x",
         "y": {
          "bdata": "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",
          "dtype": "f8"
         },
         "y0": " ",
         "yaxis": "y"
        },
        {
         "alignmentgroup": "True",
         "hovertemplate": "class=%{x}<br>error=%{y}<extra></extra>",
         "legendgroup": "Riss",
         "marker": {
          "color": "#EF553B"
         },
         "name": "Riss",
         "notched": false,
         "offsetgroup": "Riss",
         "orientation": "v",
         "showlegend": true,
         "type": "box",
         "x": [
          "Riss",
          "Riss",
          "Riss",
          "Riss",
          "Riss",
          "Riss",
          "Riss",
          "Riss",
          "Riss",
          "Riss",
          "Riss",
          "Riss",
          "Riss",
          "Riss",
          "Riss",
          "Riss",
          "Riss",
          "Riss",
          "Riss",
          "Riss",
          "Riss",
          "Riss",
          "Riss",
          "Riss",
          "Riss",
          "Riss",
          "Riss",
          "Riss",
          "Riss",
          "Riss",
          "Riss",
          "Riss",
          "Riss",
          "Riss",
          "Riss",
          "Riss",
          "Riss",
          "Riss",
          "Riss",
          "Riss",
          "Riss",
          "Riss",
          "Riss",
          "Riss",
          "Riss",
          "Riss",
          "Riss",
          "Riss",
          "Riss",
          "Riss",
          "Riss",
          "Riss",
          "Riss",
          "Riss",
          "Riss",
          "Riss",
          "Riss",
          "Riss",
          "Riss",
          "Riss",
          "Riss",
          "Riss",
          "Riss",
          "Riss",
          "Riss",
          "Riss",
          "Riss",
          "Riss",
          "Riss",
          "Riss",
          "Riss",
          "Riss",
          "Riss",
          "Riss",
          "Riss",
          "Riss",
          "Riss",
          "Riss",
          "Riss",
          "Riss",
          "Riss",
          "Riss",
          "Riss",
          "Riss",
          "Riss",
          "Riss",
          "Riss",
          "Riss",
          "Riss",
          "Riss",
          "Riss",
          "Riss",
          "Riss",
          "Riss",
          "Riss",
          "Riss",
          "Riss",
          "Riss",
          "Riss",
          "Riss",
          "Riss",
          "Riss",
          "Riss",
          "Riss",
          "Riss",
          "Riss",
          "Riss",
          "Riss",
          "Riss",
          "Riss",
          "Riss",
          "Riss",
          "Riss",
          "Riss",
          "Riss",
          "Riss",
          "Riss",
          "Riss",
          "Riss",
          "Riss",
          "Riss",
          "Riss",
          "Riss",
          "Riss",
          "Riss",
          "Riss",
          "Riss",
          "Riss",
          "Riss",
          "Riss",
          "Riss",
          "Riss",
          "Riss",
          "Riss",
          "Riss",
          "Riss",
          "Riss",
          "Riss",
          "Riss",
          "Riss",
          "Riss",
          "Riss",
          "Riss",
          "Riss",
          "Riss",
          "Riss",
          "Riss",
          "Riss",
          "Riss",
          "Riss",
          "Riss",
          "Riss",
          "Riss",
          "Riss",
          "Riss",
          "Riss",
          "Riss",
          "Riss",
          "Riss",
          "Riss",
          "Riss",
          "Riss",
          "Riss",
          "Riss",
          "Riss",
          "Riss",
          "Riss",
          "Riss",
          "Riss",
          "Riss",
          "Riss",
          "Riss",
          "Riss",
          "Riss",
          "Riss",
          "Riss",
          "Riss",
          "Riss",
          "Riss",
          "Riss",
          "Riss",
          "Riss",
          "Riss",
          "Riss",
          "Riss",
          "Riss",
          "Riss",
          "Riss",
          "Riss",
          "Riss",
          "Riss",
          "Riss",
          "Riss",
          "Riss",
          "Riss",
          "Riss",
          "Riss",
          "Riss",
          "Riss",
          "Riss",
          "Riss",
          "Riss",
          "Riss",
          "Riss",
          "Riss",
          "Riss",
          "Riss",
          "Riss",
          "Riss",
          "Riss",
          "Riss",
          "Riss",
          "Riss",
          "Riss",
          "Riss",
          "Riss",
          "Riss",
          "Riss",
          "Riss",
          "Riss",
          "Riss",
          "Riss",
          "Riss",
          "Riss",
          "Riss",
          "Riss",
          "Riss",
          "Riss",
          "Riss",
          "Riss",
          "Riss",
          "Riss",
          "Riss",
          "Riss",
          "Riss",
          "Riss",
          "Riss",
          "Riss",
          "Riss",
          "Riss",
          "Riss",
          "Riss",
          "Riss",
          "Riss",
          "Riss",
          "Riss",
          "Riss",
          "Riss",
          "Riss",
          "Riss",
          "Riss",
          "Riss",
          "Riss",
          "Riss",
          "Riss",
          "Riss",
          "Riss",
          "Riss",
          "Riss",
          "Riss",
          "Riss",
          "Riss",
          "Riss",
          "Riss",
          "Riss",
          "Riss",
          "Riss",
          "Riss",
          "Riss",
          "Riss",
          "Riss",
          "Riss",
          "Riss",
          "Riss",
          "Riss",
          "Riss",
          "Riss",
          "Riss",
          "Riss",
          "Riss",
          "Riss",
          "Riss",
          "Riss",
          "Riss",
          "Riss",
          "Riss",
          "Riss",
          "Riss"
         ],
         "x0": " ",
         "xaxis": "x",
         "y": {
          "bdata": "AAAAgEgXYz8AAACgfyRrPwAAAIA6TZ8/AAAAAFsitz8AAAAgMvxxPwAAAKCMjqM/AAAA4KGKfj8AAACAw8xyPwAAAACgIHc/AAAAgPTpkz8AAACARd6LPwAAAGDarKs/AAAAgPlugj8AAABgkx6kPwAAAIDJcHA/AAAAYOnsvD8AAADgO5KXPwAAAIDtEJk/AAAAwH26kD8AAACAH8yUPwAAAAC/a5g/AAAAYBFeiD8AAABgLTxPPwAAAAD2L40/AAAAwHL5kz8AAADgowp2PwAAACDQwWM/AAAAgPb9lD8AAAAgu2pbPwAAAKCBsYw/AAAAIHKyhz8AAAAgOG+NPwAAAKApP4M/AAAAoIVNsD8AAADgVcGmPwAAAIAWSZE/AAAAIIGnkD8AAACgNuGaPwAAAADtVn4/AAAAYGASkT8AAACg+3mfPwAAAKDlNKQ/AAAAYJjBUj8AAAAABxxpPwAAAGAN7mM/AAAAYFI/qT8AAADgOlaQPwAAAOATcoI/AAAAYJL0ij8AAACgXAh9PwAAAGAss6g/AAAAIJUmiD8AAADgK2OLPwAAAOCUB4Y/AAAAwAWhcD8AAAAgryS5PwAAAIBAsII/AAAAwC8ngD8AAABgXCtZPwAAAGDtLo4/AAAAAI+TtD8AAABg0tSqPwAAAACRnqc/AAAAYGeAmj8AAADga3uTPwAAAEDp85M/AAAAgDj8dD8AAACAzYB6PwAAAKAEo68/AAAAwP6ZdD8AAACARBOTPwAAAIDpmrE/AAAA4OIjdD8AAADg9ptsPwAAAACM1aE/AAAAYBE4ez8AAADgzt2sPwAAAKCP54w/AAAAYI2bcT8AAABg0gaKPwAAAGBbk0s/AAAA4B3hnz8AAADgXg6lPwAAAAB3o3Y/AAAAYL/sZD8AAACAgBepPwAAAKBQ15w/AAAAILQuhj8AAABgKoCgPwAAACDgDIk/AAAAAKsydD8AAACAgjGGPwAAAODop7Y/AAAAYEledj8AAACgFLWUPwAAAGACAXA/AAAAwF/SVD8AAAAgddetPwAAACADVpw/AAAAYIJ3lD8AAADgBu6jPwAAAAAGHVI/AAAAoHY+fz8AAAAA9UesPwAAAACm/ZQ/AAAAoFEwcj8AAAAgc6GjPwAAAIBghIk/AAAAoB+dZD8AAABgqYZ/PwAAAADPQIw/AAAAIKLEoD8AAAAgcXikPwAAAKAgCpY/AAAAYCg2dz8AAABgkKiUPwAAAKDS450/AAAA4C1dlD8AAACgfhaLPwAAAICkXJM/AAAAoP9koD8AAABghfuuPwAAAKBHypc/AAAAgNxwoz8AAACg5XNgPwAAAOCnx5c/AAAAYJo2cj8AAAAgKwKXPwAAAKCDbIk/AAAAIF4onT8AAAAgEdWzPwAAAID/+1o/AAAAYPJBcz8AAACA9mSzPwAAAOBh46I/AAAAwD3HYz8AAAAAVKiaPwAAAKDdpZ8/AAAAoCnLiD8AAACgFXCFPwAAAKCk52U/AAAAAONXZz8AAADgixCNPwAAAKAKYos/AAAAoHITmD8AAABgW0maPwAAAAB1mYE/AAAAAHUnqz8AAACgmCSSPwAAAGB5+Gg/AAAAID1heT8AAAAg2dR1PwAAAGCU8oo/AAAAgKq/oT8AAADgjKKxPwAAAOD8zrE/AAAAoDtcqj8AAAAguaFkPwAAAODrpZM/AAAAoBReiT8AAAAgMyeiPwAAAOD5kqE/AAAAAL+MlT8AAABgUEGyPwAAAMBlbYQ/AAAAIEDUnz8AAABgRmeVPwAAAKCqE5Y/AAAAgM87qz8AAACg7SOqPwAAAGD9BrE/AAAAAEXliT8AAACgFTeMPwAAAKCswrk/AAAAYHxVYD8AAACg4VZ4PwAAACBX24I/AAAAYPxMmD8AAAAAJI5kPwAAAKCHTps/AAAAADGKfD8AAACA1CGaPwAAAADZ8rI/AAAAoLmCuD8AAACAenSaPwAAAABU+Yw/AAAA4A/8Yz8AAAAAYMWlPwAAAKCbZHM/AAAAAKxgrT8AAABg93ZoPwAAAICxDrU/AAAAYAhpkT8AAABgELGJPwAAAIDIVnU/AAAAoJ23kT8AAADgnaCjPwAAAIAtsaA/AAAAoBbtnD8AAAAgZregPwAAACAr9bE/AAAA4KOmkD8AAAAgIvyfPwAAAOBbvJM/AAAAAJvEdj8AAABgdS2NPwAAAACOcI0/AAAA4AbkcD8AAAAgKzGhPwAAAMBLSHQ/AAAAIDXZhD8AAADgnFRmPwAAAADrkXI/AAAAoOgQgD8AAAAAfnR9PwAAAACmp5I/AAAAgJ8nbz8AAABgXFlQPwAAAGDGyJM/AAAAoAp5mT8AAADgW6iUPwAAAAATt6k/AAAAAGynrz8AAAAgPT5/PwAAAADEp3s/AAAAILLviT8AAADgo0pYPwAAAOAq40k/AAAAgJ8ThD8AAACAly2VPwAAAGALjJE/AAAAoPXtqD8AAAAAmuCjPwAAAAD4fKo/AAAAgFB2kj8AAAAAfDCqPwAAAIDje48/AAAAoKk5hD8AAADgQMFXPwAAAOCN9aQ/AAAAIAargD8AAACAXKCvPwAAAOB2A5s/AAAAAGGvpz8AAAAAjHSZPwAAAMBseIQ/AAAAAHyPij8AAAAgQiJ4PwAAACBvHYs/AAAA4Ce4Yj8AAACgHW+DPwAAAIBV23g/AAAAYOe8UT8AAADgcOSVPwAAAADwvKk/AAAAYGIbpz8AAACgZ2CUPwAAACBdVYc/AAAAYDONtD8AAADg2qF9PwAAAGAm2Zg/AAAAYC4vpz8AAADgNMhhPwAAAGAqvbg/AAAAYOKqqD8AAAAAAv6XPwAAAOD2o5Q/AAAAIECjkT8AAAAA9th8PwAAACA+H4M/AAAAAGBEtT8AAAAAv5mOPwAAAICEqpg/AAAAoC2nhz8AAADA9raUPwAAAKBH1K0/AAAAQJNPkD8AAABgWtpYPwAAAABtJbs/AAAAYB0qqD8AAACA4+ypPwAAAOAvaKI/AAAAQIRYpD8AAACgW2B1PwAAAKA37ok/AAAAIGWDZj8AAABgAl+KPwAAAKC3GK8/",
          "dtype": "f8"
         },
         "y0": " ",
         "yaxis": "y"
        },
        {
         "alignmentgroup": "True",
         "hovertemplate": "class=%{x}<br>error=%{y}<extra></extra>",
         "legendgroup": "Verbindung",
         "marker": {
          "color": "#00cc96"
         },
         "name": "Verbindung",
         "notched": false,
         "offsetgroup": "Verbindung",
         "orientation": "v",
         "showlegend": true,
         "type": "box",
         "x": [
          "Verbindung",
          "Verbindung",
          "Verbindung",
          "Verbindung",
          "Verbindung",
          "Verbindung",
          "Verbindung",
          "Verbindung",
          "Verbindung",
          "Verbindung",
          "Verbindung",
          "Verbindung",
          "Verbindung",
          "Verbindung",
          "Verbindung",
          "Verbindung",
          "Verbindung",
          "Verbindung",
          "Verbindung",
          "Verbindung",
          "Verbindung",
          "Verbindung",
          "Verbindung",
          "Verbindung",
          "Verbindung",
          "Verbindung",
          "Verbindung",
          "Verbindung",
          "Verbindung",
          "Verbindung",
          "Verbindung",
          "Verbindung",
          "Verbindung",
          "Verbindung",
          "Verbindung",
          "Verbindung",
          "Verbindung",
          "Verbindung",
          "Verbindung",
          "Verbindung",
          "Verbindung",
          "Verbindung",
          "Verbindung",
          "Verbindung",
          "Verbindung",
          "Verbindung",
          "Verbindung",
          "Verbindung",
          "Verbindung",
          "Verbindung",
          "Verbindung",
          "Verbindung",
          "Verbindung",
          "Verbindung",
          "Verbindung",
          "Verbindung",
          "Verbindung",
          "Verbindung",
          "Verbindung",
          "Verbindung",
          "Verbindung",
          "Verbindung",
          "Verbindung",
          "Verbindung",
          "Verbindung",
          "Verbindung",
          "Verbindung",
          "Verbindung",
          "Verbindung",
          "Verbindung",
          "Verbindung",
          "Verbindung",
          "Verbindung",
          "Verbindung",
          "Verbindung",
          "Verbindung",
          "Verbindung",
          "Verbindung",
          "Verbindung",
          "Verbindung",
          "Verbindung",
          "Verbindung",
          "Verbindung",
          "Verbindung",
          "Verbindung",
          "Verbindung",
          "Verbindung",
          "Verbindung",
          "Verbindung",
          "Verbindung",
          "Verbindung",
          "Verbindung",
          "Verbindung",
          "Verbindung",
          "Verbindung",
          "Verbindung",
          "Verbindung",
          "Verbindung",
          "Verbindung",
          "Verbindung",
          "Verbindung",
          "Verbindung",
          "Verbindung",
          "Verbindung",
          "Verbindung",
          "Verbindung",
          "Verbindung",
          "Verbindung",
          "Verbindung",
          "Verbindung",
          "Verbindung",
          "Verbindung",
          "Verbindung",
          "Verbindung",
          "Verbindung",
          "Verbindung",
          "Verbindung",
          "Verbindung",
          "Verbindung",
          "Verbindung",
          "Verbindung",
          "Verbindung",
          "Verbindung",
          "Verbindung",
          "Verbindung",
          "Verbindung",
          "Verbindung",
          "Verbindung",
          "Verbindung",
          "Verbindung",
          "Verbindung",
          "Verbindung",
          "Verbindung",
          "Verbindung",
          "Verbindung",
          "Verbindung",
          "Verbindung",
          "Verbindung",
          "Verbindung",
          "Verbindung",
          "Verbindung",
          "Verbindung",
          "Verbindung",
          "Verbindung",
          "Verbindung",
          "Verbindung",
          "Verbindung",
          "Verbindung",
          "Verbindung",
          "Verbindung",
          "Verbindung",
          "Verbindung",
          "Verbindung",
          "Verbindung",
          "Verbindung",
          "Verbindung",
          "Verbindung",
          "Verbindung",
          "Verbindung",
          "Verbindung",
          "Verbindung",
          "Verbindung",
          "Verbindung",
          "Verbindung",
          "Verbindung",
          "Verbindung",
          "Verbindung",
          "Verbindung",
          "Verbindung",
          "Verbindung",
          "Verbindung",
          "Verbindung",
          "Verbindung",
          "Verbindung",
          "Verbindung",
          "Verbindung",
          "Verbindung",
          "Verbindung",
          "Verbindung",
          "Verbindung",
          "Verbindung",
          "Verbindung",
          "Verbindung",
          "Verbindung",
          "Verbindung",
          "Verbindung",
          "Verbindung",
          "Verbindung",
          "Verbindung",
          "Verbindung",
          "Verbindung",
          "Verbindung",
          "Verbindung",
          "Verbindung",
          "Verbindung",
          "Verbindung",
          "Verbindung",
          "Verbindung",
          "Verbindung",
          "Verbindung",
          "Verbindung",
          "Verbindung",
          "Verbindung",
          "Verbindung",
          "Verbindung",
          "Verbindung",
          "Verbindung",
          "Verbindung",
          "Verbindung",
          "Verbindung",
          "Verbindung",
          "Verbindung",
          "Verbindung",
          "Verbindung",
          "Verbindung",
          "Verbindung",
          "Verbindung",
          "Verbindung",
          "Verbindung",
          "Verbindung",
          "Verbindung",
          "Verbindung",
          "Verbindung",
          "Verbindung",
          "Verbindung",
          "Verbindung",
          "Verbindung",
          "Verbindung",
          "Verbindung",
          "Verbindung",
          "Verbindung",
          "Verbindung",
          "Verbindung",
          "Verbindung",
          "Verbindung",
          "Verbindung",
          "Verbindung",
          "Verbindung",
          "Verbindung",
          "Verbindung",
          "Verbindung",
          "Verbindung",
          "Verbindung",
          "Verbindung",
          "Verbindung",
          "Verbindung",
          "Verbindung",
          "Verbindung",
          "Verbindung",
          "Verbindung",
          "Verbindung",
          "Verbindung",
          "Verbindung",
          "Verbindung",
          "Verbindung",
          "Verbindung",
          "Verbindung",
          "Verbindung",
          "Verbindung",
          "Verbindung",
          "Verbindung",
          "Verbindung",
          "Verbindung",
          "Verbindung",
          "Verbindung",
          "Verbindung",
          "Verbindung",
          "Verbindung",
          "Verbindung",
          "Verbindung",
          "Verbindung",
          "Verbindung",
          "Verbindung",
          "Verbindung",
          "Verbindung",
          "Verbindung",
          "Verbindung",
          "Verbindung",
          "Verbindung",
          "Verbindung",
          "Verbindung",
          "Verbindung",
          "Verbindung",
          "Verbindung",
          "Verbindung",
          "Verbindung",
          "Verbindung",
          "Verbindung",
          "Verbindung",
          "Verbindung",
          "Verbindung",
          "Verbindung",
          "Verbindung",
          "Verbindung",
          "Verbindung",
          "Verbindung",
          "Verbindung",
          "Verbindung",
          "Verbindung",
          "Verbindung",
          "Verbindung",
          "Verbindung",
          "Verbindung",
          "Verbindung",
          "Verbindung",
          "Verbindung",
          "Verbindung",
          "Verbindung",
          "Verbindung",
          "Verbindung",
          "Verbindung",
          "Verbindung",
          "Verbindung",
          "Verbindung",
          "Verbindung",
          "Verbindung",
          "Verbindung",
          "Verbindung",
          "Verbindung",
          "Verbindung",
          "Verbindung",
          "Verbindung",
          "Verbindung",
          "Verbindung",
          "Verbindung",
          "Verbindung",
          "Verbindung",
          "Verbindung",
          "Verbindung",
          "Verbindung",
          "Verbindung",
          "Verbindung",
          "Verbindung",
          "Verbindung",
          "Verbindung",
          "Verbindung",
          "Verbindung",
          "Verbindung",
          "Verbindung",
          "Verbindung",
          "Verbindung",
          "Verbindung",
          "Verbindung",
          "Verbindung",
          "Verbindung",
          "Verbindung",
          "Verbindung",
          "Verbindung",
          "Verbindung",
          "Verbindung",
          "Verbindung",
          "Verbindung",
          "Verbindung",
          "Verbindung",
          "Verbindung",
          "Verbindung",
          "Verbindung",
          "Verbindung",
          "Verbindung",
          "Verbindung",
          "Verbindung",
          "Verbindung",
          "Verbindung",
          "Verbindung",
          "Verbindung",
          "Verbindung",
          "Verbindung",
          "Verbindung",
          "Verbindung",
          "Verbindung",
          "Verbindung",
          "Verbindung",
          "Verbindung",
          "Verbindung",
          "Verbindung",
          "Verbindung",
          "Verbindung",
          "Verbindung",
          "Verbindung",
          "Verbindung",
          "Verbindung",
          "Verbindung",
          "Verbindung",
          "Verbindung",
          "Verbindung",
          "Verbindung",
          "Verbindung",
          "Verbindung",
          "Verbindung",
          "Verbindung",
          "Verbindung"
         ],
         "x0": " ",
         "xaxis": "x",
         "y": {
          "bdata": "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",
          "dtype": "f8"
         },
         "y0": " ",
         "yaxis": "y"
        },
        {
         "alignmentgroup": "True",
         "hovertemplate": "class=%{x}<br>error=%{y}<extra></extra>",
         "legendgroup": "Punkt",
         "marker": {
          "color": "#ab63fa"
         },
         "name": "Punkt",
         "notched": false,
         "offsetgroup": "Punkt",
         "orientation": "v",
         "showlegend": true,
         "type": "box",
         "x": [
          "Punkt",
          "Punkt",
          "Punkt",
          "Punkt",
          "Punkt",
          "Punkt",
          "Punkt",
          "Punkt",
          "Punkt",
          "Punkt",
          "Punkt",
          "Punkt",
          "Punkt",
          "Punkt",
          "Punkt",
          "Punkt",
          "Punkt",
          "Punkt",
          "Punkt",
          "Punkt",
          "Punkt",
          "Punkt",
          "Punkt",
          "Punkt",
          "Punkt",
          "Punkt",
          "Punkt",
          "Punkt",
          "Punkt",
          "Punkt",
          "Punkt",
          "Punkt",
          "Punkt",
          "Punkt",
          "Punkt",
          "Punkt",
          "Punkt",
          "Punkt",
          "Punkt",
          "Punkt",
          "Punkt",
          "Punkt",
          "Punkt",
          "Punkt",
          "Punkt",
          "Punkt",
          "Punkt",
          "Punkt",
          "Punkt",
          "Punkt",
          "Punkt",
          "Punkt",
          "Punkt",
          "Punkt",
          "Punkt",
          "Punkt",
          "Punkt",
          "Punkt",
          "Punkt",
          "Punkt",
          "Punkt",
          "Punkt",
          "Punkt",
          "Punkt",
          "Punkt",
          "Punkt",
          "Punkt",
          "Punkt",
          "Punkt",
          "Punkt",
          "Punkt",
          "Punkt",
          "Punkt",
          "Punkt",
          "Punkt",
          "Punkt",
          "Punkt",
          "Punkt",
          "Punkt",
          "Punkt",
          "Punkt",
          "Punkt",
          "Punkt",
          "Punkt",
          "Punkt",
          "Punkt",
          "Punkt",
          "Punkt",
          "Punkt",
          "Punkt",
          "Punkt",
          "Punkt",
          "Punkt",
          "Punkt",
          "Punkt",
          "Punkt",
          "Punkt",
          "Punkt",
          "Punkt",
          "Punkt",
          "Punkt",
          "Punkt",
          "Punkt",
          "Punkt",
          "Punkt",
          "Punkt",
          "Punkt",
          "Punkt",
          "Punkt",
          "Punkt",
          "Punkt",
          "Punkt",
          "Punkt",
          "Punkt",
          "Punkt",
          "Punkt"
         ],
         "x0": " ",
         "xaxis": "x",
         "y": {
          "bdata": "AAAAIIhkaz8AAACgg8ZbPwAAAGDNTmQ/AAAAoIKQYj8AAACg7XB6PwAAACCXcmM/AAAAoJJejz8AAAAAgiOBPwAAAMDZ+oI/AAAAYEH0dz8AAABgFVGjPwAAAGDDVJI/AAAAQGEhVT8AAABgXbOAPwAAACCXuHY/AAAA4HReUT8AAAAA+x5WPwAAAKDgtkU/AAAAAGZ7cD8AAADA6jxiPwAAAKCs34Q/AAAAoEbEqj8AAABAoyiUPwAAAKB/IIc/AAAAgEvrjT8AAACgTPJxPwAAAOCPLmI/AAAAAAsnfT8AAABgj79uPwAAAIC3K2s/AAAAoJG7hj8AAABgk/JjPwAAAIAlfEg/AAAAYM2MbD8AAACAIOiBPwAAAKAglqs/AAAAYDyrVz8AAADgtRScPwAAAGBF1H8/AAAAANNPij8AAADgwzM+PwAAAMATEHA/AAAAINwDcD8AAAAgW7uUPwAAAAD0dXM/AAAAYMtiZT8AAACAFhSHPwAAAKBIR3g/AAAAYCRmiz8AAACgjAJ4PwAAAKCtH4s/AAAAIMeQYD8AAABgu+1jPwAAAIB8W4o/AAAAYEikXz8AAABgTJydPwAAAKCjdnY/AAAAoK/VUj8AAAAAWtdbPwAAAGB9CFs/AAAAYHvLdD8AAAAAHk2YPwAAACD3dZw/AAAAoAt5aj8AAABgnyqKPwAAACDyomU/AAAAYHYwWj8AAACAM4daPwAAAOBFLXQ/AAAAYAhHSz8AAABg7P9qPwAAAGDUSn8/AAAAIJuHcT8AAABgv799PwAAAGDlqYc/AAAA4Iopfz8AAABgBXp3PwAAAKBaqlI/AAAAAFe5ez8AAABg8C2GPwAAAKAjG4c/AAAAwKS3hD8AAABgzbtuPwAAAGAQlmM/AAAAAC2IhT8AAACA5W5pPwAAAIB7SIc/AAAA4MDrVj8AAABggfNtPwAAACB0250/AAAAoPdsVj8AAADgxrV5PwAAAGBWU1Y/AAAAYK+9Sz8AAADge8OHPwAAAOCN3WE/AAAA4NjHcz8AAACg8Fh2PwAAACDSDIc/AAAAIEJjkT8AAAAAlp2hPwAAAAClfFk/AAAAAOzzgD8AAADA68NhPwAAAGATAkk/AAAAYOzUgD8AAACAuGR8PwAAAGCCl4Q/AAAAYJHfaj8AAAAg3TpePwAAAOCVdW4/AAAAADDfgz8AAAAgTRZgPwAAAKCX124/AAAAgECEZT8AAACALaxSPw==",
          "dtype": "f8"
         },
         "y0": " ",
         "yaxis": "y"
        }
       ],
       "layout": {
        "annotations": [
         {
          "font": {
           "color": "black",
           "size": 12
          },
          "showarrow": false,
          "text": "Median: 0.0012",
          "x": "Gut",
          "y": 0.0012259334325790405,
          "yshift": 10
         },
         {
          "font": {
           "color": "black",
           "size": 12
          },
          "showarrow": false,
          "text": "Median: 0.0049",
          "x": "Punkt",
          "y": 0.0048776245675981045,
          "yshift": 10
         },
         {
          "font": {
           "color": "black",
           "size": 12
          },
          "showarrow": false,
          "text": "Median: 0.0169",
          "x": "Riss",
          "y": 0.016941300593316555,
          "yshift": 10
         },
         {
          "font": {
           "color": "black",
           "size": 12
          },
          "showarrow": false,
          "text": "Median: 0.0108",
          "x": "Verbindung",
          "y": 0.010812184773385525,
          "yshift": 10
         }
        ],
        "boxmode": "overlay",
        "height": 500,
        "legend": {
         "title": {
          "text": "class"
         },
         "tracegroupgap": 0
        },
        "margin": {
         "b": 20,
         "l": 20,
         "r": 20,
         "t": 20
        },
        "showlegend": false,
        "template": {
         "data": {
          "bar": [
           {
            "error_x": {
             "color": "#2a3f5f"
            },
            "error_y": {
             "color": "#2a3f5f"
            },
            "marker": {
             "line": {
              "color": "#E5ECF6",
              "width": 0.5
             },
             "pattern": {
              "fillmode": "overlay",
              "size": 10,
              "solidity": 0.2
             }
            },
            "type": "bar"
           }
          ],
          "barpolar": [
           {
            "marker": {
             "line": {
              "color": "#E5ECF6",
              "width": 0.5
             },
             "pattern": {
              "fillmode": "overlay",
              "size": 10,
              "solidity": 0.2
             }
            },
            "type": "barpolar"
           }
          ],
          "carpet": [
           {
            "aaxis": {
             "endlinecolor": "#2a3f5f",
             "gridcolor": "white",
             "linecolor": "white",
             "minorgridcolor": "white",
             "startlinecolor": "#2a3f5f"
            },
            "baxis": {
             "endlinecolor": "#2a3f5f",
             "gridcolor": "white",
             "linecolor": "white",
             "minorgridcolor": "white",
             "startlinecolor": "#2a3f5f"
            },
            "type": "carpet"
           }
          ],
          "choropleth": [
           {
            "colorbar": {
             "outlinewidth": 0,
             "ticks": ""
            },
            "type": "choropleth"
           }
          ],
          "contour": [
           {
            "colorbar": {
             "outlinewidth": 0,
             "ticks": ""
            },
            "colorscale": [
             [
              0,
              "#0d0887"
             ],
             [
              0.1111111111111111,
              "#46039f"
             ],
             [
              0.2222222222222222,
              "#7201a8"
             ],
             [
              0.3333333333333333,
              "#9c179e"
             ],
             [
              0.4444444444444444,
              "#bd3786"
             ],
             [
              0.5555555555555556,
              "#d8576b"
             ],
             [
              0.6666666666666666,
              "#ed7953"
             ],
             [
              0.7777777777777778,
              "#fb9f3a"
             ],
             [
              0.8888888888888888,
              "#fdca26"
             ],
             [
              1,
              "#f0f921"
             ]
            ],
            "type": "contour"
           }
          ],
          "contourcarpet": [
           {
            "colorbar": {
             "outlinewidth": 0,
             "ticks": ""
            },
            "type": "contourcarpet"
           }
          ],
          "heatmap": [
           {
            "colorbar": {
             "outlinewidth": 0,
             "ticks": ""
            },
            "colorscale": [
             [
              0,
              "#0d0887"
             ],
             [
              0.1111111111111111,
              "#46039f"
             ],
             [
              0.2222222222222222,
              "#7201a8"
             ],
             [
              0.3333333333333333,
              "#9c179e"
             ],
             [
              0.4444444444444444,
              "#bd3786"
             ],
             [
              0.5555555555555556,
              "#d8576b"
             ],
             [
              0.6666666666666666,
              "#ed7953"
             ],
             [
              0.7777777777777778,
              "#fb9f3a"
             ],
             [
              0.8888888888888888,
              "#fdca26"
             ],
             [
              1,
              "#f0f921"
             ]
            ],
            "type": "heatmap"
           }
          ],
          "histogram": [
           {
            "marker": {
             "pattern": {
              "fillmode": "overlay",
              "size": 10,
              "solidity": 0.2
             }
            },
            "type": "histogram"
           }
          ],
          "histogram2d": [
           {
            "colorbar": {
             "outlinewidth": 0,
             "ticks": ""
            },
            "colorscale": [
             [
              0,
              "#0d0887"
             ],
             [
              0.1111111111111111,
              "#46039f"
             ],
             [
              0.2222222222222222,
              "#7201a8"
             ],
             [
              0.3333333333333333,
              "#9c179e"
             ],
             [
              0.4444444444444444,
              "#bd3786"
             ],
             [
              0.5555555555555556,
              "#d8576b"
             ],
             [
              0.6666666666666666,
              "#ed7953"
             ],
             [
              0.7777777777777778,
              "#fb9f3a"
             ],
             [
              0.8888888888888888,
              "#fdca26"
             ],
             [
              1,
              "#f0f921"
             ]
            ],
            "type": "histogram2d"
           }
          ],
          "histogram2dcontour": [
           {
            "colorbar": {
             "outlinewidth": 0,
             "ticks": ""
            },
            "colorscale": [
             [
              0,
              "#0d0887"
             ],
             [
              0.1111111111111111,
              "#46039f"
             ],
             [
              0.2222222222222222,
              "#7201a8"
             ],
             [
              0.3333333333333333,
              "#9c179e"
             ],
             [
              0.4444444444444444,
              "#bd3786"
             ],
             [
              0.5555555555555556,
              "#d8576b"
             ],
             [
              0.6666666666666666,
              "#ed7953"
             ],
             [
              0.7777777777777778,
              "#fb9f3a"
             ],
             [
              0.8888888888888888,
              "#fdca26"
             ],
             [
              1,
              "#f0f921"
             ]
            ],
            "type": "histogram2dcontour"
           }
          ],
          "mesh3d": [
           {
            "colorbar": {
             "outlinewidth": 0,
             "ticks": ""
            },
            "type": "mesh3d"
           }
          ],
          "parcoords": [
           {
            "line": {
             "colorbar": {
              "outlinewidth": 0,
              "ticks": ""
             }
            },
            "type": "parcoords"
           }
          ],
          "pie": [
           {
            "automargin": true,
            "type": "pie"
           }
          ],
          "scatter": [
           {
            "fillpattern": {
             "fillmode": "overlay",
             "size": 10,
             "solidity": 0.2
            },
            "type": "scatter"
           }
          ],
          "scatter3d": [
           {
            "line": {
             "colorbar": {
              "outlinewidth": 0,
              "ticks": ""
             }
            },
            "marker": {
             "colorbar": {
              "outlinewidth": 0,
              "ticks": ""
             }
            },
            "type": "scatter3d"
           }
          ],
          "scattercarpet": [
           {
            "marker": {
             "colorbar": {
              "outlinewidth": 0,
              "ticks": ""
             }
            },
            "type": "scattercarpet"
           }
          ],
          "scattergeo": [
           {
            "marker": {
             "colorbar": {
              "outlinewidth": 0,
              "ticks": ""
             }
            },
            "type": "scattergeo"
           }
          ],
          "scattergl": [
           {
            "marker": {
             "colorbar": {
              "outlinewidth": 0,
              "ticks": ""
             }
            },
            "type": "scattergl"
           }
          ],
          "scattermap": [
           {
            "marker": {
             "colorbar": {
              "outlinewidth": 0,
              "ticks": ""
             }
            },
            "type": "scattermap"
           }
          ],
          "scattermapbox": [
           {
            "marker": {
             "colorbar": {
              "outlinewidth": 0,
              "ticks": ""
             }
            },
            "type": "scattermapbox"
           }
          ],
          "scatterpolar": [
           {
            "marker": {
             "colorbar": {
              "outlinewidth": 0,
              "ticks": ""
             }
            },
            "type": "scatterpolar"
           }
          ],
          "scatterpolargl": [
           {
            "marker": {
             "colorbar": {
              "outlinewidth": 0,
              "ticks": ""
             }
            },
            "type": "scatterpolargl"
           }
          ],
          "scatterternary": [
           {
            "marker": {
             "colorbar": {
              "outlinewidth": 0,
              "ticks": ""
             }
            },
            "type": "scatterternary"
           }
          ],
          "surface": [
           {
            "colorbar": {
             "outlinewidth": 0,
             "ticks": ""
            },
            "colorscale": [
             [
              0,
              "#0d0887"
             ],
             [
              0.1111111111111111,
              "#46039f"
             ],
             [
              0.2222222222222222,
              "#7201a8"
             ],
             [
              0.3333333333333333,
              "#9c179e"
             ],
             [
              0.4444444444444444,
              "#bd3786"
             ],
             [
              0.5555555555555556,
              "#d8576b"
             ],
             [
              0.6666666666666666,
              "#ed7953"
             ],
             [
              0.7777777777777778,
              "#fb9f3a"
             ],
             [
              0.8888888888888888,
              "#fdca26"
             ],
             [
              1,
              "#f0f921"
             ]
            ],
            "type": "surface"
           }
          ],
          "table": [
           {
            "cells": {
             "fill": {
              "color": "#EBF0F8"
             },
             "line": {
              "color": "white"
             }
            },
            "header": {
             "fill": {
              "color": "#C8D4E3"
             },
             "line": {
              "color": "white"
             }
            },
            "type": "table"
           }
          ]
         },
         "layout": {
          "annotationdefaults": {
           "arrowcolor": "#2a3f5f",
           "arrowhead": 0,
           "arrowwidth": 1
          },
          "autotypenumbers": "strict",
          "coloraxis": {
           "colorbar": {
            "outlinewidth": 0,
            "ticks": ""
           }
          },
          "colorscale": {
           "diverging": [
            [
             0,
             "#8e0152"
            ],
            [
             0.1,
             "#c51b7d"
            ],
            [
             0.2,
             "#de77ae"
            ],
            [
             0.3,
             "#f1b6da"
            ],
            [
             0.4,
             "#fde0ef"
            ],
            [
             0.5,
             "#f7f7f7"
            ],
            [
             0.6,
             "#e6f5d0"
            ],
            [
             0.7,
             "#b8e186"
            ],
            [
             0.8,
             "#7fbc41"
            ],
            [
             0.9,
             "#4d9221"
            ],
            [
             1,
             "#276419"
            ]
           ],
           "sequential": [
            [
             0,
             "#0d0887"
            ],
            [
             0.1111111111111111,
             "#46039f"
            ],
            [
             0.2222222222222222,
             "#7201a8"
            ],
            [
             0.3333333333333333,
             "#9c179e"
            ],
            [
             0.4444444444444444,
             "#bd3786"
            ],
            [
             0.5555555555555556,
             "#d8576b"
            ],
            [
             0.6666666666666666,
             "#ed7953"
            ],
            [
             0.7777777777777778,
             "#fb9f3a"
            ],
            [
             0.8888888888888888,
             "#fdca26"
            ],
            [
             1,
             "#f0f921"
            ]
           ],
           "sequentialminus": [
            [
             0,
             "#0d0887"
            ],
            [
             0.1111111111111111,
             "#46039f"
            ],
            [
             0.2222222222222222,
             "#7201a8"
            ],
            [
             0.3333333333333333,
             "#9c179e"
            ],
            [
             0.4444444444444444,
             "#bd3786"
            ],
            [
             0.5555555555555556,
             "#d8576b"
            ],
            [
             0.6666666666666666,
             "#ed7953"
            ],
            [
             0.7777777777777778,
             "#fb9f3a"
            ],
            [
             0.8888888888888888,
             "#fdca26"
            ],
            [
             1,
             "#f0f921"
            ]
           ]
          },
          "colorway": [
           "#636efa",
           "#EF553B",
           "#00cc96",
           "#ab63fa",
           "#FFA15A",
           "#19d3f3",
           "#FF6692",
           "#B6E880",
           "#FF97FF",
           "#FECB52"
          ],
          "font": {
           "color": "#2a3f5f"
          },
          "geo": {
           "bgcolor": "white",
           "lakecolor": "white",
           "landcolor": "#E5ECF6",
           "showlakes": true,
           "showland": true,
           "subunitcolor": "white"
          },
          "hoverlabel": {
           "align": "left"
          },
          "hovermode": "closest",
          "mapbox": {
           "style": "light"
          },
          "paper_bgcolor": "white",
          "plot_bgcolor": "#E5ECF6",
          "polar": {
           "angularaxis": {
            "gridcolor": "white",
            "linecolor": "white",
            "ticks": ""
           },
           "bgcolor": "#E5ECF6",
           "radialaxis": {
            "gridcolor": "white",
            "linecolor": "white",
            "ticks": ""
           }
          },
          "scene": {
           "xaxis": {
            "backgroundcolor": "#E5ECF6",
            "gridcolor": "white",
            "gridwidth": 2,
            "linecolor": "white",
            "showbackground": true,
            "ticks": "",
            "zerolinecolor": "white"
           },
           "yaxis": {
            "backgroundcolor": "#E5ECF6",
            "gridcolor": "white",
            "gridwidth": 2,
            "linecolor": "white",
            "showbackground": true,
            "ticks": "",
            "zerolinecolor": "white"
           },
           "zaxis": {
            "backgroundcolor": "#E5ECF6",
            "gridcolor": "white",
            "gridwidth": 2,
            "linecolor": "white",
            "showbackground": true,
            "ticks": "",
            "zerolinecolor": "white"
           }
          },
          "shapedefaults": {
           "line": {
            "color": "#2a3f5f"
           }
          },
          "ternary": {
           "aaxis": {
            "gridcolor": "white",
            "linecolor": "white",
            "ticks": ""
           },
           "baxis": {
            "gridcolor": "white",
            "linecolor": "white",
            "ticks": ""
           },
           "bgcolor": "#E5ECF6",
           "caxis": {
            "gridcolor": "white",
            "linecolor": "white",
            "ticks": ""
           }
          },
          "title": {
           "x": 0.05
          },
          "xaxis": {
           "automargin": true,
           "gridcolor": "white",
           "linecolor": "white",
           "ticks": "",
           "title": {
            "standoff": 15
           },
           "zerolinecolor": "white",
           "zerolinewidth": 2
          },
          "yaxis": {
           "automargin": true,
           "gridcolor": "white",
           "linecolor": "white",
           "ticks": "",
           "title": {
            "standoff": 15
           },
           "zerolinecolor": "white",
           "zerolinewidth": 2
          }
         }
        },
        "title": {
         "font": {
          "size": 30
         }
        },
        "width": 800,
        "xaxis": {
         "anchor": "y",
         "categoryarray": [
          "Gut",
          "Riss",
          "Verbindung",
          "Punkt"
         ],
         "categoryorder": "array",
         "domain": [
          0,
          1
         ],
         "tickfont": {
          "size": 15
         },
         "title": {
          "font": {
           "size": 20
          },
          "text": "Klasse"
         }
        },
        "yaxis": {
         "anchor": "x",
         "domain": [
          0,
          1
         ],
         "tickfont": {
          "size": 15
         },
         "title": {
          "font": {
           "size": 20
          },
          "text": "Rekonstruktionsfehler"
         }
        }
       }
      }
     },
     "metadata": {},
     "output_type": "display_data"
    }
   ],
   "source": [
    "fig = px.box(\n",
    "    all_recon_errors_df,\n",
    "    x=\"class\",\n",
    "    color=\"class\",\n",
    "    y=\"error\",\n",
    "    width=800,\n",
    "    height=500,\n",
    "    # title=\"Rekonstruktionsfehler für verschiedene Klassen\",\n",
    ")\n",
    "\n",
    "median_errors = all_recon_errors_df.groupby(\"class\")[\"error\"].median().reset_index()\n",
    "# Add annotations for each class\n",
    "for i, row in median_errors.iterrows():\n",
    "    fig.add_annotation(\n",
    "        x=row[\"class\"],\n",
    "        y=row[\"error\"],\n",
    "        text=f\"Median: {row['error']:.4f}\",\n",
    "        showarrow=False,\n",
    "        yshift=10,\n",
    "        font=dict(size=12, color=\"black\"),\n",
    "    )\n",
    "\n",
    "fig.update_layout(\n",
    "    margin=dict(l=20, r=20, t=20, b=20),\n",
    "    showlegend=False,\n",
    "    title=dict(font=dict(size=30)),\n",
    "    yaxis=dict(title=\"Rekonstruktionsfehler\", tickfont=dict(size=15), title_font=dict(size=20)),\n",
    "    xaxis=dict(title=\"Klasse\", tickfont=dict(size=15), title_font=dict(size=20)),\n",
    ")\n",
    "fig.show()\n",
    "fig.write_image(\"../images/box_plot_recon_errors.pdf\")\n",
    "fig.write_image(\"../images/box_plot_recon_errors.png\")"
   ]
  },
  {
   "cell_type": "code",
   "execution_count": 127,
   "id": "e296516d",
   "metadata": {},
   "outputs": [],
   "source": [
    "def is_anomaly(original, reconstructed, threshold):\n",
    "    errors = compute_reconstruction_error(original, reconstructed).cpu().numpy()\n",
    "    return errors > threshold  # Boolean tensor"
   ]
  },
  {
   "cell_type": "code",
   "execution_count": 128,
   "id": "c9966847",
   "metadata": {},
   "outputs": [],
   "source": [
    "results = {\n",
    "    \"good\": {\"tp\": 0, \"tn\": 0, \"fp\": 0, \"fn\": 0, \"total\": 0},\n",
    "    \"crack\": {\"tp\": 0, \"tn\": 0, \"fp\": 0, \"fn\": 0, \"total\": 0},\n",
    "    \"joint\": {\"tp\": 0, \"tn\": 0, \"fp\": 0, \"fn\": 0, \"total\": 0},\n",
    "    \"dot\": {\"tp\": 0, \"tn\": 0, \"fp\": 0, \"fn\": 0, \"total\": 0},\n",
    "}\n",
    "\n",
    "for directory, anomaly in [\n",
    "    (\"marble/test/good\", False),\n",
    "    (\"marble/test/crack\", True),\n",
    "    (\"marble/test/joint\", True),\n",
    "    (\"marble/test/dot\", True),\n",
    "]:\n",
    "    for img_path in os.listdir(directory):\n",
    "        img = Image.open(os.path.join(directory, img_path))\n",
    "        img_tensor = transform(img).unsqueeze(0).to(DEVICE)\n",
    "        with torch.no_grad():\n",
    "            output = model(img_tensor)\n",
    "        pred = is_anomaly(img_tensor, output, threshold=threshold_90_q)\n",
    "        results[directory.split(\"/\")[-1]][\"total\"] += 1\n",
    "        if anomaly:\n",
    "            if pred:\n",
    "                results[directory.split(\"/\")[-1]][\"tp\"] += 1\n",
    "            else:\n",
    "                results[directory.split(\"/\")[-1]][\"fn\"] += 1\n",
    "        else:\n",
    "            if pred:\n",
    "                results[directory.split(\"/\")[-1]][\"fp\"] += 1\n",
    "            else:\n",
    "                results[directory.split(\"/\")[-1]][\"tn\"] += 1"
   ]
  },
  {
   "cell_type": "code",
   "execution_count": 129,
   "id": "26237b90",
   "metadata": {},
   "outputs": [
    {
     "data": {
      "text/plain": [
       "{'good': {'tp': 0, 'tn': 310, 'fp': 30, 'fn': 0, 'total': 340},\n",
       " 'crack': {'tp': 253, 'tn': 0, 'fp': 0, 'fn': 35, 'total': 288},\n",
       " 'joint': {'tp': 326, 'tn': 0, 'fp': 0, 'fn': 65, 'total': 391},\n",
       " 'dot': {'tp': 71, 'tn': 0, 'fp': 0, 'fn': 45, 'total': 116}}"
      ]
     },
     "execution_count": 129,
     "metadata": {},
     "output_type": "execute_result"
    }
   ],
   "source": [
    "results"
   ]
  },
  {
   "cell_type": "code",
   "execution_count": 130,
   "id": "56503d03",
   "metadata": {},
   "outputs": [],
   "source": [
    "conf_df = pd.DataFrame(\n",
    "    {\n",
    "        \"good\": {\n",
    "            \"Anomalie\": results[\"good\"][\"fp\"] / results[\"good\"][\"total\"],\n",
    "            \"Keine Anomalie\": results[\"good\"][\"tn\"] / results[\"good\"][\"total\"],\n",
    "        },\n",
    "        \"crack\": {\n",
    "            \"Anomalie\": results[\"crack\"][\"fn\"] / results[\"crack\"][\"total\"],\n",
    "            \"Keine Anomalie\": results[\"crack\"][\"tp\"] / results[\"crack\"][\"total\"],\n",
    "        },\n",
    "        \"joint\": {\n",
    "            \"Anomalie\": results[\"joint\"][\"fn\"] / results[\"joint\"][\"total\"],\n",
    "            \"Keine Anomalie\": results[\"joint\"][\"tp\"] / results[\"joint\"][\"total\"],\n",
    "        },\n",
    "        \"dot\": {\n",
    "            \"Anomalie\": results[\"dot\"][\"fn\"] / results[\"dot\"][\"total\"],\n",
    "            \"Keine Anomalie\": results[\"dot\"][\"tp\"] / results[\"dot\"][\"total\"],\n",
    "        },\n",
    "    }\n",
    ")"
   ]
  },
  {
   "cell_type": "code",
   "execution_count": 131,
   "id": "9b4a67a2",
   "metadata": {},
   "outputs": [
    {
     "data": {
      "application/vnd.plotly.v1+json": {
       "config": {
        "plotlyServerURL": "https://plot.ly"
       },
       "data": [
        {
         "colorscale": [
          [
           0,
           "rgb(247,251,255)"
          ],
          [
           0.125,
           "rgb(222,235,247)"
          ],
          [
           0.25,
           "rgb(198,219,239)"
          ],
          [
           0.375,
           "rgb(158,202,225)"
          ],
          [
           0.5,
           "rgb(107,174,214)"
          ],
          [
           0.625,
           "rgb(66,146,198)"
          ],
          [
           0.75,
           "rgb(33,113,181)"
          ],
          [
           0.875,
           "rgb(8,81,156)"
          ],
          [
           1,
           "rgb(8,48,107)"
          ]
         ],
         "hoverinfo": "z",
         "showscale": true,
         "type": "heatmap",
         "x": [
          "Vorhersage Normal",
          "Vorhersage Anomalie"
         ],
         "y": [
          "Gut",
          "Riss",
          "Verbindung",
          "Punkt"
         ],
         "z": [
          [
           91.18,
           8.82
          ],
          [
           12.15,
           87.85
          ],
          [
           16.62,
           83.38
          ],
          [
           38.79,
           61.21
          ]
         ],
         "zmax": 100,
         "zmin": 0
        }
       ],
       "layout": {
        "annotations": [
         {
          "font": {
           "color": "black",
           "size": 14
          },
          "showarrow": false,
          "text": "91.18%",
          "x": "Vorhersage Normal",
          "y": "Gut"
         },
         {
          "font": {
           "color": "black",
           "size": 14
          },
          "showarrow": false,
          "text": "8.82%",
          "x": "Vorhersage Anomalie",
          "y": "Gut"
         },
         {
          "font": {
           "color": "black",
           "size": 14
          },
          "showarrow": false,
          "text": "12.15%",
          "x": "Vorhersage Normal",
          "y": "Riss"
         },
         {
          "font": {
           "color": "black",
           "size": 14
          },
          "showarrow": false,
          "text": "87.85%",
          "x": "Vorhersage Anomalie",
          "y": "Riss"
         },
         {
          "font": {
           "color": "black",
           "size": 14
          },
          "showarrow": false,
          "text": "16.62%",
          "x": "Vorhersage Normal",
          "y": "Verbindung"
         },
         {
          "font": {
           "color": "black",
           "size": 14
          },
          "showarrow": false,
          "text": "83.38%",
          "x": "Vorhersage Anomalie",
          "y": "Verbindung"
         },
         {
          "font": {
           "color": "black",
           "size": 14
          },
          "showarrow": false,
          "text": "38.79%",
          "x": "Vorhersage Normal",
          "y": "Punkt"
         },
         {
          "font": {
           "color": "black",
           "size": 14
          },
          "showarrow": false,
          "text": "61.21%",
          "x": "Vorhersage Anomalie",
          "y": "Punkt"
         }
        ],
        "height": 500,
        "margin": {
         "b": 20,
         "l": 20,
         "r": 20,
         "t": 20
        },
        "template": {
         "data": {
          "bar": [
           {
            "error_x": {
             "color": "#2a3f5f"
            },
            "error_y": {
             "color": "#2a3f5f"
            },
            "marker": {
             "line": {
              "color": "#E5ECF6",
              "width": 0.5
             },
             "pattern": {
              "fillmode": "overlay",
              "size": 10,
              "solidity": 0.2
             }
            },
            "type": "bar"
           }
          ],
          "barpolar": [
           {
            "marker": {
             "line": {
              "color": "#E5ECF6",
              "width": 0.5
             },
             "pattern": {
              "fillmode": "overlay",
              "size": 10,
              "solidity": 0.2
             }
            },
            "type": "barpolar"
           }
          ],
          "carpet": [
           {
            "aaxis": {
             "endlinecolor": "#2a3f5f",
             "gridcolor": "white",
             "linecolor": "white",
             "minorgridcolor": "white",
             "startlinecolor": "#2a3f5f"
            },
            "baxis": {
             "endlinecolor": "#2a3f5f",
             "gridcolor": "white",
             "linecolor": "white",
             "minorgridcolor": "white",
             "startlinecolor": "#2a3f5f"
            },
            "type": "carpet"
           }
          ],
          "choropleth": [
           {
            "colorbar": {
             "outlinewidth": 0,
             "ticks": ""
            },
            "type": "choropleth"
           }
          ],
          "contour": [
           {
            "colorbar": {
             "outlinewidth": 0,
             "ticks": ""
            },
            "colorscale": [
             [
              0,
              "#0d0887"
             ],
             [
              0.1111111111111111,
              "#46039f"
             ],
             [
              0.2222222222222222,
              "#7201a8"
             ],
             [
              0.3333333333333333,
              "#9c179e"
             ],
             [
              0.4444444444444444,
              "#bd3786"
             ],
             [
              0.5555555555555556,
              "#d8576b"
             ],
             [
              0.6666666666666666,
              "#ed7953"
             ],
             [
              0.7777777777777778,
              "#fb9f3a"
             ],
             [
              0.8888888888888888,
              "#fdca26"
             ],
             [
              1,
              "#f0f921"
             ]
            ],
            "type": "contour"
           }
          ],
          "contourcarpet": [
           {
            "colorbar": {
             "outlinewidth": 0,
             "ticks": ""
            },
            "type": "contourcarpet"
           }
          ],
          "heatmap": [
           {
            "colorbar": {
             "outlinewidth": 0,
             "ticks": ""
            },
            "colorscale": [
             [
              0,
              "#0d0887"
             ],
             [
              0.1111111111111111,
              "#46039f"
             ],
             [
              0.2222222222222222,
              "#7201a8"
             ],
             [
              0.3333333333333333,
              "#9c179e"
             ],
             [
              0.4444444444444444,
              "#bd3786"
             ],
             [
              0.5555555555555556,
              "#d8576b"
             ],
             [
              0.6666666666666666,
              "#ed7953"
             ],
             [
              0.7777777777777778,
              "#fb9f3a"
             ],
             [
              0.8888888888888888,
              "#fdca26"
             ],
             [
              1,
              "#f0f921"
             ]
            ],
            "type": "heatmap"
           }
          ],
          "histogram": [
           {
            "marker": {
             "pattern": {
              "fillmode": "overlay",
              "size": 10,
              "solidity": 0.2
             }
            },
            "type": "histogram"
           }
          ],
          "histogram2d": [
           {
            "colorbar": {
             "outlinewidth": 0,
             "ticks": ""
            },
            "colorscale": [
             [
              0,
              "#0d0887"
             ],
             [
              0.1111111111111111,
              "#46039f"
             ],
             [
              0.2222222222222222,
              "#7201a8"
             ],
             [
              0.3333333333333333,
              "#9c179e"
             ],
             [
              0.4444444444444444,
              "#bd3786"
             ],
             [
              0.5555555555555556,
              "#d8576b"
             ],
             [
              0.6666666666666666,
              "#ed7953"
             ],
             [
              0.7777777777777778,
              "#fb9f3a"
             ],
             [
              0.8888888888888888,
              "#fdca26"
             ],
             [
              1,
              "#f0f921"
             ]
            ],
            "type": "histogram2d"
           }
          ],
          "histogram2dcontour": [
           {
            "colorbar": {
             "outlinewidth": 0,
             "ticks": ""
            },
            "colorscale": [
             [
              0,
              "#0d0887"
             ],
             [
              0.1111111111111111,
              "#46039f"
             ],
             [
              0.2222222222222222,
              "#7201a8"
             ],
             [
              0.3333333333333333,
              "#9c179e"
             ],
             [
              0.4444444444444444,
              "#bd3786"
             ],
             [
              0.5555555555555556,
              "#d8576b"
             ],
             [
              0.6666666666666666,
              "#ed7953"
             ],
             [
              0.7777777777777778,
              "#fb9f3a"
             ],
             [
              0.8888888888888888,
              "#fdca26"
             ],
             [
              1,
              "#f0f921"
             ]
            ],
            "type": "histogram2dcontour"
           }
          ],
          "mesh3d": [
           {
            "colorbar": {
             "outlinewidth": 0,
             "ticks": ""
            },
            "type": "mesh3d"
           }
          ],
          "parcoords": [
           {
            "line": {
             "colorbar": {
              "outlinewidth": 0,
              "ticks": ""
             }
            },
            "type": "parcoords"
           }
          ],
          "pie": [
           {
            "automargin": true,
            "type": "pie"
           }
          ],
          "scatter": [
           {
            "fillpattern": {
             "fillmode": "overlay",
             "size": 10,
             "solidity": 0.2
            },
            "type": "scatter"
           }
          ],
          "scatter3d": [
           {
            "line": {
             "colorbar": {
              "outlinewidth": 0,
              "ticks": ""
             }
            },
            "marker": {
             "colorbar": {
              "outlinewidth": 0,
              "ticks": ""
             }
            },
            "type": "scatter3d"
           }
          ],
          "scattercarpet": [
           {
            "marker": {
             "colorbar": {
              "outlinewidth": 0,
              "ticks": ""
             }
            },
            "type": "scattercarpet"
           }
          ],
          "scattergeo": [
           {
            "marker": {
             "colorbar": {
              "outlinewidth": 0,
              "ticks": ""
             }
            },
            "type": "scattergeo"
           }
          ],
          "scattergl": [
           {
            "marker": {
             "colorbar": {
              "outlinewidth": 0,
              "ticks": ""
             }
            },
            "type": "scattergl"
           }
          ],
          "scattermap": [
           {
            "marker": {
             "colorbar": {
              "outlinewidth": 0,
              "ticks": ""
             }
            },
            "type": "scattermap"
           }
          ],
          "scattermapbox": [
           {
            "marker": {
             "colorbar": {
              "outlinewidth": 0,
              "ticks": ""
             }
            },
            "type": "scattermapbox"
           }
          ],
          "scatterpolar": [
           {
            "marker": {
             "colorbar": {
              "outlinewidth": 0,
              "ticks": ""
             }
            },
            "type": "scatterpolar"
           }
          ],
          "scatterpolargl": [
           {
            "marker": {
             "colorbar": {
              "outlinewidth": 0,
              "ticks": ""
             }
            },
            "type": "scatterpolargl"
           }
          ],
          "scatterternary": [
           {
            "marker": {
             "colorbar": {
              "outlinewidth": 0,
              "ticks": ""
             }
            },
            "type": "scatterternary"
           }
          ],
          "surface": [
           {
            "colorbar": {
             "outlinewidth": 0,
             "ticks": ""
            },
            "colorscale": [
             [
              0,
              "#0d0887"
             ],
             [
              0.1111111111111111,
              "#46039f"
             ],
             [
              0.2222222222222222,
              "#7201a8"
             ],
             [
              0.3333333333333333,
              "#9c179e"
             ],
             [
              0.4444444444444444,
              "#bd3786"
             ],
             [
              0.5555555555555556,
              "#d8576b"
             ],
             [
              0.6666666666666666,
              "#ed7953"
             ],
             [
              0.7777777777777778,
              "#fb9f3a"
             ],
             [
              0.8888888888888888,
              "#fdca26"
             ],
             [
              1,
              "#f0f921"
             ]
            ],
            "type": "surface"
           }
          ],
          "table": [
           {
            "cells": {
             "fill": {
              "color": "#EBF0F8"
             },
             "line": {
              "color": "white"
             }
            },
            "header": {
             "fill": {
              "color": "#C8D4E3"
             },
             "line": {
              "color": "white"
             }
            },
            "type": "table"
           }
          ]
         },
         "layout": {
          "annotationdefaults": {
           "arrowcolor": "#2a3f5f",
           "arrowhead": 0,
           "arrowwidth": 1
          },
          "autotypenumbers": "strict",
          "coloraxis": {
           "colorbar": {
            "outlinewidth": 0,
            "ticks": ""
           }
          },
          "colorscale": {
           "diverging": [
            [
             0,
             "#8e0152"
            ],
            [
             0.1,
             "#c51b7d"
            ],
            [
             0.2,
             "#de77ae"
            ],
            [
             0.3,
             "#f1b6da"
            ],
            [
             0.4,
             "#fde0ef"
            ],
            [
             0.5,
             "#f7f7f7"
            ],
            [
             0.6,
             "#e6f5d0"
            ],
            [
             0.7,
             "#b8e186"
            ],
            [
             0.8,
             "#7fbc41"
            ],
            [
             0.9,
             "#4d9221"
            ],
            [
             1,
             "#276419"
            ]
           ],
           "sequential": [
            [
             0,
             "#0d0887"
            ],
            [
             0.1111111111111111,
             "#46039f"
            ],
            [
             0.2222222222222222,
             "#7201a8"
            ],
            [
             0.3333333333333333,
             "#9c179e"
            ],
            [
             0.4444444444444444,
             "#bd3786"
            ],
            [
             0.5555555555555556,
             "#d8576b"
            ],
            [
             0.6666666666666666,
             "#ed7953"
            ],
            [
             0.7777777777777778,
             "#fb9f3a"
            ],
            [
             0.8888888888888888,
             "#fdca26"
            ],
            [
             1,
             "#f0f921"
            ]
           ],
           "sequentialminus": [
            [
             0,
             "#0d0887"
            ],
            [
             0.1111111111111111,
             "#46039f"
            ],
            [
             0.2222222222222222,
             "#7201a8"
            ],
            [
             0.3333333333333333,
             "#9c179e"
            ],
            [
             0.4444444444444444,
             "#bd3786"
            ],
            [
             0.5555555555555556,
             "#d8576b"
            ],
            [
             0.6666666666666666,
             "#ed7953"
            ],
            [
             0.7777777777777778,
             "#fb9f3a"
            ],
            [
             0.8888888888888888,
             "#fdca26"
            ],
            [
             1,
             "#f0f921"
            ]
           ]
          },
          "colorway": [
           "#636efa",
           "#EF553B",
           "#00cc96",
           "#ab63fa",
           "#FFA15A",
           "#19d3f3",
           "#FF6692",
           "#B6E880",
           "#FF97FF",
           "#FECB52"
          ],
          "font": {
           "color": "#2a3f5f"
          },
          "geo": {
           "bgcolor": "white",
           "lakecolor": "white",
           "landcolor": "#E5ECF6",
           "showlakes": true,
           "showland": true,
           "subunitcolor": "white"
          },
          "hoverlabel": {
           "align": "left"
          },
          "hovermode": "closest",
          "mapbox": {
           "style": "light"
          },
          "paper_bgcolor": "white",
          "plot_bgcolor": "#E5ECF6",
          "polar": {
           "angularaxis": {
            "gridcolor": "white",
            "linecolor": "white",
            "ticks": ""
           },
           "bgcolor": "#E5ECF6",
           "radialaxis": {
            "gridcolor": "white",
            "linecolor": "white",
            "ticks": ""
           }
          },
          "scene": {
           "xaxis": {
            "backgroundcolor": "#E5ECF6",
            "gridcolor": "white",
            "gridwidth": 2,
            "linecolor": "white",
            "showbackground": true,
            "ticks": "",
            "zerolinecolor": "white"
           },
           "yaxis": {
            "backgroundcolor": "#E5ECF6",
            "gridcolor": "white",
            "gridwidth": 2,
            "linecolor": "white",
            "showbackground": true,
            "ticks": "",
            "zerolinecolor": "white"
           },
           "zaxis": {
            "backgroundcolor": "#E5ECF6",
            "gridcolor": "white",
            "gridwidth": 2,
            "linecolor": "white",
            "showbackground": true,
            "ticks": "",
            "zerolinecolor": "white"
           }
          },
          "shapedefaults": {
           "line": {
            "color": "#2a3f5f"
           }
          },
          "ternary": {
           "aaxis": {
            "gridcolor": "white",
            "linecolor": "white",
            "ticks": ""
           },
           "baxis": {
            "gridcolor": "white",
            "linecolor": "white",
            "ticks": ""
           },
           "bgcolor": "#E5ECF6",
           "caxis": {
            "gridcolor": "white",
            "linecolor": "white",
            "ticks": ""
           }
          },
          "title": {
           "x": 0.05
          },
          "xaxis": {
           "automargin": true,
           "gridcolor": "white",
           "linecolor": "white",
           "ticks": "",
           "title": {
            "standoff": 15
           },
           "zerolinecolor": "white",
           "zerolinewidth": 2
          },
          "yaxis": {
           "automargin": true,
           "gridcolor": "white",
           "linecolor": "white",
           "ticks": "",
           "title": {
            "standoff": 15
           },
           "zerolinecolor": "white",
           "zerolinewidth": 2
          }
         }
        },
        "width": 800,
        "xaxis": {
         "tickfont": {
          "size": 15
         },
         "title": {
          "font": {
           "size": 20
          },
          "text": "Vorhergesagtes Label"
         }
        },
        "yaxis": {
         "autorange": "reversed",
         "tickfont": {
          "size": 15
         },
         "title": {
          "font": {
           "size": 20
          },
          "text": "Tatsächliche Klasse"
         }
        }
       }
      }
     },
     "metadata": {},
     "output_type": "display_data"
    }
   ],
   "source": [
    "import plotly.graph_objects as go\n",
    "\n",
    "# Data and totals\n",
    "totals = [340, 288, 391, 116]\n",
    "raw = [[310, 30], [35, 253], [65, 326], [45, 71]]\n",
    "\n",
    "# Convert to percentages\n",
    "z_percent = [\n",
    "    [round((val / totals[i]) * 100, 2) for val in row] for i, row in enumerate(raw)\n",
    "]\n",
    "\n",
    "# Labels\n",
    "classes = [\"Gut\", \"Riss\", \"Verbindung\", \"Punkt\"]\n",
    "predicted = [\"Vorhersage Normal\", \"Vorhersage Anomalie\"]\n",
    "\n",
    "# Annotation text\n",
    "text = [[f\"{v}%\" for v in row] for row in z_percent]\n",
    "\n",
    "# Plot\n",
    "fig = go.Figure(\n",
    "    data=go.Heatmap(\n",
    "        z=z_percent,\n",
    "        x=predicted,\n",
    "        y=classes,\n",
    "        hoverinfo=\"z\",\n",
    "        colorscale=\"Blues\",\n",
    "        showscale=True,\n",
    "        zmin=0,\n",
    "        zmax=100,\n",
    "    )\n",
    ")\n",
    "\n",
    "# Annotations\n",
    "for i in range(len(z_percent)):\n",
    "    for j in range(len(z_percent[0])):\n",
    "        fig.add_annotation(\n",
    "            dict(\n",
    "                text=text[i][j],\n",
    "                x=predicted[j],\n",
    "                y=classes[i],\n",
    "                font=dict(color=\"black\", size=14),\n",
    "                showarrow=False,\n",
    "            )\n",
    "        )\n",
    "\n",
    "fig.update_layout(\n",
    "    # title=dict(text=\"Klassenweise Confusion-Matrix\", font=dict(size=30)),\n",
    "    xaxis_title=\"Vorhergesagtes Label\",\n",
    "    yaxis_title=\"Tatsächliche Klasse\",\n",
    "    yaxis_autorange=\"reversed\",\n",
    "    margin=dict(l=20, r=20, t=20, b=20),\n",
    "    yaxis=dict(tickfont=dict(size=15), title_font=dict(size=20)),\n",
    "    xaxis=dict(tickfont=dict(size=15), title_font=dict(size=20)),\n",
    "    width=800,\n",
    "    height=500,\n",
    ")\n",
    "\n",
    "fig.show()\n",
    "fig.write_image(\"../images/conf-matrix.pdf\")\n",
    "fig.write_image(\"../images/conf-matrix.png\")"
   ]
  },
  {
   "cell_type": "markdown",
   "id": "61a54751",
   "metadata": {},
   "source": [
    "# ROC Curve"
   ]
  },
  {
   "cell_type": "code",
   "execution_count": 132,
   "id": "dd36a3e0",
   "metadata": {},
   "outputs": [],
   "source": [
    "all_anomaly_scores = {\n",
    "    \"good\": [],\n",
    "    \"crack\": [],\n",
    "    \"joint\": [],\n",
    "    \"dot\": [],\n",
    "}\n",
    "\n",
    "for directory, anomaly in [\n",
    "    (\"marble/test/good\", False),\n",
    "    (\"marble/test/crack\", True),\n",
    "    (\"marble/test/joint\", True),\n",
    "    (\"marble/test/dot\", True),\n",
    "]:\n",
    "    for img_path in os.listdir(directory):\n",
    "        img = Image.open(os.path.join(directory, img_path))\n",
    "        img_tensor = transform(img).unsqueeze(0).to(DEVICE)\n",
    "        with torch.no_grad():\n",
    "            output = model(img_tensor)\n",
    "        anomaly_score = compute_reconstruction_error(img_tensor, output).cpu().numpy().item()\n",
    "        all_anomaly_scores[directory.split(\"/\")[-1]].append(anomaly_score)"
   ]
  },
  {
   "cell_type": "code",
   "execution_count": 133,
   "id": "b3317f89",
   "metadata": {},
   "outputs": [],
   "source": [
    "def calculate_precision_recall(good_scores, anomaly_scores, threshold):\n",
    "    tp = len([sc for sc in anomaly_scores if sc > threshold])\n",
    "    fn = len(anomaly_scores) - tp\n",
    "    tn = len([sc for sc in good_scores if sc < threshold])\n",
    "    fp = len(good_scores) - tn\n",
    "    \n",
    "    precision = tp / (tp + fp)\n",
    "    recall = tp / (tp + fn)\n",
    "    return precision, recall\n"
   ]
  },
  {
   "cell_type": "code",
   "execution_count": 134,
   "id": "ccc5872f",
   "metadata": {},
   "outputs": [],
   "source": [
    "def calculate_tpr_fpr(good_scores, anomaly_scores, threshold):\n",
    "    tp = len([sc for sc in anomaly_scores if sc > threshold])\n",
    "    fn = len(anomaly_scores) - tp\n",
    "    tn = len([sc for sc in good_scores if sc < threshold])\n",
    "    fp = len(good_scores) - tn\n",
    "    \n",
    "    fpr = fp / (fp + tn)\n",
    "    tpr = tp / (tp + fn)\n",
    "    return fpr, tpr"
   ]
  },
  {
   "cell_type": "code",
   "execution_count": 135,
   "id": "94af7de7",
   "metadata": {},
   "outputs": [],
   "source": [
    "good_scores = all_anomaly_scores[\"good\"]\n",
    "anomaly_scores = all_anomaly_scores[\"crack\"] + all_anomaly_scores[\"dot\"] + all_anomaly_scores[\"joint\"]\n",
    "\n",
    "percentile_0 = np.percentile(good_scores, 0)\n",
    "percentile_100 = np.percentile(good_scores, 100)\n",
    "\n",
    "\n",
    "threshs_precisions_recalls = []\n",
    "threshs_tprs_fprs = []\n",
    "for thresh in np.arange(percentile_0, percentile_100, (percentile_100 - percentile_0) / 100):\n",
    "    precision, recall = calculate_precision_recall(good_scores, anomaly_scores, thresh)\n",
    "    tpr, fpr = calculate_tpr_fpr(good_scores, anomaly_scores, thresh)\n",
    "    threshs_precisions_recalls.append({\"thresh\": thresh, \"Precision\": precision, \"Recall\": recall})\n",
    "    threshs_tprs_fprs.append({\"thresh\": thresh, \"TPR\": tpr, \"FPR\": fpr})\n"
   ]
  },
  {
   "cell_type": "code",
   "execution_count": 136,
   "id": "c461728b",
   "metadata": {},
   "outputs": [
    {
     "data": {
      "text/html": [
       "<div>\n",
       "<style scoped>\n",
       "    .dataframe tbody tr th:only-of-type {\n",
       "        vertical-align: middle;\n",
       "    }\n",
       "\n",
       "    .dataframe tbody tr th {\n",
       "        vertical-align: top;\n",
       "    }\n",
       "\n",
       "    .dataframe thead th {\n",
       "        text-align: right;\n",
       "    }\n",
       "</style>\n",
       "<table border=\"1\" class=\"dataframe\">\n",
       "  <thead>\n",
       "    <tr style=\"text-align: right;\">\n",
       "      <th></th>\n",
       "      <th>thresh</th>\n",
       "      <th>Precision</th>\n",
       "      <th>Recall</th>\n",
       "    </tr>\n",
       "  </thead>\n",
       "  <tbody>\n",
       "    <tr>\n",
       "      <th>0</th>\n",
       "      <td>0.000298</td>\n",
       "      <td>0.700441</td>\n",
       "      <td>1.000000</td>\n",
       "    </tr>\n",
       "    <tr>\n",
       "      <th>1</th>\n",
       "      <td>0.000468</td>\n",
       "      <td>0.715315</td>\n",
       "      <td>0.998742</td>\n",
       "    </tr>\n",
       "  </tbody>\n",
       "</table>\n",
       "</div>"
      ],
      "text/plain": [
       "     thresh  Precision    Recall\n",
       "0  0.000298   0.700441  1.000000\n",
       "1  0.000468   0.715315  0.998742"
      ]
     },
     "execution_count": 136,
     "metadata": {},
     "output_type": "execute_result"
    }
   ],
   "source": [
    "df_precision_recall_curve = pd.DataFrame(threshs_precisions_recalls)\n",
    "df_precision_recall_curve.head(2)"
   ]
  },
  {
   "cell_type": "code",
   "execution_count": 137,
   "id": "221d850b",
   "metadata": {},
   "outputs": [
    {
     "data": {
      "application/vnd.plotly.v1+json": {
       "config": {
        "plotlyServerURL": "https://plot.ly"
       },
       "data": [
        {
         "hovertemplate": "Recall=%{x}<br>Precision=%{y}<extra></extra>",
         "legendgroup": "",
         "line": {
          "color": "#636efa",
          "dash": "solid"
         },
         "marker": {
          "symbol": "circle"
         },
         "mode": "lines",
         "name": "",
         "orientation": "v",
         "showlegend": false,
         "type": "scatter",
         "x": {
          "bdata": "AAAAAAAA8D8mPq0SsvXvP5j4tErI1u8/oqtxzaaO7z+GIIE901DvPwKORfjH6e4/wMSnVUK27j9icBkj6UTuPwQci/CP0+0/gIlPq4Rs7T9k/l4bsS7tPyI1wXgr++w/nqKFMyCU7D8kwwZx8+TrP8ZueD6ac+s/9l/i0yoh6z8AE59WCdnqPzAECeyZhuo/YPVygSo06j8eLNXepADqP04dP3Q1ruk/YoO4efId6T8qbddZS6LoPw7i5sl3ZOg/gJzuAY5F6D8+01BfCBLoP6+NWJce8+c/bcS69Ji/5z+dtSSKKW3nP82mjh+6Guc//Zf4tErI5j9Txw9djWvmP4O4efIdGeY/Qe/bT5jl5T8lZOu/xKflP0uimNJ2neU/LxeoQqNf5T85ymTFgRflPx0/dDWu2eQ/tTcpgHaw5D/lKJMVB17kP30hSGDPNOQ/79tPmOUV5D/TUF8IEtjjP7fFbng+muM/KYB2sFR74z+bOn7oalzjPzMzMzMzM+M/f6+NWJce4z/xaZWQrf/iP6+g9+0nzOI/+xxSE4y34j+5U7RwBoTiP1FMabvOWuI/NcF4K/sc4j9b/yU+rRLiPxk2iJsn3+E/sS495u+14T+74flozm3hP1ParrOWROE/XY1rNnX84D8bxM2T78jgP0u1NymAduA/lzGSTuRh4D8J7JmG+kLgP8ci/ON0D+A/croHOBbh3z+iq3HNpo7fP4YggT3TUN8/apWQrf8S3z+ahvpCkMDePxb0vv2EWd4/RuUokxUH3j8Oz0dzbovdP4o8DC5jJN0/IjXBeCv73D/Ok+/IsEHcP7II/zjdA9w/4vlozm2x2z/Gbng+mnPbP6rjh67GNds/jliXHvP32j86t8VueD7aP2qoLwQJ7Nk/mpmZmZmZ2T/mFfS+/YTZP8qKAy8qR9k/YoO4efId2T+u/xKfVgnZP5J0Ig+Dy9g/dukxf6+N2D9aXkHv20/YP/JW9jmkJtg/iU+rhGz91z+5QBUa/arXP1E5ymTFgdc/nbUkiilt1z9ln0NqgvHWP+EMCCV3itY/Ef5xugc41j/1coEqNPrVPw==",
          "dtype": "f8"
         },
         "xaxis": "x",
         "y": {
          "bdata": "jeFoQQJq5j8+brPx3OPmP7H8SeVCX+c/lPsAjqcT6D/p/GXa2AvpP9kzEJWO7Ok/ikWIehu+6j9DFTmEZmDrP1Wa3ejrMew/2H9SIr/F7D/2KwVq/UrtP3HaYd8Kp+0/UV5DeQ3l7T8MzsfgfAzuP0bVFDEhGu4/jYVBuz8q7j8cefmodzvuP72AbU5Xee4/7+QHcx6X7j9nUOQiDKDuP3nqi3KXp+4/uB6F61G47j8lrhkgKLLuP8BlLpZz1O4/xU7sxE7s7j9wE7OtFOruP/Z+We+X9e4/XDIE62jz7j9Ygn6vBP3uP28wRT7rBu8/WiwNDiAR7z/eUCfIQBvvPzqA8Z8DGO8/Z+DKyy0k7z9Evt05yyHvP7KQhSxkIe8/7/Ee7/Ee7z87uQ6zBRzvP4fyGsprKO8/Nl8Emes17z/8t10uzjLvPyLpuS42Me8/AAAAAAAw7z85aM2ZiC3vPxxTqnz/Ou8/n/RJn/RJ7z/BKoolKFnvP9LnoVTJV+8/f+Q0X6tn7z93d3d3d3fvP8ddlosHdu8/UhHgMnJ17z/NDmcsNYXvP+RcKJklhO8/9oFYUoWC7z9A+ZM/+ZPvP5NfLPnFku8/jvxcMcuR7z96SY5UCZDvP7sEeMVStO8/DaGSbhSz7z/o2riQKrLvPylWuZmosO8/RGn1wkWw7z+wr6+vr6/vPyXidJiwru8/JvyZ8GfC7z9QDGdDyMHvP/ByCl5Owe8/sspcl9LA7z93zUuOKsDvP/V7bolTv+8/z0Z9Z6O+7z/Z+5oQlL3vP8v7XSKrvO8/jmVQKky87z9kK4KGk7rvP6D7uZ/7ue8/Jj7uu6XQ7z9iS121O9DvP9DPz8/Pz+8/9A97/mHP7z/Ox+B8DM7vPyxSBp5uze8/zczMzMzM7z/eVSu2o8zvP5jf1eImzO8/agsNWNLL7z/HdfCqp8vvP8tfsvwly+8/KPCgxaHK7z+ivIbyGsrvP/4mf5O/ye8/EkEcHZrk7z/Cd5oCO+TvP3J5EXwK5O8/P378+PHj7z8eofpMW+PvP6UDXNPY4u8/gOHcDW3i7z95BxwpGuLvPw==",
          "dtype": "f8"
         },
         "yaxis": "y"
        }
       ],
       "layout": {
        "height": 600,
        "legend": {
         "tracegroupgap": 0
        },
        "margin": {
         "b": 20,
         "l": 20,
         "r": 20,
         "t": 20
        },
        "showlegend": false,
        "template": {
         "data": {
          "bar": [
           {
            "error_x": {
             "color": "#2a3f5f"
            },
            "error_y": {
             "color": "#2a3f5f"
            },
            "marker": {
             "line": {
              "color": "#E5ECF6",
              "width": 0.5
             },
             "pattern": {
              "fillmode": "overlay",
              "size": 10,
              "solidity": 0.2
             }
            },
            "type": "bar"
           }
          ],
          "barpolar": [
           {
            "marker": {
             "line": {
              "color": "#E5ECF6",
              "width": 0.5
             },
             "pattern": {
              "fillmode": "overlay",
              "size": 10,
              "solidity": 0.2
             }
            },
            "type": "barpolar"
           }
          ],
          "carpet": [
           {
            "aaxis": {
             "endlinecolor": "#2a3f5f",
             "gridcolor": "white",
             "linecolor": "white",
             "minorgridcolor": "white",
             "startlinecolor": "#2a3f5f"
            },
            "baxis": {
             "endlinecolor": "#2a3f5f",
             "gridcolor": "white",
             "linecolor": "white",
             "minorgridcolor": "white",
             "startlinecolor": "#2a3f5f"
            },
            "type": "carpet"
           }
          ],
          "choropleth": [
           {
            "colorbar": {
             "outlinewidth": 0,
             "ticks": ""
            },
            "type": "choropleth"
           }
          ],
          "contour": [
           {
            "colorbar": {
             "outlinewidth": 0,
             "ticks": ""
            },
            "colorscale": [
             [
              0,
              "#0d0887"
             ],
             [
              0.1111111111111111,
              "#46039f"
             ],
             [
              0.2222222222222222,
              "#7201a8"
             ],
             [
              0.3333333333333333,
              "#9c179e"
             ],
             [
              0.4444444444444444,
              "#bd3786"
             ],
             [
              0.5555555555555556,
              "#d8576b"
             ],
             [
              0.6666666666666666,
              "#ed7953"
             ],
             [
              0.7777777777777778,
              "#fb9f3a"
             ],
             [
              0.8888888888888888,
              "#fdca26"
             ],
             [
              1,
              "#f0f921"
             ]
            ],
            "type": "contour"
           }
          ],
          "contourcarpet": [
           {
            "colorbar": {
             "outlinewidth": 0,
             "ticks": ""
            },
            "type": "contourcarpet"
           }
          ],
          "heatmap": [
           {
            "colorbar": {
             "outlinewidth": 0,
             "ticks": ""
            },
            "colorscale": [
             [
              0,
              "#0d0887"
             ],
             [
              0.1111111111111111,
              "#46039f"
             ],
             [
              0.2222222222222222,
              "#7201a8"
             ],
             [
              0.3333333333333333,
              "#9c179e"
             ],
             [
              0.4444444444444444,
              "#bd3786"
             ],
             [
              0.5555555555555556,
              "#d8576b"
             ],
             [
              0.6666666666666666,
              "#ed7953"
             ],
             [
              0.7777777777777778,
              "#fb9f3a"
             ],
             [
              0.8888888888888888,
              "#fdca26"
             ],
             [
              1,
              "#f0f921"
             ]
            ],
            "type": "heatmap"
           }
          ],
          "histogram": [
           {
            "marker": {
             "pattern": {
              "fillmode": "overlay",
              "size": 10,
              "solidity": 0.2
             }
            },
            "type": "histogram"
           }
          ],
          "histogram2d": [
           {
            "colorbar": {
             "outlinewidth": 0,
             "ticks": ""
            },
            "colorscale": [
             [
              0,
              "#0d0887"
             ],
             [
              0.1111111111111111,
              "#46039f"
             ],
             [
              0.2222222222222222,
              "#7201a8"
             ],
             [
              0.3333333333333333,
              "#9c179e"
             ],
             [
              0.4444444444444444,
              "#bd3786"
             ],
             [
              0.5555555555555556,
              "#d8576b"
             ],
             [
              0.6666666666666666,
              "#ed7953"
             ],
             [
              0.7777777777777778,
              "#fb9f3a"
             ],
             [
              0.8888888888888888,
              "#fdca26"
             ],
             [
              1,
              "#f0f921"
             ]
            ],
            "type": "histogram2d"
           }
          ],
          "histogram2dcontour": [
           {
            "colorbar": {
             "outlinewidth": 0,
             "ticks": ""
            },
            "colorscale": [
             [
              0,
              "#0d0887"
             ],
             [
              0.1111111111111111,
              "#46039f"
             ],
             [
              0.2222222222222222,
              "#7201a8"
             ],
             [
              0.3333333333333333,
              "#9c179e"
             ],
             [
              0.4444444444444444,
              "#bd3786"
             ],
             [
              0.5555555555555556,
              "#d8576b"
             ],
             [
              0.6666666666666666,
              "#ed7953"
             ],
             [
              0.7777777777777778,
              "#fb9f3a"
             ],
             [
              0.8888888888888888,
              "#fdca26"
             ],
             [
              1,
              "#f0f921"
             ]
            ],
            "type": "histogram2dcontour"
           }
          ],
          "mesh3d": [
           {
            "colorbar": {
             "outlinewidth": 0,
             "ticks": ""
            },
            "type": "mesh3d"
           }
          ],
          "parcoords": [
           {
            "line": {
             "colorbar": {
              "outlinewidth": 0,
              "ticks": ""
             }
            },
            "type": "parcoords"
           }
          ],
          "pie": [
           {
            "automargin": true,
            "type": "pie"
           }
          ],
          "scatter": [
           {
            "fillpattern": {
             "fillmode": "overlay",
             "size": 10,
             "solidity": 0.2
            },
            "type": "scatter"
           }
          ],
          "scatter3d": [
           {
            "line": {
             "colorbar": {
              "outlinewidth": 0,
              "ticks": ""
             }
            },
            "marker": {
             "colorbar": {
              "outlinewidth": 0,
              "ticks": ""
             }
            },
            "type": "scatter3d"
           }
          ],
          "scattercarpet": [
           {
            "marker": {
             "colorbar": {
              "outlinewidth": 0,
              "ticks": ""
             }
            },
            "type": "scattercarpet"
           }
          ],
          "scattergeo": [
           {
            "marker": {
             "colorbar": {
              "outlinewidth": 0,
              "ticks": ""
             }
            },
            "type": "scattergeo"
           }
          ],
          "scattergl": [
           {
            "marker": {
             "colorbar": {
              "outlinewidth": 0,
              "ticks": ""
             }
            },
            "type": "scattergl"
           }
          ],
          "scattermap": [
           {
            "marker": {
             "colorbar": {
              "outlinewidth": 0,
              "ticks": ""
             }
            },
            "type": "scattermap"
           }
          ],
          "scattermapbox": [
           {
            "marker": {
             "colorbar": {
              "outlinewidth": 0,
              "ticks": ""
             }
            },
            "type": "scattermapbox"
           }
          ],
          "scatterpolar": [
           {
            "marker": {
             "colorbar": {
              "outlinewidth": 0,
              "ticks": ""
             }
            },
            "type": "scatterpolar"
           }
          ],
          "scatterpolargl": [
           {
            "marker": {
             "colorbar": {
              "outlinewidth": 0,
              "ticks": ""
             }
            },
            "type": "scatterpolargl"
           }
          ],
          "scatterternary": [
           {
            "marker": {
             "colorbar": {
              "outlinewidth": 0,
              "ticks": ""
             }
            },
            "type": "scatterternary"
           }
          ],
          "surface": [
           {
            "colorbar": {
             "outlinewidth": 0,
             "ticks": ""
            },
            "colorscale": [
             [
              0,
              "#0d0887"
             ],
             [
              0.1111111111111111,
              "#46039f"
             ],
             [
              0.2222222222222222,
              "#7201a8"
             ],
             [
              0.3333333333333333,
              "#9c179e"
             ],
             [
              0.4444444444444444,
              "#bd3786"
             ],
             [
              0.5555555555555556,
              "#d8576b"
             ],
             [
              0.6666666666666666,
              "#ed7953"
             ],
             [
              0.7777777777777778,
              "#fb9f3a"
             ],
             [
              0.8888888888888888,
              "#fdca26"
             ],
             [
              1,
              "#f0f921"
             ]
            ],
            "type": "surface"
           }
          ],
          "table": [
           {
            "cells": {
             "fill": {
              "color": "#EBF0F8"
             },
             "line": {
              "color": "white"
             }
            },
            "header": {
             "fill": {
              "color": "#C8D4E3"
             },
             "line": {
              "color": "white"
             }
            },
            "type": "table"
           }
          ]
         },
         "layout": {
          "annotationdefaults": {
           "arrowcolor": "#2a3f5f",
           "arrowhead": 0,
           "arrowwidth": 1
          },
          "autotypenumbers": "strict",
          "coloraxis": {
           "colorbar": {
            "outlinewidth": 0,
            "ticks": ""
           }
          },
          "colorscale": {
           "diverging": [
            [
             0,
             "#8e0152"
            ],
            [
             0.1,
             "#c51b7d"
            ],
            [
             0.2,
             "#de77ae"
            ],
            [
             0.3,
             "#f1b6da"
            ],
            [
             0.4,
             "#fde0ef"
            ],
            [
             0.5,
             "#f7f7f7"
            ],
            [
             0.6,
             "#e6f5d0"
            ],
            [
             0.7,
             "#b8e186"
            ],
            [
             0.8,
             "#7fbc41"
            ],
            [
             0.9,
             "#4d9221"
            ],
            [
             1,
             "#276419"
            ]
           ],
           "sequential": [
            [
             0,
             "#0d0887"
            ],
            [
             0.1111111111111111,
             "#46039f"
            ],
            [
             0.2222222222222222,
             "#7201a8"
            ],
            [
             0.3333333333333333,
             "#9c179e"
            ],
            [
             0.4444444444444444,
             "#bd3786"
            ],
            [
             0.5555555555555556,
             "#d8576b"
            ],
            [
             0.6666666666666666,
             "#ed7953"
            ],
            [
             0.7777777777777778,
             "#fb9f3a"
            ],
            [
             0.8888888888888888,
             "#fdca26"
            ],
            [
             1,
             "#f0f921"
            ]
           ],
           "sequentialminus": [
            [
             0,
             "#0d0887"
            ],
            [
             0.1111111111111111,
             "#46039f"
            ],
            [
             0.2222222222222222,
             "#7201a8"
            ],
            [
             0.3333333333333333,
             "#9c179e"
            ],
            [
             0.4444444444444444,
             "#bd3786"
            ],
            [
             0.5555555555555556,
             "#d8576b"
            ],
            [
             0.6666666666666666,
             "#ed7953"
            ],
            [
             0.7777777777777778,
             "#fb9f3a"
            ],
            [
             0.8888888888888888,
             "#fdca26"
            ],
            [
             1,
             "#f0f921"
            ]
           ]
          },
          "colorway": [
           "#636efa",
           "#EF553B",
           "#00cc96",
           "#ab63fa",
           "#FFA15A",
           "#19d3f3",
           "#FF6692",
           "#B6E880",
           "#FF97FF",
           "#FECB52"
          ],
          "font": {
           "color": "#2a3f5f"
          },
          "geo": {
           "bgcolor": "white",
           "lakecolor": "white",
           "landcolor": "#E5ECF6",
           "showlakes": true,
           "showland": true,
           "subunitcolor": "white"
          },
          "hoverlabel": {
           "align": "left"
          },
          "hovermode": "closest",
          "mapbox": {
           "style": "light"
          },
          "paper_bgcolor": "white",
          "plot_bgcolor": "#E5ECF6",
          "polar": {
           "angularaxis": {
            "gridcolor": "white",
            "linecolor": "white",
            "ticks": ""
           },
           "bgcolor": "#E5ECF6",
           "radialaxis": {
            "gridcolor": "white",
            "linecolor": "white",
            "ticks": ""
           }
          },
          "scene": {
           "xaxis": {
            "backgroundcolor": "#E5ECF6",
            "gridcolor": "white",
            "gridwidth": 2,
            "linecolor": "white",
            "showbackground": true,
            "ticks": "",
            "zerolinecolor": "white"
           },
           "yaxis": {
            "backgroundcolor": "#E5ECF6",
            "gridcolor": "white",
            "gridwidth": 2,
            "linecolor": "white",
            "showbackground": true,
            "ticks": "",
            "zerolinecolor": "white"
           },
           "zaxis": {
            "backgroundcolor": "#E5ECF6",
            "gridcolor": "white",
            "gridwidth": 2,
            "linecolor": "white",
            "showbackground": true,
            "ticks": "",
            "zerolinecolor": "white"
           }
          },
          "shapedefaults": {
           "line": {
            "color": "#2a3f5f"
           }
          },
          "ternary": {
           "aaxis": {
            "gridcolor": "white",
            "linecolor": "white",
            "ticks": ""
           },
           "baxis": {
            "gridcolor": "white",
            "linecolor": "white",
            "ticks": ""
           },
           "bgcolor": "#E5ECF6",
           "caxis": {
            "gridcolor": "white",
            "linecolor": "white",
            "ticks": ""
           }
          },
          "title": {
           "x": 0.05
          },
          "xaxis": {
           "automargin": true,
           "gridcolor": "white",
           "linecolor": "white",
           "ticks": "",
           "title": {
            "standoff": 15
           },
           "zerolinecolor": "white",
           "zerolinewidth": 2
          },
          "yaxis": {
           "automargin": true,
           "gridcolor": "white",
           "linecolor": "white",
           "ticks": "",
           "title": {
            "standoff": 15
           },
           "zerolinecolor": "white",
           "zerolinewidth": 2
          }
         }
        },
        "title": {
         "font": {
          "size": 30
         }
        },
        "width": 600,
        "xaxis": {
         "anchor": "y",
         "domain": [
          0,
          1
         ],
         "tickfont": {
          "size": 15
         },
         "title": {
          "font": {
           "size": 20
          },
          "text": "Recall"
         }
        },
        "yaxis": {
         "anchor": "x",
         "domain": [
          0,
          1
         ],
         "range": [
          0,
          1
         ],
         "tickfont": {
          "size": 15
         },
         "title": {
          "font": {
           "size": 20
          },
          "text": "Precision"
         }
        }
       }
      }
     },
     "metadata": {},
     "output_type": "display_data"
    }
   ],
   "source": [
    "fig = px.line(\n",
    "    df_precision_recall_curve,\n",
    "    x=\"Recall\",\n",
    "    y=\"Precision\",\n",
    "    width=600,\n",
    "    height=600,\n",
    "    # title=\"Precision Recall Curve\",\n",
    ")\n",
    "fig.update_layout(\n",
    "    yaxis_range=[0, 1],\n",
    "    margin=dict(l=20, r=20, t=20, b=20),\n",
    "    showlegend=False,\n",
    "    title=dict(font=dict(size=30)),\n",
    "    yaxis=dict(tickfont=dict(size=15), title_font=dict(size=20)),\n",
    "    xaxis=dict(tickfont=dict(size=15), title_font=dict(size=20)),\n",
    ")\n",
    "fig.write_image(\"../images/precision_recall_curve.pdf\")\n",
    "fig.write_image(\"../images/precision_recall_curve.png\")\n",
    "fig.show()"
   ]
  },
  {
   "cell_type": "code",
   "execution_count": 138,
   "id": "d4faf3b5",
   "metadata": {},
   "outputs": [
    {
     "data": {
      "text/html": [
       "<div>\n",
       "<style scoped>\n",
       "    .dataframe tbody tr th:only-of-type {\n",
       "        vertical-align: middle;\n",
       "    }\n",
       "\n",
       "    .dataframe tbody tr th {\n",
       "        vertical-align: top;\n",
       "    }\n",
       "\n",
       "    .dataframe thead th {\n",
       "        text-align: right;\n",
       "    }\n",
       "</style>\n",
       "<table border=\"1\" class=\"dataframe\">\n",
       "  <thead>\n",
       "    <tr style=\"text-align: right;\">\n",
       "      <th></th>\n",
       "      <th>thresh</th>\n",
       "      <th>TPR</th>\n",
       "      <th>FPR</th>\n",
       "    </tr>\n",
       "  </thead>\n",
       "  <tbody>\n",
       "    <tr>\n",
       "      <th>0</th>\n",
       "      <td>0.000298</td>\n",
       "      <td>1.000000</td>\n",
       "      <td>1.000000</td>\n",
       "    </tr>\n",
       "    <tr>\n",
       "      <th>1</th>\n",
       "      <td>0.000468</td>\n",
       "      <td>0.929412</td>\n",
       "      <td>0.998742</td>\n",
       "    </tr>\n",
       "  </tbody>\n",
       "</table>\n",
       "</div>"
      ],
      "text/plain": [
       "     thresh       TPR       FPR\n",
       "0  0.000298  1.000000  1.000000\n",
       "1  0.000468  0.929412  0.998742"
      ]
     },
     "execution_count": 138,
     "metadata": {},
     "output_type": "execute_result"
    }
   ],
   "source": [
    "df_roc_curve = pd.DataFrame(threshs_tprs_fprs)\n",
    "df_roc_curve.head(2)"
   ]
  },
  {
   "cell_type": "code",
   "execution_count": 139,
   "id": "cfc84ce8",
   "metadata": {},
   "outputs": [
    {
     "data": {
      "text/plain": [
       "tensor(0.9311)"
      ]
     },
     "execution_count": 139,
     "metadata": {},
     "output_type": "execute_result"
    }
   ],
   "source": [
    "preds = tensor(good_scores + anomaly_scores)\n",
    "target = tensor([0] * len(good_scores) + [1] * len(anomaly_scores))\n",
    "metric = BinaryAUROC(thresholds=None)\n",
    "auc = metric(preds, target)\n",
    "auc"
   ]
  },
  {
   "cell_type": "code",
   "execution_count": 140,
   "id": "ffd19c8c",
   "metadata": {},
   "outputs": [
    {
     "data": {
      "application/vnd.plotly.v1+json": {
       "config": {
        "plotlyServerURL": "https://plot.ly"
       },
       "data": [
        {
         "fillpattern": {
          "shape": ""
         },
         "hovertemplate": "False Positive Rate=%{x}<br>True Positive Rate=%{y}<extra></extra>",
         "legendgroup": "",
         "line": {
          "color": "#636efa"
         },
         "marker": {
          "symbol": "circle"
         },
         "mode": "lines",
         "name": "",
         "orientation": "v",
         "showlegend": false,
         "stackgroup": "1",
         "type": "scatter",
         "x": {
          "bdata": "AAAAAAAAAAAAAAAAAAAAAAAAAAAAAAAAAAAAAAAAAAAAAAAAAAAAAAAAAAAAAAAAAAAAAAAAAAAAAAAAAAAAAAAAAAAAAAAAAAAAAAAAAAAAAAAAAAAAAAAAAAAAAAAAAAAAAAAAAAAAAAAAAAAAAAAAAAAAAAAAAAAAAAAAAAAAAAAAAAAAAAAAAAAAAAAAAAAAAAAAAAAAAAAAAAAAAAAAAAAAAAAAAAAAAAAAAAAAAAAAAAAAAAAAAAAAAAAAAAAAAAAAAAAAAAAAAAAAAAAAAAAAAAAAAAAAAAAAAAAAAAAAAAAAAAAAAAAAAAAAAAAAAAAAAAAAAAAAAAAAAAAAAAAAAAAAAAAAAAAAAAAAAAAAAAAAAAAAAAAAAAAAAAAAAAAAAAAAAAAAAAAAAAAAAAAAAAAAAAAAAAAAAAAAAAAAAAAAAAAAAAAAAAAAAAAAAAAAAAAAAAAAAAAAAAAAAAAAAAAAAAAAAAAAAAAAAAAAAAAAAAAAAAAAAAAAAAAAAAAAAAAAAAAAAAAAAAAAAAAAAAAAAAAAAAAAAAAAAAAAAAAAAAAAAAAAAAAAAAAAAAAAAAAAAAAAAAAAAAAAAAAAAAAAAAAAAAAAAAAAAAAAAAAAAAAAAAAAAAAAAAAAAAAAAAAAAAAAAAAAAAAAAAAAAAAAAAAAAAAAAAAAAAAAAAAAAAAAAAAAAAAAAAAAAAAAAAAAAAAAAAAAAAAAAAAAAAAAAAAAAAAAAAAAAAAAAAAAAAAAAAAAAAAAAAAAAAAAAAAAAAAAAAAAAAAAAAAAAAAAAAAAAAAAAAAAAAAAAAAAAAAAAAAAAAAAAAAAAAAAAAAAAAAAAAAAAAAAAAAAAAAAAAAAAAAAAAAAAAAAAAAAAAAAAAAAAAAAAAAAAAAAAAAAAAAAAAAAAAAAAAAAAAAAAAAAAAAAAAAAAAAAAAAAAAAAAAAAAAAAAAAAAAAAAAAAAAAAAAAAAAAAAAAAAAAAAAAAAAAAAAAAAAAAAAAAAAAAAAAAAAAAAAAAAAAAAAAAAAAAAAAAAAAAAAAAAAAAAAAAAAAAAAAAAAAAAAAAAAAAAAAAAAAAAAAAAAAAAAAAAAAAAAAAAAAAAAAAAAAAAAAAAAAAAAAAAAAAAAAAAAAAAAAAAAAAAAAAAAAAAAAAAAAAAAAAAAAAAAAAAAAAAAAAAAAAAAAAAAAAAAAAAAAAAAAAAAAAAAAAAAAAAAAAAAAAAAAAAAAAAAAAAAAAAAAAAAAAAAAAAAAAAAAAAAAAAAAAAAAAAAAAAAAAAAAAAAAAAAAAAAAAAAAAAAAAAAAAAAAAAAAAAAAAAAAAAAAAAAAAAAAAAAAAAAAAAAAAAAAAAAAAAAAAAAAAAAAAAAAAAAAAAAAAAAAAAAAAAAAAAAAAAAAAAAAAAAAAAAAAAAAAAAAAAAAAAAAAAAAAAAAAAAAAAAAAAAAAAAAAAAAAAAAAAAAAAAAAAAAAAAAAAAAAAAAAAAAAAAAAAAAAAAAAAAAAAAAAAAAAAAAAAAAAAAAAAAAAAAAAAAAAAAAAAAAAAAAAAAAAAAAAAAAAAAAAAAAAAAAAAAAAAAAAAAAAAAAAAAAAAAAAAAAAAAAAAAAAAAAAAAAAAAAAAAAAAAAAAAAAAAAAAAAAAAAAAAAAAAAAAAAAAAAAAAAAAAAAAAAAAAAAAAAAAAAAAAAAAAAAAAAAAAAAAAAAAAAAAAAAAAAAAAAAAAAAAAAAAAAAAAAAAAAAAAAAAAAAAAAAAAAAAAAAAAAAAAAAAAAAAAAAAAAAAAAAAAAAAAAAAAAAAAAAAAAAAAAAAAAAAAAAAAAAAAAAAAAAAAAAAAAAAAAAAAAAAAAAAAAAAAAAAAAAAAAAAAAAAAAAAAAAAAAAAAAAAAAAAAAAAAAAAAAAAAAAAAAAAAAAAAAAAAAAAAAAAAAAAAAAAAAAAAAAAAAAAAAAAAAAAAAAAAAAAAAAAAAAAAAAAAAAAAAAAAAAAAAAAAAAAAAAAAAAAAAAAAAAAAAAAAAAAAAAAAAAAAAAAAAAAAAAAAAAAAAAAAAAAAAAAAAAAAAAAAAAAAAAAAAAAAAAAAAAAAAAAAAAAAAAAAAAAAAAAAAAAAAAAAAAAAAAAAAAAAAAAAAAAAAAAAAAAAAAAAAAAAAAAAAAAAAAAAAAAAAAAAAAAAAAAAAAAAAAAAAAAAAAAAAAAAAAAAAAAAAAAAAAAAAAAAAAAAAAAAAAAAAAAAAAAAAAAAAAAAAAAAAAAAAAAAAAAAAAAAAAAAAAAAAAAAAAAAAAAAAAAAAAAAAAAAAAAAAAAAAAAAAAAAAAAAAAAAAAAAAAAAAAAAAAAAAAAAAAAAAAAAAAAAAAAAAAAAAAAAAAAAAAAAAAAAAAAAAAAAAAAAAAAAAAAAAAAAAAAAAAAAAAAAAAAAAAAAAAAAAAAAAAAAAAAAAAAAAAAAAAAAAAAAAAAAAAAAAAAAAAAAAAAAAAAAAAAAAAAAAAAAAAAAAAAAAAAAAAAAAAAAAAAAAAAAAAAAAAAAAAAAAAAAAAAAAAAAAAAAAAAAAAAAAAAAAAAAAAAAAAAAAAAAAAAAAAAAAAAAAAAAAAAAAAAAAAAAAAAAAAAAAAAAAAAAAAAAAAAAAAAAAAAAAAAAAAAAAAAAAAAAAAAAAAAAAAAAAAAAAAAAAAAAAAAAAAAAAAAAAAAAAAAAAAAAAAAAAAAAAAAAAAAAAAAAAAAAAAAAAAAAAAAAAAAAAAAAAAAAAAAAAAAAAAAAAAAAAAAAAAAAAAAAAAAAAAAAAAAAAAAAAAAAAAAAAAAAAAAAAAAAAAAAAAAAAAAAAAAAAAAAAAAAAAAAAAAAAAAAAAAAAAAAAAAAAAAAAAAAAAAAAAAAAAAAAAAAAAAAAAAAAAAAAAAAAAAAAAAAAAAAAAAAAAAAAAAAAAAAAAAAAAAAAAAAAAAAAAAAAAAAAAAAAAAAAAAAAAAAAAAAAAAAAAAAAAAAAAAAAAAAAAAAAAAAAAAAAAAAAAAAAAAAAAAAAAAAAAAAAAAAAAAAAAAAAAAAAAAAAAAAAAAAAAAAAAAAAAAAAAAAAAAAAAAAAAAAAAAAAAAAAAAAAAAAAAAAAAAAAAAAAAAAAAAAAAAAAAAAAAAAAAAAAAAAAAAAAAAAAAAAAAAAAAAAAAAAAAAAAAAAAAAAAAAAAAAAAAAAAAAAAAAAAAAAAAAAAAAAAAAAAAAAAAAAAAAAAAAAAAAAAAAAAAAAAAAAAAAAAAAAAAAAAAAAAAAAAAAAAAAAAAAAAAAAAAAAAAAAAAAAAAAAAAAAAAAAAAAAAAAAAAAAAAAAAAAAAAAAAAAAAAAAAAAAAAAAAAAAAAAAAAAAAAAAAAAAAAAAAAAAAAAAAAAAAAAAAAAAAAAAAAAAAAAAAAAAAAAAAAAAAAAAAAAAAAAAAAAAAAAAAAAAAAAAAAAAAAAAAAAAAAAAAAAAAAAAAAAAAAAAAAAAAAAAAAAAAAAAAAAAAAAAAAAAAAAAAAAAAAAAAAAAAAAAAAAAAAAAAAAAAAAAAAAAAAAAAAAAAAAAAAAAAAAAAAAAAAAAAAAAAAAAAAAAAAAAAAAAAAAAAAAAAAAAAAAAAAAAAAAAAAAAAAAAAAAAAAAAAAAAAAAAAAAAAAAAAAAAAAAAAAAAAAAAAAAAAAAAAAAAAAAAAAAAAAAAAAAAAAAAAAAAAAAAAAAAAAAAAAAAAAAAAAAAAAAAAAAAAAAAAAAAAAAAAAAAAAAAAAAAAAAAAAAAAAAAAAAAAAAAAAAAAAAAAAAAAAAAAAAAAAAAAAAAAAAAAAAAAAAAAAAAAAAAAAAAAAAAAAAAAAAAAAAAAAAAAAAAAAAAAAAAAAAAAAAAAAAAAAAAAAAAAAAAAAAAAAAAAAAAAAAAAAAAAAAAAAAAAAAAAAAAAAAAAAAAAAAAAAAAAAAAAAAAAAAAAAAAAAAAAAAAAAAAAAAAAAAAAAAAAAAAAAAAAAAAAAAAAAAAAAAAAAAAAAAAAAAAAAAAAAAAAAAAAAAAAAAAAAAAAAAAAAAAAAAAAAAAAAAAAAAAAAAAAAAAAAAAAAAAAAAAAAAAAAAAAAAAAAAAAAAAAAAAAAAAAAAAAAAAAAAAAAAAAAAAAAAAAAAAAAAAAAAAAAAAAAAAAAAAAAAAAAAAAAAAAAAAAAAAAAAAAAAAAAAAAAAAAAAAAAAAAAAAAAAAAAAAAAAAAAAAAAAAAAAAAAAAAAAAAAAAAAAAAAAAAAAAAAAAAAAAAAAAAAAAAAAAAAAAAAAAAAAAAAAAAAAAAAAAAAAAAAAAAAAAAAAAAAAAAAAAAAAAAAAAAAAAAAAAAAAAAAAAAAAAAAAAAAAAAAAAAAAAAAAAAAAAAAAAAAAAAAAAAAAAAAAAAAAAAAAAAAAAAAAAAAAAAAAAAAAAAAAAAAAAAAAAAAAAAAAAAAAAAAAAAAAAAAAAAAAAAAAAAAAAAAAAAAAAAAAAAAAAAAAAAAAAAAAAAAAAAAAAAAAAAAAAAAAAAAAAAAAAAAAAAAAAAAAAAAAAAAAAAAAAAAAAAAAAAAAAAAAAAAAAAAAAAAAAAAAAAAAAAAAAAAAAAAAAAAAAAAAAAAAAAAAAAAAAAAAAAAAAAAAAAAAAAAAAAAAAAAAAAAAAAAAAAAAAAAAAAAAAAAAAAAAAAAAAAAAAAAAAAAAAAAAAAAAAAAAAAAAAAAAAAAAAAAAAAAAAAAAAAAAAAAAAAAAAAAAAAAAAAAAAAAAAAAAAAAAAAAAAAAAAAAAAAAAAAAAAAAAAAAAAAAAAAAAAAAAAAAAAAAAAAAAAAAAAAAAAAAAAAAAAAAAAAAAAAAAAAAAAAAAAAAAAAAAAAAAAAAAAAAAAAAAAAAAAAAAAAAAAAAAAAAAAAAAAAAAAAAAAAAAAAAAAAAAAAAAAAAAAAAAAAAAAAAAAAAAAAAAAAAAAAAAAAAAAAAAAAAAAAAAAAAAAAAAAAAAAAAAAAAAAAAAAAAAAAAAAAAAAAAAAAAAAAAAAAAAAAAAAAAAAAAAAAAAAAAAAAAAAAAAAAAAAAAAAAAAAAAAAAAAAAAAAAAAAAAAAAAAAAAAAAAAAAAAAAAAAAAAAAAAAAAAAAAAAAAAAAAAAAAAAAAAAAAAAAAAAAAAAAAAAAAAAAAAAAAAAAAAAAAAAAAAAAAAAAAAAAAAAAAAAAAAAAAAAAAAAAAAAAAAAAAAAAAAAAAAAAAAAAAAAAAAAAAAAAAAMHAQDvBwMA7wcDAO8HAwDuRkBA8kZAQPMHAQDyRkJA8wcDAPIWEBD2dnBw9tbQ0PeXkZD2dnJw96+rqPcrJST4eHh4/AACAPw==",
          "dtype": "f4"
         },
         "xaxis": "x",
         "y": {
          "bdata": "AAAAAAAAAAAAAAAAAAAAAAAAAAAAAAAAAAAAAAAAAAAAAAAAAAAAAAAAAAAAAAAAAAAAAAAAAAAAAAAAAAAAAAAAAAAAAAAAAAAAAAAAAAAAAAAAAAAAAAAAAAAAAAAAAAAAAAAAAAAAAAAAAAAAAAAAAAAAAAAAAAAAAAAAAAAAAAAAAAAAAAAAAAAAAAAAAAAAAAAAAAAAAAAAAAAAAAAAAAAAAAAAAAAAAAAAAAAAAAAAAAAAAAAAAAAAAAAAAAAAAAAAAAAAAAAAAAAAAAAAAAAAAAAAAAAAAAAAAAAAAAAAAAAAAAAAAAAAAAAAAAAAAAAAAAAAAAAAAAAAAAAAAAAAAAAAAAAAAAAAAAAAAAAAAAAAAAAAAAAAAAAAAAAAAAAAAAAAAAAAAAAAAAAAAAAAAAAAAAAAAAAAAAAAAAAAAAAAAAAAAAAAAAAAAAAAAAAAAAAAAAAAAAAAAAAAAAAAAAAAAAAAAAAAAAAAAAAAAAAAAAAAAAAAAAAAAAAAAAAAAAAAAAAAAAAAAAAAAAAAAAAAAAAAAAAAAAAAAAAAAAAAAAAAAAAAAAAAAAAAAAAAAAAAAAAAAAAAAAAAAAAAAAAAAAAAAAAAAAAAAAAAAAAAAAAAAAAAAAAAAAAAAAAAAAAAAAAAAAAAAAAAAAAAAAAAAAAAAAAAAAAAAAAAAAAAAAAAAAAAAAAAAAAAAAAAAAAAAAAAAAAAAAAAAAAAAAAAAAAAAAAAAAAAAAAAAAAAAAAAAAAAAAAAAAAAAAAAAAAAAAAAAAAAAAAAAAAAAAAAAAAAAAAAAAAAAAAAAAAAAAAAAAAAAAAAAAAAAAAAAAAAAAAAAAAAAAAAAAAAAAAAAAAAAAAAAAAAAAAAAAAAAAAAAAAAAAAAAAAAAAAAAAAAAAAAAAAAAAAAAAAAAAAAAAAAAAAAAAAAAAAAAAAAAAAAAAAAAAAAAAAAAAAAAAAAAAAAAAAAAAAAAAAAAAAAAAAAAAAAAAAAAAAAAAAAAAAAAAAAAAAAAAAAAAAAAAAAAAAAAAAAAAAAAAAAAAAAAAAAAAAAAAAAAAAAAAAAAAAAAAAAAAAAAAAAAAAAAAAAAAAAAAAAAAAAAAAAAAAAAAAAAAAAAAAAAAAAAAAAAAAAAAAAAAAAAAAAAAAAAAAAAAAAAAAAAAAAAAAAAAAAAAAAAAAAAAAAAAAAAAAAAAAAAAAAAAAAAAAAAAAAAAAAAAAAAAAAAAAAAAAAAAAAAAAAAAAAAAAAAAAAAAAAAAAAAAAAAAAAAAAAAAAAAAAAAAAAAAAAAAAAAAAAAAAAAAAAAAAAAAAAAAAAAAAAAAAAAAAAAAAAAAAAAAAAAAAAAAAAAAAAAAAAAAAAAAAAAAAAAAAAAAAAAAAAAAAAAAAAAAAAAAAAAAAAAAAAAAAAAAAAAAAAAAAAAAAAAAAAAAAAAAAAAAAAAAAAAAAAAAAAAAAAAAAAAAAAAAAAAAAAAAAAAAAAAAAAAAAAAAAAAAAAAAAAAAAAAAAAAAAAAAAAAAAAAAAAAAAAAAAAAAAAAAAAAAAAAAAAAAAAAAAAAAAAAAAAAAAAAAAAAAAAAAAAAAAAAAAAAAAAAAAAAAAAAAAAAAAAAAAAAAAAAAAAAAAAAAAAAAAAAAAAAAAAAAAAAAAAAAAAAAAAAAAAAAAAAAAAAAAAAAAAAAAAAAAAAAAAAAAAAAAAAAAAAAAAAAAAAAAAAAAAAAAAAAAAAAAAAAAAAAAAAAAAAAAAAAAAAAAAAAAAAAAAAAAAAAAAAAAAAAAAAAAAAAAAAAAAAAAAAAAAAAAAAAAAAAAAAAAAAAAAAAAAAAAAAAAAAAAAAAAAAAAAAAAAAAAAAAAAAAAAAAAAAAAAAAAAAAAAAAAAAAAAAAAAAAAAAAAAAAAAAAAAAAAAAAAAAAAAAAAAAAAAAAAAAAAAAAAAAAAAAAAAAAAAAAAAAAAAAAAAAAAAAAAAAAAAAAAAAAAAAAAAAAAAAAAAAAAAAAAAAAAAAAAAAAAAAAAAAAAAAAAAAAAAAAAAAAAAAAAAAAAAAAAAAAAAAAAAAAAAAAAAAAAAAAAAAAAAAAAAAAAAAAAAAAAAAAAAAAAAAAAAAAAAAAAAAAAAAAAAAAAAAAAAAAAAAAAAAAAAAAAAAAAAAAAAAAAAAAAAAAAAAAAAAAAAAAAAAAAAAAAAAAAAAAAAAAAAAAAAAAAAAAAAAAAAAAAAAAAAAAAAAAAAAAAAAAAAAAAAAAAAAAAAAAAAAAAAAAAAAAAAAAAAAAAAAAAAAAAAAAAAAAAAAAAAAAAAAAAAAAAAAAAAAAAAAAAAAAAAAAAAAAAAAAAAAAAAAAAAAAAAAAAAAAAAAAAAAAAAAAAAAAAAAAAAAAAAAAAAAAAAAAAAAAAAAAAAAAAAAAAAAAAAAAAAAAAAAAAAAAAAAAAAAAAAAAAAAAAAAAAAAAAAAAAAAAAAAAAAAAAAAAAAAAAAAAAAAAAAAAAAAAAAAAAAAAAAAAAAAAAAAAAAAAAAAAAAAAAAAAAAAAAAAAAAAAAAAAAAAAAAAAAAAAAAAAAAAAAAAAAAAAAAAAAAAAAAAAAAAAAAAAAAAAAAAAAAAAAAAAAAAAAAAAAAAAAAAAAAAAAAAAAAAAAAAAAAAAAAAAAAAAAAAAAAAAAAAAAAAAAAAAAAAAAAAAAAAAAAAAAAAAAAAAAAAAAAAAAAAAAAAAAAAAAAAAAAAAAAAAAAAAAAAAAAAAAAAAAAAAAAAAAAAAAAAAAAAAAAAAAAAAAAAAAAAAAAAAAAAAAAAAAAAAAAAAAAAAAAAAAAAAAAAAAAAAAAAAAAAAAAAAAAAAAAAAAAAAAAAAAAAAAAAAAAAAAAAAAAAAAAAAAAAAAAAAAAAAAAAAAAAAAAAAAAAAAAAAAAAAAAAAAAAAAAAAAAAAAAAAAAAAAAAAAAAAAAAAAAAAAAAAAAAAAAAAAAAAAAAAAAAAAAAAAAAAAAAAAAAAAAAAAAAAAAAAAAAAAAAAAAAAAAAAAAAAAAAAAAAAAAAAAAAAAAAAAAAAAAAAAAAAAAAAAAAAAAAAAAAAAAAAAAAAAAAAAAAAAAAAAAAAAAAAAAAAAAAAAAAAAAAAAAAAAAAAAAAAAAAAAAAAAAAAAAAAAAAAAAAAAAAAAAAAAAAAAAAAAAAAAAAAAAAAAAAAAAAAAAAAAAAAAAAAAAAAAAAAAAAAAAAAAAAAAAAAAAAAAAAAAAAAAAAAAAAAAAAAAAAAAAAAAAAAAAAAAAAAAAAAAAAAAAAAAAAAAAAAAAAAAAAAAAAAAAAAAAAAAAAAAAAAAAAAAAAAAAAAAAAAAAAAAAAAAAAAAAAAAAAAAAAAAAAAAAAAAAAAAAAAAAAAAAAAAAAAAAAAAAAAAAAAAAAAAAAAAAAAAAAAAAAAAAAAAAAAAAAAAAAAAAAAAAAAAAAAAAAAAAAAAAAAAAAAAAAAAAAAAAAAAAAAAAAAAAAAAAAAAAAAAAAAAAAAAAAAAAAAAAAAAAAAAAAAAAAAAAAAAAAAAAAAAAAAAAAAAAAAAAAAAAAAAAAAAAAAAAAAAAAAAAAAAAAAAAAAAAAAAAAAAAAAAAAAAAAAAAAAAAAAAAAAAAAAAAAAAAAAAAAAAAAAAAAAAAAAAAAAAAAAAAAAAAAAAAAAAAAAAAAAAAAAAAAAAAAAAAAAAAAAAAAAAAAAAAAAAAAAAAAAAAAAAAAAAAAAAAAAAAAAAAAAAAAAAAAAAAAAAAAAAAAAAAAAAAAAAAAAAAAAAAAAAAAAAAAAAAAAAAAAAAAAAAAAAAAAAAAAAAAAAAAAAAAAAAAAAAAAAAAAAAAAAAAAAAAAAAAAAAAAAAAAAAAAAAAAAAAAAAAAAAAAAAAAAAAAAAAAAAAAAAAAAAAAAAAAAAAAAAAAAAAAAAAAAAAAAAAAAAAAAAAAAAAAAAAAAAAAAAAAAAAAAAAAAAAAAAAAAAAAAAAAAAAAAAAAAAAAAAAAAAAAAAAAAAAAAAAAAAAAAAAAAAAAAAAAAAAAAAAAAAAAAAAAAAAAAAAAAAAAAAAAAAAAAAAAAAAAAAAAAAAAAAAAAAAAAAAAAAAAAAAAAAAAAAAAAAAAAAAAAAAAAAAAAAAAAAAAAAAAAAAAAAAAAAAAAAAAAAAAAAAAAAAAAAAAAAAAAAAAAAAAAAAAAAAAAAAAAAAAAAAAAAAAAAAAAAAAAAAAAAAAAAAAAAAAAAAAAAAAAAAAAAAAAAAAAAAAAAAAAAAAAAAAAAAAAAAAAAAAAAAAAAAAAAAAAAAAAAAAAAAAAAAAAAAAAAAAAAAAAAAAAAAAAAAAAAAAAAAAAAAAAAAAAAAAAAAAAAAAAAAAAAAAAAAAAAAAAAAAAAAAAAAAAAAAAAAAAAAAAAAAAAAAAAAAAAAAAAAAAAAAAAAAAAAAAAAAAAAAAAAAAAAAAAAAAAAAAAAAAAAAAAAAAAAAAAAAAAAAAAAAAAAAAAAAAAAAAAAAAAAAAAAAAAAAAAAAAAAAAAAAAAAAAAAAAAAAAAAAAAAAAAAAAAAAAAAAAAAAAAAAAAAAAAAAAAAAAAAAAAAAAAAAAAAAAAAAAAAAAAAAAAAAAAAAAAAAAAAAAAAAAAAAAAAAAAAAAAAAAAAAAAAAAAAAAAAAAAAAAAAAAAAAAAAAAAAAAAAAAAAAAAAAAAAAAAAAAAAAAAAAAAAAAAAAAAAAAAAAAAAAAAAAAAAAAAAAAAAADV3qQ61d6kOtXepDrV3qQ61d6kOtXepDrV3qQ61d4kO9XeJDvV3iQ71d4kO9XeJDtATnc7QE53O9XepDvV3qQ7ihbOO0BO9ztATvc7QE73O0BO9ztATvc7+0IQPPtCEDzV3iQ81d4kPNXeJDzV3iQ81d4kPNXeJDyKFk48ZbJiPA31hTwN9YU8DfWFPPtCkDz7QpA86JCaPOiQmjzCLK88wiyvPLB6uTydyMM8eGTYPFIA7TxSAO08QE73PEBO9zxATvc8F84APRfOAD37QhA937cfPcwFKj25UzQ9sHo5PaahPj2dyEM9nchDPYE9Uz1c2Wc9kmGDPQQciz1/r409YySdPVFypz1Hmaw9PsCxPbB6uT0rDrw9GFzGPYE90z380NU9ZbLiPc6T7z3EuvQ9u+H5PRfOAD7LPgc+wmUMPvFpFT7ftx8+iU8rPoB2MD405zY+ZOs/Pg+DSz54ZFg+p2hhPgdxcz70vn0+kmGDPj35jj4hbp4+DryoPrlTtD5DkMA+UTnKPlcJ2T47fug+3Dz5PpJhAz9/rw0/ghcVP6baGz9mjCQ/dDUuP5tgPD8YXEY/uhpXP4l1aT+74Xk/AACAPw==",
          "dtype": "f4"
         },
         "yaxis": "y"
        }
       ],
       "layout": {
        "annotations": [
         {
          "align": "center",
          "bgcolor": "#636EFA",
          "font": {
           "color": "#ffffff",
           "size": 16
          },
          "opacity": 1,
          "showarrow": false,
          "text": "AUROC=0.931",
          "x": 0.6,
          "y": 0.4
         }
        ],
        "height": 600,
        "legend": {
         "tracegroupgap": 0
        },
        "margin": {
         "b": 20,
         "l": 20,
         "r": 20,
         "t": 20
        },
        "shapes": [
         {
          "line": {
           "dash": "dash"
          },
          "type": "line",
          "x0": 0,
          "x1": 1,
          "y0": 0,
          "y1": 1
         }
        ],
        "showlegend": false,
        "template": {
         "data": {
          "bar": [
           {
            "error_x": {
             "color": "#2a3f5f"
            },
            "error_y": {
             "color": "#2a3f5f"
            },
            "marker": {
             "line": {
              "color": "#E5ECF6",
              "width": 0.5
             },
             "pattern": {
              "fillmode": "overlay",
              "size": 10,
              "solidity": 0.2
             }
            },
            "type": "bar"
           }
          ],
          "barpolar": [
           {
            "marker": {
             "line": {
              "color": "#E5ECF6",
              "width": 0.5
             },
             "pattern": {
              "fillmode": "overlay",
              "size": 10,
              "solidity": 0.2
             }
            },
            "type": "barpolar"
           }
          ],
          "carpet": [
           {
            "aaxis": {
             "endlinecolor": "#2a3f5f",
             "gridcolor": "white",
             "linecolor": "white",
             "minorgridcolor": "white",
             "startlinecolor": "#2a3f5f"
            },
            "baxis": {
             "endlinecolor": "#2a3f5f",
             "gridcolor": "white",
             "linecolor": "white",
             "minorgridcolor": "white",
             "startlinecolor": "#2a3f5f"
            },
            "type": "carpet"
           }
          ],
          "choropleth": [
           {
            "colorbar": {
             "outlinewidth": 0,
             "ticks": ""
            },
            "type": "choropleth"
           }
          ],
          "contour": [
           {
            "colorbar": {
             "outlinewidth": 0,
             "ticks": ""
            },
            "colorscale": [
             [
              0,
              "#0d0887"
             ],
             [
              0.1111111111111111,
              "#46039f"
             ],
             [
              0.2222222222222222,
              "#7201a8"
             ],
             [
              0.3333333333333333,
              "#9c179e"
             ],
             [
              0.4444444444444444,
              "#bd3786"
             ],
             [
              0.5555555555555556,
              "#d8576b"
             ],
             [
              0.6666666666666666,
              "#ed7953"
             ],
             [
              0.7777777777777778,
              "#fb9f3a"
             ],
             [
              0.8888888888888888,
              "#fdca26"
             ],
             [
              1,
              "#f0f921"
             ]
            ],
            "type": "contour"
           }
          ],
          "contourcarpet": [
           {
            "colorbar": {
             "outlinewidth": 0,
             "ticks": ""
            },
            "type": "contourcarpet"
           }
          ],
          "heatmap": [
           {
            "colorbar": {
             "outlinewidth": 0,
             "ticks": ""
            },
            "colorscale": [
             [
              0,
              "#0d0887"
             ],
             [
              0.1111111111111111,
              "#46039f"
             ],
             [
              0.2222222222222222,
              "#7201a8"
             ],
             [
              0.3333333333333333,
              "#9c179e"
             ],
             [
              0.4444444444444444,
              "#bd3786"
             ],
             [
              0.5555555555555556,
              "#d8576b"
             ],
             [
              0.6666666666666666,
              "#ed7953"
             ],
             [
              0.7777777777777778,
              "#fb9f3a"
             ],
             [
              0.8888888888888888,
              "#fdca26"
             ],
             [
              1,
              "#f0f921"
             ]
            ],
            "type": "heatmap"
           }
          ],
          "histogram": [
           {
            "marker": {
             "pattern": {
              "fillmode": "overlay",
              "size": 10,
              "solidity": 0.2
             }
            },
            "type": "histogram"
           }
          ],
          "histogram2d": [
           {
            "colorbar": {
             "outlinewidth": 0,
             "ticks": ""
            },
            "colorscale": [
             [
              0,
              "#0d0887"
             ],
             [
              0.1111111111111111,
              "#46039f"
             ],
             [
              0.2222222222222222,
              "#7201a8"
             ],
             [
              0.3333333333333333,
              "#9c179e"
             ],
             [
              0.4444444444444444,
              "#bd3786"
             ],
             [
              0.5555555555555556,
              "#d8576b"
             ],
             [
              0.6666666666666666,
              "#ed7953"
             ],
             [
              0.7777777777777778,
              "#fb9f3a"
             ],
             [
              0.8888888888888888,
              "#fdca26"
             ],
             [
              1,
              "#f0f921"
             ]
            ],
            "type": "histogram2d"
           }
          ],
          "histogram2dcontour": [
           {
            "colorbar": {
             "outlinewidth": 0,
             "ticks": ""
            },
            "colorscale": [
             [
              0,
              "#0d0887"
             ],
             [
              0.1111111111111111,
              "#46039f"
             ],
             [
              0.2222222222222222,
              "#7201a8"
             ],
             [
              0.3333333333333333,
              "#9c179e"
             ],
             [
              0.4444444444444444,
              "#bd3786"
             ],
             [
              0.5555555555555556,
              "#d8576b"
             ],
             [
              0.6666666666666666,
              "#ed7953"
             ],
             [
              0.7777777777777778,
              "#fb9f3a"
             ],
             [
              0.8888888888888888,
              "#fdca26"
             ],
             [
              1,
              "#f0f921"
             ]
            ],
            "type": "histogram2dcontour"
           }
          ],
          "mesh3d": [
           {
            "colorbar": {
             "outlinewidth": 0,
             "ticks": ""
            },
            "type": "mesh3d"
           }
          ],
          "parcoords": [
           {
            "line": {
             "colorbar": {
              "outlinewidth": 0,
              "ticks": ""
             }
            },
            "type": "parcoords"
           }
          ],
          "pie": [
           {
            "automargin": true,
            "type": "pie"
           }
          ],
          "scatter": [
           {
            "fillpattern": {
             "fillmode": "overlay",
             "size": 10,
             "solidity": 0.2
            },
            "type": "scatter"
           }
          ],
          "scatter3d": [
           {
            "line": {
             "colorbar": {
              "outlinewidth": 0,
              "ticks": ""
             }
            },
            "marker": {
             "colorbar": {
              "outlinewidth": 0,
              "ticks": ""
             }
            },
            "type": "scatter3d"
           }
          ],
          "scattercarpet": [
           {
            "marker": {
             "colorbar": {
              "outlinewidth": 0,
              "ticks": ""
             }
            },
            "type": "scattercarpet"
           }
          ],
          "scattergeo": [
           {
            "marker": {
             "colorbar": {
              "outlinewidth": 0,
              "ticks": ""
             }
            },
            "type": "scattergeo"
           }
          ],
          "scattergl": [
           {
            "marker": {
             "colorbar": {
              "outlinewidth": 0,
              "ticks": ""
             }
            },
            "type": "scattergl"
           }
          ],
          "scattermap": [
           {
            "marker": {
             "colorbar": {
              "outlinewidth": 0,
              "ticks": ""
             }
            },
            "type": "scattermap"
           }
          ],
          "scattermapbox": [
           {
            "marker": {
             "colorbar": {
              "outlinewidth": 0,
              "ticks": ""
             }
            },
            "type": "scattermapbox"
           }
          ],
          "scatterpolar": [
           {
            "marker": {
             "colorbar": {
              "outlinewidth": 0,
              "ticks": ""
             }
            },
            "type": "scatterpolar"
           }
          ],
          "scatterpolargl": [
           {
            "marker": {
             "colorbar": {
              "outlinewidth": 0,
              "ticks": ""
             }
            },
            "type": "scatterpolargl"
           }
          ],
          "scatterternary": [
           {
            "marker": {
             "colorbar": {
              "outlinewidth": 0,
              "ticks": ""
             }
            },
            "type": "scatterternary"
           }
          ],
          "surface": [
           {
            "colorbar": {
             "outlinewidth": 0,
             "ticks": ""
            },
            "colorscale": [
             [
              0,
              "#0d0887"
             ],
             [
              0.1111111111111111,
              "#46039f"
             ],
             [
              0.2222222222222222,
              "#7201a8"
             ],
             [
              0.3333333333333333,
              "#9c179e"
             ],
             [
              0.4444444444444444,
              "#bd3786"
             ],
             [
              0.5555555555555556,
              "#d8576b"
             ],
             [
              0.6666666666666666,
              "#ed7953"
             ],
             [
              0.7777777777777778,
              "#fb9f3a"
             ],
             [
              0.8888888888888888,
              "#fdca26"
             ],
             [
              1,
              "#f0f921"
             ]
            ],
            "type": "surface"
           }
          ],
          "table": [
           {
            "cells": {
             "fill": {
              "color": "#EBF0F8"
             },
             "line": {
              "color": "white"
             }
            },
            "header": {
             "fill": {
              "color": "#C8D4E3"
             },
             "line": {
              "color": "white"
             }
            },
            "type": "table"
           }
          ]
         },
         "layout": {
          "annotationdefaults": {
           "arrowcolor": "#2a3f5f",
           "arrowhead": 0,
           "arrowwidth": 1
          },
          "autotypenumbers": "strict",
          "coloraxis": {
           "colorbar": {
            "outlinewidth": 0,
            "ticks": ""
           }
          },
          "colorscale": {
           "diverging": [
            [
             0,
             "#8e0152"
            ],
            [
             0.1,
             "#c51b7d"
            ],
            [
             0.2,
             "#de77ae"
            ],
            [
             0.3,
             "#f1b6da"
            ],
            [
             0.4,
             "#fde0ef"
            ],
            [
             0.5,
             "#f7f7f7"
            ],
            [
             0.6,
             "#e6f5d0"
            ],
            [
             0.7,
             "#b8e186"
            ],
            [
             0.8,
             "#7fbc41"
            ],
            [
             0.9,
             "#4d9221"
            ],
            [
             1,
             "#276419"
            ]
           ],
           "sequential": [
            [
             0,
             "#0d0887"
            ],
            [
             0.1111111111111111,
             "#46039f"
            ],
            [
             0.2222222222222222,
             "#7201a8"
            ],
            [
             0.3333333333333333,
             "#9c179e"
            ],
            [
             0.4444444444444444,
             "#bd3786"
            ],
            [
             0.5555555555555556,
             "#d8576b"
            ],
            [
             0.6666666666666666,
             "#ed7953"
            ],
            [
             0.7777777777777778,
             "#fb9f3a"
            ],
            [
             0.8888888888888888,
             "#fdca26"
            ],
            [
             1,
             "#f0f921"
            ]
           ],
           "sequentialminus": [
            [
             0,
             "#0d0887"
            ],
            [
             0.1111111111111111,
             "#46039f"
            ],
            [
             0.2222222222222222,
             "#7201a8"
            ],
            [
             0.3333333333333333,
             "#9c179e"
            ],
            [
             0.4444444444444444,
             "#bd3786"
            ],
            [
             0.5555555555555556,
             "#d8576b"
            ],
            [
             0.6666666666666666,
             "#ed7953"
            ],
            [
             0.7777777777777778,
             "#fb9f3a"
            ],
            [
             0.8888888888888888,
             "#fdca26"
            ],
            [
             1,
             "#f0f921"
            ]
           ]
          },
          "colorway": [
           "#636efa",
           "#EF553B",
           "#00cc96",
           "#ab63fa",
           "#FFA15A",
           "#19d3f3",
           "#FF6692",
           "#B6E880",
           "#FF97FF",
           "#FECB52"
          ],
          "font": {
           "color": "#2a3f5f"
          },
          "geo": {
           "bgcolor": "white",
           "lakecolor": "white",
           "landcolor": "#E5ECF6",
           "showlakes": true,
           "showland": true,
           "subunitcolor": "white"
          },
          "hoverlabel": {
           "align": "left"
          },
          "hovermode": "closest",
          "mapbox": {
           "style": "light"
          },
          "paper_bgcolor": "white",
          "plot_bgcolor": "#E5ECF6",
          "polar": {
           "angularaxis": {
            "gridcolor": "white",
            "linecolor": "white",
            "ticks": ""
           },
           "bgcolor": "#E5ECF6",
           "radialaxis": {
            "gridcolor": "white",
            "linecolor": "white",
            "ticks": ""
           }
          },
          "scene": {
           "xaxis": {
            "backgroundcolor": "#E5ECF6",
            "gridcolor": "white",
            "gridwidth": 2,
            "linecolor": "white",
            "showbackground": true,
            "ticks": "",
            "zerolinecolor": "white"
           },
           "yaxis": {
            "backgroundcolor": "#E5ECF6",
            "gridcolor": "white",
            "gridwidth": 2,
            "linecolor": "white",
            "showbackground": true,
            "ticks": "",
            "zerolinecolor": "white"
           },
           "zaxis": {
            "backgroundcolor": "#E5ECF6",
            "gridcolor": "white",
            "gridwidth": 2,
            "linecolor": "white",
            "showbackground": true,
            "ticks": "",
            "zerolinecolor": "white"
           }
          },
          "shapedefaults": {
           "line": {
            "color": "#2a3f5f"
           }
          },
          "ternary": {
           "aaxis": {
            "gridcolor": "white",
            "linecolor": "white",
            "ticks": ""
           },
           "baxis": {
            "gridcolor": "white",
            "linecolor": "white",
            "ticks": ""
           },
           "bgcolor": "#E5ECF6",
           "caxis": {
            "gridcolor": "white",
            "linecolor": "white",
            "ticks": ""
           }
          },
          "title": {
           "x": 0.05
          },
          "xaxis": {
           "automargin": true,
           "gridcolor": "white",
           "linecolor": "white",
           "ticks": "",
           "title": {
            "standoff": 15
           },
           "zerolinecolor": "white",
           "zerolinewidth": 2
          },
          "yaxis": {
           "automargin": true,
           "gridcolor": "white",
           "linecolor": "white",
           "ticks": "",
           "title": {
            "standoff": 15
           },
           "zerolinecolor": "white",
           "zerolinewidth": 2
          }
         }
        },
        "title": {
         "font": {
          "size": 30
         }
        },
        "width": 600,
        "xaxis": {
         "anchor": "y",
         "domain": [
          0,
          1
         ],
         "tickfont": {
          "size": 15
         },
         "title": {
          "font": {
           "size": 20
          },
          "text": "False Positive Rate"
         }
        },
        "yaxis": {
         "anchor": "x",
         "domain": [
          0,
          1
         ],
         "range": [
          0,
          1
         ],
         "tickfont": {
          "size": 15
         },
         "title": {
          "font": {
           "size": 20
          },
          "text": "True Positive Rate"
         }
        }
       }
      }
     },
     "metadata": {},
     "output_type": "display_data"
    }
   ],
   "source": [
    "roc = BinaryROC(thresholds=1000)\n",
    "rocs = roc(preds, target)\n",
    "fig = px.area(\n",
    "    x=rocs[0],\n",
    "    y=rocs[1],\n",
    "    labels={\"x\": \"False Positive Rate\", \"y\": \"True Positive Rate\"},\n",
    "    width=600,\n",
    "    height=600,\n",
    "    # title=f\"ROC Curve (AUROC = {auc:.3f})\",\n",
    ")\n",
    "fig.update_layout(\n",
    "    yaxis_range=[0, 1],\n",
    "    margin=dict(l=20, r=20, t=20, b=20),\n",
    "    showlegend=False,\n",
    "    title=dict(font=dict(size=30)),\n",
    "    yaxis=dict(tickfont=dict(size=15), title_font=dict(size=20)),\n",
    "    xaxis=dict(tickfont=dict(size=15), title_font=dict(size=20)),\n",
    ")\n",
    "fig.add_annotation(\n",
    "    x=0.6,\n",
    "    y=0.4,\n",
    "    showarrow=False,\n",
    "    # xref=\"x\",\n",
    "    # yref=\"y\",\n",
    "    text=f\"AUROC={auc:.3f}\",\n",
    "    font=dict(\n",
    "        # family=\"Courier New, monospace\",\n",
    "        size=16,\n",
    "        color=\"#ffffff\",\n",
    "    ),\n",
    "    align=\"center\",\n",
    "    bgcolor=\"#636EFA\",\n",
    "    opacity=1,\n",
    ")\n",
    "fig.add_shape(type=\"line\", line=dict(dash=\"dash\"), x0=0, x1=1, y0=0, y1=1)\n",
    "fig.write_image(\"../images/roc_curve.pdf\")\n",
    "fig.write_image(\"../images/roc_curve.png\")\n",
    "fig.show()"
   ]
  },
  {
   "cell_type": "markdown",
   "id": "fe5b2dec",
   "metadata": {},
   "source": [
    "# F1-Score and Accuracy"
   ]
  },
  {
   "cell_type": "code",
   "execution_count": 141,
   "id": "9882a87b",
   "metadata": {},
   "outputs": [],
   "source": [
    "def calculate_f1(preds, target, thresh):\n",
    "    f1_scorer = BinaryF1Score(thresh.item())\n",
    "    f1_score = f1_scorer(preds, target).item()\n",
    "    print(f\"The f1-Score is {f1_score:.3f} for a threshold of {thresh:.5f}.\")\n",
    "    return f1_score"
   ]
  },
  {
   "cell_type": "code",
   "execution_count": 142,
   "id": "8bfb736f",
   "metadata": {},
   "outputs": [],
   "source": [
    "def calculate_accuracy(preds, target, thresh):\n",
    "    accuracy_scorer = BinaryAccuracy(thresh.item())\n",
    "    accuracy_score = accuracy_scorer(preds, target).item()\n",
    "    print(f\"The Accuracy is {accuracy_score:.3f} for a threshold of {thresh:.5f}.\")\n",
    "    return accuracy_score"
   ]
  },
  {
   "cell_type": "code",
   "execution_count": 143,
   "id": "b2f41545",
   "metadata": {},
   "outputs": [],
   "source": [
    "def calculate_precision(preds, target, thresh):\n",
    "    accuracy_scorer = BinaryPrecision(thresh.item())\n",
    "    accuracy_score = accuracy_scorer(preds, target).item()\n",
    "    print(f\"The Precision is {accuracy_score:.3f} for a threshold of {thresh:.5f}.\")\n",
    "    return accuracy_score"
   ]
  },
  {
   "cell_type": "code",
   "execution_count": 144,
   "id": "33f823cf",
   "metadata": {},
   "outputs": [],
   "source": [
    "def calculate_recall(preds, target, thresh):\n",
    "    accuracy_scorer = BinaryRecall(thresh.item())\n",
    "    accuracy_score = accuracy_scorer(preds, target).item()\n",
    "    print(f\"The Recall is {accuracy_score:.3f} for a threshold of {thresh:.5f}.\")\n",
    "    return accuracy_score"
   ]
  },
  {
   "cell_type": "code",
   "execution_count": 145,
   "id": "458dd305",
   "metadata": {},
   "outputs": [
    {
     "name": "stdout",
     "output_type": "stream",
     "text": [
      "The f1-Score is 0.915 for a threshold of 0.00232.\n",
      "The Accuracy is 0.883 for a threshold of 0.00232.\n",
      "The Precision is 0.934 for a threshold of 0.00232.\n",
      "The Recall is 0.896 for a threshold of 0.00232.\n",
      "\n",
      "The f1-Score is 0.881 for a threshold of 0.00345.\n",
      "The Accuracy is 0.846 for a threshold of 0.00345.\n",
      "The Precision is 0.956 for a threshold of 0.00345.\n",
      "The Recall is 0.818 for a threshold of 0.00345.\n",
      "\n",
      "The f1-Score is 0.787 for a threshold of 0.00653.\n",
      "The Accuracy is 0.750 for a threshold of 0.00653.\n",
      "The Precision is 0.972 for a threshold of 0.00653.\n",
      "The Recall is 0.662 for a threshold of 0.00653.\n",
      "\n",
      "The f1-Score is 0.730 for a threshold of 0.00913.\n",
      "The Accuracy is 0.700 for a threshold of 0.00913.\n",
      "The Precision is 0.985 for a threshold of 0.00913.\n",
      "The Recall is 0.580 for a threshold of 0.00913.\n",
      "\n",
      "The f1-Score is 0.715 for a threshold of 0.00975.\n",
      "The Accuracy is 0.687 for a threshold of 0.00975.\n",
      "The Precision is 0.987 for a threshold of 0.00975.\n",
      "The Recall is 0.561 for a threshold of 0.00975.\n",
      "\n"
     ]
    }
   ],
   "source": [
    "for thresh in [threshold_80_q, threshold_90_q, threshold_95_q, threshold_99_q, threshold_max]:\n",
    "    calculate_f1(preds, target, thresh)\n",
    "    calculate_accuracy(preds, target, thresh)\n",
    "    calculate_precision(preds, target, thresh)\n",
    "    calculate_recall(preds, target, thresh)\n",
    "    print()"
   ]
  },
  {
   "cell_type": "code",
   "execution_count": 146,
   "id": "cf5a98aa",
   "metadata": {},
   "outputs": [
    {
     "name": "stdout",
     "output_type": "stream",
     "text": [
      "The f1-Score is 0.825 for a threshold of 0.00032.\n",
      "The Accuracy is 0.702 for a threshold of 0.00032.\n",
      "The Precision is 0.702 for a threshold of 0.00032.\n",
      "The Recall is 1.000 for a threshold of 0.00032.\n",
      "The f1-Score is 0.839 for a threshold of 0.00057.\n",
      "The Accuracy is 0.731 for a threshold of 0.00057.\n",
      "The Precision is 0.724 for a threshold of 0.00057.\n",
      "The Recall is 0.997 for a threshold of 0.00057.\n",
      "The f1-Score is 0.852 for a threshold of 0.00077.\n",
      "The Accuracy is 0.760 for a threshold of 0.00077.\n",
      "The Precision is 0.749 for a threshold of 0.00077.\n",
      "The Recall is 0.989 for a threshold of 0.00077.\n",
      "The f1-Score is 0.862 for a threshold of 0.00090.\n",
      "The Accuracy is 0.780 for a threshold of 0.00090.\n",
      "The Precision is 0.768 for a threshold of 0.00090.\n",
      "The Recall is 0.981 for a threshold of 0.00090.\n",
      "The f1-Score is 0.872 for a threshold of 0.00101.\n",
      "The Accuracy is 0.799 for a threshold of 0.00101.\n",
      "The Precision is 0.788 for a threshold of 0.00101.\n",
      "The Recall is 0.976 for a threshold of 0.00101.\n",
      "The f1-Score is 0.884 for a threshold of 0.00121.\n",
      "The Accuracy is 0.823 for a threshold of 0.00121.\n",
      "The Precision is 0.816 for a threshold of 0.00121.\n",
      "The Recall is 0.965 for a threshold of 0.00121.\n",
      "The f1-Score is 0.898 for a threshold of 0.00142.\n",
      "The Accuracy is 0.848 for a threshold of 0.00142.\n",
      "The Precision is 0.850 for a threshold of 0.00142.\n",
      "The Recall is 0.952 for a threshold of 0.00142.\n",
      "The f1-Score is 0.906 for a threshold of 0.00171.\n",
      "The Accuracy is 0.866 for a threshold of 0.00171.\n",
      "The Precision is 0.889 for a threshold of 0.00171.\n",
      "The Recall is 0.925 for a threshold of 0.00171.\n",
      "The f1-Score is 0.915 for a threshold of 0.00232.\n",
      "The Accuracy is 0.883 for a threshold of 0.00232.\n",
      "The Precision is 0.934 for a threshold of 0.00232.\n",
      "The Recall is 0.896 for a threshold of 0.00232.\n",
      "The f1-Score is 0.881 for a threshold of 0.00345.\n",
      "The Accuracy is 0.846 for a threshold of 0.00345.\n",
      "The Precision is 0.956 for a threshold of 0.00345.\n",
      "The Recall is 0.818 for a threshold of 0.00345.\n",
      "The f1-Score is 0.787 for a threshold of 0.00653.\n",
      "The Accuracy is 0.750 for a threshold of 0.00653.\n",
      "The Precision is 0.972 for a threshold of 0.00653.\n",
      "The Recall is 0.662 for a threshold of 0.00653.\n",
      "The f1-Score is 0.730 for a threshold of 0.00913.\n",
      "The Accuracy is 0.700 for a threshold of 0.00913.\n",
      "The Precision is 0.985 for a threshold of 0.00913.\n",
      "The Recall is 0.580 for a threshold of 0.00913.\n"
     ]
    }
   ],
   "source": [
    "metric_results = []\n",
    "\n",
    "for quantile in [0, 10, 20, 30, 40, 50, 60, 70, 80, 90, 95, 99]:\n",
    "    thresh = np.quantile(all_errors, quantile / 100)\n",
    "    f1 = calculate_f1(preds, target, thresh)\n",
    "    metric_results.append(\n",
    "        {\n",
    "            \"Quantil\": quantile,\n",
    "            \"Schwellwert\": thresh,\n",
    "            \"Metrik\": \"F1-Score\",\n",
    "            \"Wert\": f1,\n",
    "        }\n",
    "    )\n",
    "    accuracy = calculate_accuracy(preds, target, thresh)\n",
    "    metric_results.append(\n",
    "        {\n",
    "            \"Quantil\": quantile,\n",
    "            \"Schwellwert\": thresh,\n",
    "            \"Metrik\": \"Accuracy\",\n",
    "            \"Wert\": accuracy,\n",
    "        }\n",
    "    )\n",
    "    precision = calculate_precision(preds, target, thresh)\n",
    "    metric_results.append(\n",
    "        {\n",
    "            \"Quantil\": quantile,\n",
    "            \"Schwellwert\": thresh,\n",
    "            \"Metrik\": \"Precision\",\n",
    "            \"Wert\": precision,\n",
    "        }\n",
    "    )\n",
    "    recall = calculate_recall(preds, target, thresh)\n",
    "    metric_results.append(\n",
    "        {\n",
    "            \"Quantil\": quantile,\n",
    "            \"Schwellwert\": thresh,\n",
    "            \"Metrik\": \"Recall\",\n",
    "            \"Wert\": recall,\n",
    "        }\n",
    "    )\n",
    "\n",
    "metric_results_df = pd.DataFrame(metric_results)"
   ]
  },
  {
   "cell_type": "code",
   "execution_count": 147,
   "id": "ec1cc95e",
   "metadata": {},
   "outputs": [
    {
     "data": {
      "application/vnd.plotly.v1+json": {
       "config": {
        "plotlyServerURL": "https://plot.ly"
       },
       "data": [
        {
         "hovertemplate": "Metrik=F1-Score<br>Quantil=%{x}<br>Wert=%{y}<extra></extra>",
         "legendgroup": "F1-Score",
         "line": {
          "color": "#636efa",
          "dash": "solid"
         },
         "marker": {
          "symbol": "circle"
         },
         "mode": "lines+markers",
         "name": "F1-Score",
         "orientation": "v",
         "showlegend": true,
         "type": "scatter",
         "x": {
          "bdata": "AAoUHigyPEZQWl9j",
          "dtype": "i1"
         },
         "xaxis": "x",
         "y": {
          "bdata": "AAAAwNlj6j8AAACgtdbqPwAAAMCiR+s/AAAAIIKU6z8AAAAAsObrPwAAAKD0Suw/AAAAoEe87D8AAADAUADtPwAAAOA7RO0/AAAAYBE07D8AAABAljLpPwAAAKA5XOc/",
          "dtype": "f8"
         },
         "yaxis": "y"
        },
        {
         "hovertemplate": "Metrik=Accuracy<br>Quantil=%{x}<br>Wert=%{y}<extra></extra>",
         "legendgroup": "Accuracy",
         "line": {
          "color": "#EF553B",
          "dash": "solid"
         },
         "marker": {
          "symbol": "circle"
         },
         "mode": "lines+markers",
         "name": "Accuracy",
         "orientation": "v",
         "showlegend": true,
         "type": "scatter",
         "x": {
          "bdata": "AAoUHigyPEZQWl9j",
          "dtype": "i1"
         },
         "xaxis": "x",
         "y": {
          "bdata": "AAAAoHF45j8AAAAgoGbnPwAAAKDOVOg/AAAAQJjz6D8AAADgYZLpPwAAACBCVeo/AAAAwJEm6z8AAADg67brPwAAAGAOQOw/AAAAoOoQ6z8AAAAgMv7nPwAAAIDKYuY/",
          "dtype": "f8"
         },
         "yaxis": "y"
        },
        {
         "hovertemplate": "Metrik=Precision<br>Quantil=%{x}<br>Wert=%{y}<extra></extra>",
         "legendgroup": "Precision",
         "line": {
          "color": "#00cc96",
          "dash": "solid"
         },
         "marker": {
          "symbol": "circle"
         },
         "mode": "lines+markers",
         "name": "Precision",
         "orientation": "v",
         "showlegend": true,
         "type": "scatter",
         "x": {
          "bdata": "AAoUHigyPEZQWl9j",
          "dtype": "i1"
         },
         "xaxis": "x",
         "y": {
          "bdata": "AAAAQCN05j8AAACgPSfnPwAAAKAk+uc/AAAAgFSX6D8AAACAzDXpPwAAAMBSHOo/AAAAYPsv6z8AAABgrXDsPwAAAKB35u0/AAAAoJaW7j8AAACA3RzvPwAAAGB4he8/",
          "dtype": "f8"
         },
         "yaxis": "y"
        },
        {
         "hovertemplate": "Metrik=Recall<br>Quantil=%{x}<br>Wert=%{y}<extra></extra>",
         "legendgroup": "Recall",
         "line": {
          "color": "#ab63fa",
          "dash": "solid"
         },
         "marker": {
          "symbol": "circle"
         },
         "mode": "lines+markers",
         "name": "Recall",
         "orientation": "v",
         "showlegend": true,
         "type": "scatter",
         "x": {
          "bdata": "AAoUHigyPEZQWl9j",
          "dtype": "i1"
         },
         "xaxis": "x",
         "y": {
          "bdata": "AAAAAAAA8D8AAAAgZOvvPwAAAKBCo+8/AAAAIG9l7z8AAABgNzzvPwAAAAB63+4/AAAAwG547j8AAABgvJXtPwAAAAC8qOw/AAAAoNwp6j8AAACgHSzlPwAAAGBUjuI/",
          "dtype": "f8"
         },
         "yaxis": "y"
        }
       ],
       "layout": {
        "height": 500,
        "legend": {
         "title": {
          "text": "Metrik"
         },
         "tracegroupgap": 0
        },
        "margin": {
         "b": 20,
         "l": 20,
         "r": 20,
         "t": 20
        },
        "template": {
         "data": {
          "bar": [
           {
            "error_x": {
             "color": "#2a3f5f"
            },
            "error_y": {
             "color": "#2a3f5f"
            },
            "marker": {
             "line": {
              "color": "#E5ECF6",
              "width": 0.5
             },
             "pattern": {
              "fillmode": "overlay",
              "size": 10,
              "solidity": 0.2
             }
            },
            "type": "bar"
           }
          ],
          "barpolar": [
           {
            "marker": {
             "line": {
              "color": "#E5ECF6",
              "width": 0.5
             },
             "pattern": {
              "fillmode": "overlay",
              "size": 10,
              "solidity": 0.2
             }
            },
            "type": "barpolar"
           }
          ],
          "carpet": [
           {
            "aaxis": {
             "endlinecolor": "#2a3f5f",
             "gridcolor": "white",
             "linecolor": "white",
             "minorgridcolor": "white",
             "startlinecolor": "#2a3f5f"
            },
            "baxis": {
             "endlinecolor": "#2a3f5f",
             "gridcolor": "white",
             "linecolor": "white",
             "minorgridcolor": "white",
             "startlinecolor": "#2a3f5f"
            },
            "type": "carpet"
           }
          ],
          "choropleth": [
           {
            "colorbar": {
             "outlinewidth": 0,
             "ticks": ""
            },
            "type": "choropleth"
           }
          ],
          "contour": [
           {
            "colorbar": {
             "outlinewidth": 0,
             "ticks": ""
            },
            "colorscale": [
             [
              0,
              "#0d0887"
             ],
             [
              0.1111111111111111,
              "#46039f"
             ],
             [
              0.2222222222222222,
              "#7201a8"
             ],
             [
              0.3333333333333333,
              "#9c179e"
             ],
             [
              0.4444444444444444,
              "#bd3786"
             ],
             [
              0.5555555555555556,
              "#d8576b"
             ],
             [
              0.6666666666666666,
              "#ed7953"
             ],
             [
              0.7777777777777778,
              "#fb9f3a"
             ],
             [
              0.8888888888888888,
              "#fdca26"
             ],
             [
              1,
              "#f0f921"
             ]
            ],
            "type": "contour"
           }
          ],
          "contourcarpet": [
           {
            "colorbar": {
             "outlinewidth": 0,
             "ticks": ""
            },
            "type": "contourcarpet"
           }
          ],
          "heatmap": [
           {
            "colorbar": {
             "outlinewidth": 0,
             "ticks": ""
            },
            "colorscale": [
             [
              0,
              "#0d0887"
             ],
             [
              0.1111111111111111,
              "#46039f"
             ],
             [
              0.2222222222222222,
              "#7201a8"
             ],
             [
              0.3333333333333333,
              "#9c179e"
             ],
             [
              0.4444444444444444,
              "#bd3786"
             ],
             [
              0.5555555555555556,
              "#d8576b"
             ],
             [
              0.6666666666666666,
              "#ed7953"
             ],
             [
              0.7777777777777778,
              "#fb9f3a"
             ],
             [
              0.8888888888888888,
              "#fdca26"
             ],
             [
              1,
              "#f0f921"
             ]
            ],
            "type": "heatmap"
           }
          ],
          "histogram": [
           {
            "marker": {
             "pattern": {
              "fillmode": "overlay",
              "size": 10,
              "solidity": 0.2
             }
            },
            "type": "histogram"
           }
          ],
          "histogram2d": [
           {
            "colorbar": {
             "outlinewidth": 0,
             "ticks": ""
            },
            "colorscale": [
             [
              0,
              "#0d0887"
             ],
             [
              0.1111111111111111,
              "#46039f"
             ],
             [
              0.2222222222222222,
              "#7201a8"
             ],
             [
              0.3333333333333333,
              "#9c179e"
             ],
             [
              0.4444444444444444,
              "#bd3786"
             ],
             [
              0.5555555555555556,
              "#d8576b"
             ],
             [
              0.6666666666666666,
              "#ed7953"
             ],
             [
              0.7777777777777778,
              "#fb9f3a"
             ],
             [
              0.8888888888888888,
              "#fdca26"
             ],
             [
              1,
              "#f0f921"
             ]
            ],
            "type": "histogram2d"
           }
          ],
          "histogram2dcontour": [
           {
            "colorbar": {
             "outlinewidth": 0,
             "ticks": ""
            },
            "colorscale": [
             [
              0,
              "#0d0887"
             ],
             [
              0.1111111111111111,
              "#46039f"
             ],
             [
              0.2222222222222222,
              "#7201a8"
             ],
             [
              0.3333333333333333,
              "#9c179e"
             ],
             [
              0.4444444444444444,
              "#bd3786"
             ],
             [
              0.5555555555555556,
              "#d8576b"
             ],
             [
              0.6666666666666666,
              "#ed7953"
             ],
             [
              0.7777777777777778,
              "#fb9f3a"
             ],
             [
              0.8888888888888888,
              "#fdca26"
             ],
             [
              1,
              "#f0f921"
             ]
            ],
            "type": "histogram2dcontour"
           }
          ],
          "mesh3d": [
           {
            "colorbar": {
             "outlinewidth": 0,
             "ticks": ""
            },
            "type": "mesh3d"
           }
          ],
          "parcoords": [
           {
            "line": {
             "colorbar": {
              "outlinewidth": 0,
              "ticks": ""
             }
            },
            "type": "parcoords"
           }
          ],
          "pie": [
           {
            "automargin": true,
            "type": "pie"
           }
          ],
          "scatter": [
           {
            "fillpattern": {
             "fillmode": "overlay",
             "size": 10,
             "solidity": 0.2
            },
            "type": "scatter"
           }
          ],
          "scatter3d": [
           {
            "line": {
             "colorbar": {
              "outlinewidth": 0,
              "ticks": ""
             }
            },
            "marker": {
             "colorbar": {
              "outlinewidth": 0,
              "ticks": ""
             }
            },
            "type": "scatter3d"
           }
          ],
          "scattercarpet": [
           {
            "marker": {
             "colorbar": {
              "outlinewidth": 0,
              "ticks": ""
             }
            },
            "type": "scattercarpet"
           }
          ],
          "scattergeo": [
           {
            "marker": {
             "colorbar": {
              "outlinewidth": 0,
              "ticks": ""
             }
            },
            "type": "scattergeo"
           }
          ],
          "scattergl": [
           {
            "marker": {
             "colorbar": {
              "outlinewidth": 0,
              "ticks": ""
             }
            },
            "type": "scattergl"
           }
          ],
          "scattermap": [
           {
            "marker": {
             "colorbar": {
              "outlinewidth": 0,
              "ticks": ""
             }
            },
            "type": "scattermap"
           }
          ],
          "scattermapbox": [
           {
            "marker": {
             "colorbar": {
              "outlinewidth": 0,
              "ticks": ""
             }
            },
            "type": "scattermapbox"
           }
          ],
          "scatterpolar": [
           {
            "marker": {
             "colorbar": {
              "outlinewidth": 0,
              "ticks": ""
             }
            },
            "type": "scatterpolar"
           }
          ],
          "scatterpolargl": [
           {
            "marker": {
             "colorbar": {
              "outlinewidth": 0,
              "ticks": ""
             }
            },
            "type": "scatterpolargl"
           }
          ],
          "scatterternary": [
           {
            "marker": {
             "colorbar": {
              "outlinewidth": 0,
              "ticks": ""
             }
            },
            "type": "scatterternary"
           }
          ],
          "surface": [
           {
            "colorbar": {
             "outlinewidth": 0,
             "ticks": ""
            },
            "colorscale": [
             [
              0,
              "#0d0887"
             ],
             [
              0.1111111111111111,
              "#46039f"
             ],
             [
              0.2222222222222222,
              "#7201a8"
             ],
             [
              0.3333333333333333,
              "#9c179e"
             ],
             [
              0.4444444444444444,
              "#bd3786"
             ],
             [
              0.5555555555555556,
              "#d8576b"
             ],
             [
              0.6666666666666666,
              "#ed7953"
             ],
             [
              0.7777777777777778,
              "#fb9f3a"
             ],
             [
              0.8888888888888888,
              "#fdca26"
             ],
             [
              1,
              "#f0f921"
             ]
            ],
            "type": "surface"
           }
          ],
          "table": [
           {
            "cells": {
             "fill": {
              "color": "#EBF0F8"
             },
             "line": {
              "color": "white"
             }
            },
            "header": {
             "fill": {
              "color": "#C8D4E3"
             },
             "line": {
              "color": "white"
             }
            },
            "type": "table"
           }
          ]
         },
         "layout": {
          "annotationdefaults": {
           "arrowcolor": "#2a3f5f",
           "arrowhead": 0,
           "arrowwidth": 1
          },
          "autotypenumbers": "strict",
          "coloraxis": {
           "colorbar": {
            "outlinewidth": 0,
            "ticks": ""
           }
          },
          "colorscale": {
           "diverging": [
            [
             0,
             "#8e0152"
            ],
            [
             0.1,
             "#c51b7d"
            ],
            [
             0.2,
             "#de77ae"
            ],
            [
             0.3,
             "#f1b6da"
            ],
            [
             0.4,
             "#fde0ef"
            ],
            [
             0.5,
             "#f7f7f7"
            ],
            [
             0.6,
             "#e6f5d0"
            ],
            [
             0.7,
             "#b8e186"
            ],
            [
             0.8,
             "#7fbc41"
            ],
            [
             0.9,
             "#4d9221"
            ],
            [
             1,
             "#276419"
            ]
           ],
           "sequential": [
            [
             0,
             "#0d0887"
            ],
            [
             0.1111111111111111,
             "#46039f"
            ],
            [
             0.2222222222222222,
             "#7201a8"
            ],
            [
             0.3333333333333333,
             "#9c179e"
            ],
            [
             0.4444444444444444,
             "#bd3786"
            ],
            [
             0.5555555555555556,
             "#d8576b"
            ],
            [
             0.6666666666666666,
             "#ed7953"
            ],
            [
             0.7777777777777778,
             "#fb9f3a"
            ],
            [
             0.8888888888888888,
             "#fdca26"
            ],
            [
             1,
             "#f0f921"
            ]
           ],
           "sequentialminus": [
            [
             0,
             "#0d0887"
            ],
            [
             0.1111111111111111,
             "#46039f"
            ],
            [
             0.2222222222222222,
             "#7201a8"
            ],
            [
             0.3333333333333333,
             "#9c179e"
            ],
            [
             0.4444444444444444,
             "#bd3786"
            ],
            [
             0.5555555555555556,
             "#d8576b"
            ],
            [
             0.6666666666666666,
             "#ed7953"
            ],
            [
             0.7777777777777778,
             "#fb9f3a"
            ],
            [
             0.8888888888888888,
             "#fdca26"
            ],
            [
             1,
             "#f0f921"
            ]
           ]
          },
          "colorway": [
           "#636efa",
           "#EF553B",
           "#00cc96",
           "#ab63fa",
           "#FFA15A",
           "#19d3f3",
           "#FF6692",
           "#B6E880",
           "#FF97FF",
           "#FECB52"
          ],
          "font": {
           "color": "#2a3f5f"
          },
          "geo": {
           "bgcolor": "white",
           "lakecolor": "white",
           "landcolor": "#E5ECF6",
           "showlakes": true,
           "showland": true,
           "subunitcolor": "white"
          },
          "hoverlabel": {
           "align": "left"
          },
          "hovermode": "closest",
          "mapbox": {
           "style": "light"
          },
          "paper_bgcolor": "white",
          "plot_bgcolor": "#E5ECF6",
          "polar": {
           "angularaxis": {
            "gridcolor": "white",
            "linecolor": "white",
            "ticks": ""
           },
           "bgcolor": "#E5ECF6",
           "radialaxis": {
            "gridcolor": "white",
            "linecolor": "white",
            "ticks": ""
           }
          },
          "scene": {
           "xaxis": {
            "backgroundcolor": "#E5ECF6",
            "gridcolor": "white",
            "gridwidth": 2,
            "linecolor": "white",
            "showbackground": true,
            "ticks": "",
            "zerolinecolor": "white"
           },
           "yaxis": {
            "backgroundcolor": "#E5ECF6",
            "gridcolor": "white",
            "gridwidth": 2,
            "linecolor": "white",
            "showbackground": true,
            "ticks": "",
            "zerolinecolor": "white"
           },
           "zaxis": {
            "backgroundcolor": "#E5ECF6",
            "gridcolor": "white",
            "gridwidth": 2,
            "linecolor": "white",
            "showbackground": true,
            "ticks": "",
            "zerolinecolor": "white"
           }
          },
          "shapedefaults": {
           "line": {
            "color": "#2a3f5f"
           }
          },
          "ternary": {
           "aaxis": {
            "gridcolor": "white",
            "linecolor": "white",
            "ticks": ""
           },
           "baxis": {
            "gridcolor": "white",
            "linecolor": "white",
            "ticks": ""
           },
           "bgcolor": "#E5ECF6",
           "caxis": {
            "gridcolor": "white",
            "linecolor": "white",
            "ticks": ""
           }
          },
          "title": {
           "x": 0.05
          },
          "xaxis": {
           "automargin": true,
           "gridcolor": "white",
           "linecolor": "white",
           "ticks": "",
           "title": {
            "standoff": 15
           },
           "zerolinecolor": "white",
           "zerolinewidth": 2
          },
          "yaxis": {
           "automargin": true,
           "gridcolor": "white",
           "linecolor": "white",
           "ticks": "",
           "title": {
            "standoff": 15
           },
           "zerolinecolor": "white",
           "zerolinewidth": 2
          }
         }
        },
        "title": {
         "font": {
          "size": 20
         }
        },
        "width": 700,
        "xaxis": {
         "anchor": "y",
         "domain": [
          0,
          1
         ],
         "tickfont": {
          "size": 15
         },
         "title": {
          "font": {
           "size": 20
          },
          "text": "Quantil"
         }
        },
        "yaxis": {
         "anchor": "x",
         "domain": [
          0,
          1
         ],
         "tickfont": {
          "size": 15
         },
         "title": {
          "font": {
           "size": 20
          },
          "text": "Wert"
         }
        }
       }
      }
     },
     "metadata": {},
     "output_type": "display_data"
    }
   ],
   "source": [
    "fig = px.line(\n",
    "    metric_results_df,\n",
    "    x=\"Quantil\",\n",
    "    y=\"Wert\",\n",
    "    color=\"Metrik\",\n",
    "    markers=\"x\",\n",
    "    width=700,\n",
    "    height=500,\n",
    "    # title=\"Vergleich der Verschiedenen Metriken über die Quantile\",\n",
    ")\n",
    "fig.update_layout(\n",
    "    margin=dict(l=20, t=20, r=20, b=20),\n",
    "    title=dict(font=dict(size=20)),\n",
    "    yaxis=dict(tickfont=dict(size=15), title_font=dict(size=20)),\n",
    "    xaxis=dict(tickfont=dict(size=15), title_font=dict(size=20)),\n",
    ")\n",
    "\n",
    "fig.show()\n",
    "fig.write_image(\"../images/metrics-quantiles.pdf\")\n",
    "fig.write_image(\"../images/metrics-quantiles.png\")"
   ]
  },
  {
   "cell_type": "code",
   "execution_count": 148,
   "id": "375dd638",
   "metadata": {},
   "outputs": [
    {
     "data": {
      "application/vnd.plotly.v1+json": {
       "config": {
        "plotlyServerURL": "https://plot.ly"
       },
       "data": [
        {
         "hovertemplate": "Metrik=F1-Score<br>Schwellwert=%{x}<br>Wert=%{y}<extra></extra>",
         "legendgroup": "F1-Score",
         "line": {
          "color": "#636efa",
          "dash": "solid"
         },
         "marker": {
          "symbol": "circle"
         },
         "mode": "lines+markers",
         "name": "F1-Score",
         "orientation": "v",
         "showlegend": true,
         "type": "scatter",
         "x": {
          "bdata": "4TGpOYflFTr6+Ek6M5BsOsJchDruq546dKS5OovS3zrL/hc79jxiO2Hf1TsZghU8",
          "dtype": "f4"
         },
         "xaxis": "x",
         "y": {
          "bdata": "AAAAwNlj6j8AAACgtdbqPwAAAMCiR+s/AAAAIIKU6z8AAAAAsObrPwAAAKD0Suw/AAAAoEe87D8AAADAUADtPwAAAOA7RO0/AAAAYBE07D8AAABAljLpPwAAAKA5XOc/",
          "dtype": "f8"
         },
         "yaxis": "y"
        },
        {
         "hovertemplate": "Metrik=Accuracy<br>Schwellwert=%{x}<br>Wert=%{y}<extra></extra>",
         "legendgroup": "Accuracy",
         "line": {
          "color": "#EF553B",
          "dash": "solid"
         },
         "marker": {
          "symbol": "circle"
         },
         "mode": "lines+markers",
         "name": "Accuracy",
         "orientation": "v",
         "showlegend": true,
         "type": "scatter",
         "x": {
          "bdata": "4TGpOYflFTr6+Ek6M5BsOsJchDruq546dKS5OovS3zrL/hc79jxiO2Hf1TsZghU8",
          "dtype": "f4"
         },
         "xaxis": "x",
         "y": {
          "bdata": "AAAAoHF45j8AAAAgoGbnPwAAAKDOVOg/AAAAQJjz6D8AAADgYZLpPwAAACBCVeo/AAAAwJEm6z8AAADg67brPwAAAGAOQOw/AAAAoOoQ6z8AAAAgMv7nPwAAAIDKYuY/",
          "dtype": "f8"
         },
         "yaxis": "y"
        },
        {
         "hovertemplate": "Metrik=Precision<br>Schwellwert=%{x}<br>Wert=%{y}<extra></extra>",
         "legendgroup": "Precision",
         "line": {
          "color": "#00cc96",
          "dash": "solid"
         },
         "marker": {
          "symbol": "circle"
         },
         "mode": "lines+markers",
         "name": "Precision",
         "orientation": "v",
         "showlegend": true,
         "type": "scatter",
         "x": {
          "bdata": "4TGpOYflFTr6+Ek6M5BsOsJchDruq546dKS5OovS3zrL/hc79jxiO2Hf1TsZghU8",
          "dtype": "f4"
         },
         "xaxis": "x",
         "y": {
          "bdata": "AAAAQCN05j8AAACgPSfnPwAAAKAk+uc/AAAAgFSX6D8AAACAzDXpPwAAAMBSHOo/AAAAYPsv6z8AAABgrXDsPwAAAKB35u0/AAAAoJaW7j8AAACA3RzvPwAAAGB4he8/",
          "dtype": "f8"
         },
         "yaxis": "y"
        },
        {
         "hovertemplate": "Metrik=Recall<br>Schwellwert=%{x}<br>Wert=%{y}<extra></extra>",
         "legendgroup": "Recall",
         "line": {
          "color": "#ab63fa",
          "dash": "solid"
         },
         "marker": {
          "symbol": "circle"
         },
         "mode": "lines+markers",
         "name": "Recall",
         "orientation": "v",
         "showlegend": true,
         "type": "scatter",
         "x": {
          "bdata": "4TGpOYflFTr6+Ek6M5BsOsJchDruq546dKS5OovS3zrL/hc79jxiO2Hf1TsZghU8",
          "dtype": "f4"
         },
         "xaxis": "x",
         "y": {
          "bdata": "AAAAAAAA8D8AAAAgZOvvPwAAAKBCo+8/AAAAIG9l7z8AAABgNzzvPwAAAAB63+4/AAAAwG547j8AAABgvJXtPwAAAAC8qOw/AAAAoNwp6j8AAACgHSzlPwAAAGBUjuI/",
          "dtype": "f8"
         },
         "yaxis": "y"
        }
       ],
       "layout": {
        "height": 500,
        "legend": {
         "title": {
          "text": "Metrik"
         },
         "tracegroupgap": 0
        },
        "margin": {
         "b": 20,
         "l": 20,
         "r": 20,
         "t": 20
        },
        "template": {
         "data": {
          "bar": [
           {
            "error_x": {
             "color": "#2a3f5f"
            },
            "error_y": {
             "color": "#2a3f5f"
            },
            "marker": {
             "line": {
              "color": "#E5ECF6",
              "width": 0.5
             },
             "pattern": {
              "fillmode": "overlay",
              "size": 10,
              "solidity": 0.2
             }
            },
            "type": "bar"
           }
          ],
          "barpolar": [
           {
            "marker": {
             "line": {
              "color": "#E5ECF6",
              "width": 0.5
             },
             "pattern": {
              "fillmode": "overlay",
              "size": 10,
              "solidity": 0.2
             }
            },
            "type": "barpolar"
           }
          ],
          "carpet": [
           {
            "aaxis": {
             "endlinecolor": "#2a3f5f",
             "gridcolor": "white",
             "linecolor": "white",
             "minorgridcolor": "white",
             "startlinecolor": "#2a3f5f"
            },
            "baxis": {
             "endlinecolor": "#2a3f5f",
             "gridcolor": "white",
             "linecolor": "white",
             "minorgridcolor": "white",
             "startlinecolor": "#2a3f5f"
            },
            "type": "carpet"
           }
          ],
          "choropleth": [
           {
            "colorbar": {
             "outlinewidth": 0,
             "ticks": ""
            },
            "type": "choropleth"
           }
          ],
          "contour": [
           {
            "colorbar": {
             "outlinewidth": 0,
             "ticks": ""
            },
            "colorscale": [
             [
              0,
              "#0d0887"
             ],
             [
              0.1111111111111111,
              "#46039f"
             ],
             [
              0.2222222222222222,
              "#7201a8"
             ],
             [
              0.3333333333333333,
              "#9c179e"
             ],
             [
              0.4444444444444444,
              "#bd3786"
             ],
             [
              0.5555555555555556,
              "#d8576b"
             ],
             [
              0.6666666666666666,
              "#ed7953"
             ],
             [
              0.7777777777777778,
              "#fb9f3a"
             ],
             [
              0.8888888888888888,
              "#fdca26"
             ],
             [
              1,
              "#f0f921"
             ]
            ],
            "type": "contour"
           }
          ],
          "contourcarpet": [
           {
            "colorbar": {
             "outlinewidth": 0,
             "ticks": ""
            },
            "type": "contourcarpet"
           }
          ],
          "heatmap": [
           {
            "colorbar": {
             "outlinewidth": 0,
             "ticks": ""
            },
            "colorscale": [
             [
              0,
              "#0d0887"
             ],
             [
              0.1111111111111111,
              "#46039f"
             ],
             [
              0.2222222222222222,
              "#7201a8"
             ],
             [
              0.3333333333333333,
              "#9c179e"
             ],
             [
              0.4444444444444444,
              "#bd3786"
             ],
             [
              0.5555555555555556,
              "#d8576b"
             ],
             [
              0.6666666666666666,
              "#ed7953"
             ],
             [
              0.7777777777777778,
              "#fb9f3a"
             ],
             [
              0.8888888888888888,
              "#fdca26"
             ],
             [
              1,
              "#f0f921"
             ]
            ],
            "type": "heatmap"
           }
          ],
          "histogram": [
           {
            "marker": {
             "pattern": {
              "fillmode": "overlay",
              "size": 10,
              "solidity": 0.2
             }
            },
            "type": "histogram"
           }
          ],
          "histogram2d": [
           {
            "colorbar": {
             "outlinewidth": 0,
             "ticks": ""
            },
            "colorscale": [
             [
              0,
              "#0d0887"
             ],
             [
              0.1111111111111111,
              "#46039f"
             ],
             [
              0.2222222222222222,
              "#7201a8"
             ],
             [
              0.3333333333333333,
              "#9c179e"
             ],
             [
              0.4444444444444444,
              "#bd3786"
             ],
             [
              0.5555555555555556,
              "#d8576b"
             ],
             [
              0.6666666666666666,
              "#ed7953"
             ],
             [
              0.7777777777777778,
              "#fb9f3a"
             ],
             [
              0.8888888888888888,
              "#fdca26"
             ],
             [
              1,
              "#f0f921"
             ]
            ],
            "type": "histogram2d"
           }
          ],
          "histogram2dcontour": [
           {
            "colorbar": {
             "outlinewidth": 0,
             "ticks": ""
            },
            "colorscale": [
             [
              0,
              "#0d0887"
             ],
             [
              0.1111111111111111,
              "#46039f"
             ],
             [
              0.2222222222222222,
              "#7201a8"
             ],
             [
              0.3333333333333333,
              "#9c179e"
             ],
             [
              0.4444444444444444,
              "#bd3786"
             ],
             [
              0.5555555555555556,
              "#d8576b"
             ],
             [
              0.6666666666666666,
              "#ed7953"
             ],
             [
              0.7777777777777778,
              "#fb9f3a"
             ],
             [
              0.8888888888888888,
              "#fdca26"
             ],
             [
              1,
              "#f0f921"
             ]
            ],
            "type": "histogram2dcontour"
           }
          ],
          "mesh3d": [
           {
            "colorbar": {
             "outlinewidth": 0,
             "ticks": ""
            },
            "type": "mesh3d"
           }
          ],
          "parcoords": [
           {
            "line": {
             "colorbar": {
              "outlinewidth": 0,
              "ticks": ""
             }
            },
            "type": "parcoords"
           }
          ],
          "pie": [
           {
            "automargin": true,
            "type": "pie"
           }
          ],
          "scatter": [
           {
            "fillpattern": {
             "fillmode": "overlay",
             "size": 10,
             "solidity": 0.2
            },
            "type": "scatter"
           }
          ],
          "scatter3d": [
           {
            "line": {
             "colorbar": {
              "outlinewidth": 0,
              "ticks": ""
             }
            },
            "marker": {
             "colorbar": {
              "outlinewidth": 0,
              "ticks": ""
             }
            },
            "type": "scatter3d"
           }
          ],
          "scattercarpet": [
           {
            "marker": {
             "colorbar": {
              "outlinewidth": 0,
              "ticks": ""
             }
            },
            "type": "scattercarpet"
           }
          ],
          "scattergeo": [
           {
            "marker": {
             "colorbar": {
              "outlinewidth": 0,
              "ticks": ""
             }
            },
            "type": "scattergeo"
           }
          ],
          "scattergl": [
           {
            "marker": {
             "colorbar": {
              "outlinewidth": 0,
              "ticks": ""
             }
            },
            "type": "scattergl"
           }
          ],
          "scattermap": [
           {
            "marker": {
             "colorbar": {
              "outlinewidth": 0,
              "ticks": ""
             }
            },
            "type": "scattermap"
           }
          ],
          "scattermapbox": [
           {
            "marker": {
             "colorbar": {
              "outlinewidth": 0,
              "ticks": ""
             }
            },
            "type": "scattermapbox"
           }
          ],
          "scatterpolar": [
           {
            "marker": {
             "colorbar": {
              "outlinewidth": 0,
              "ticks": ""
             }
            },
            "type": "scatterpolar"
           }
          ],
          "scatterpolargl": [
           {
            "marker": {
             "colorbar": {
              "outlinewidth": 0,
              "ticks": ""
             }
            },
            "type": "scatterpolargl"
           }
          ],
          "scatterternary": [
           {
            "marker": {
             "colorbar": {
              "outlinewidth": 0,
              "ticks": ""
             }
            },
            "type": "scatterternary"
           }
          ],
          "surface": [
           {
            "colorbar": {
             "outlinewidth": 0,
             "ticks": ""
            },
            "colorscale": [
             [
              0,
              "#0d0887"
             ],
             [
              0.1111111111111111,
              "#46039f"
             ],
             [
              0.2222222222222222,
              "#7201a8"
             ],
             [
              0.3333333333333333,
              "#9c179e"
             ],
             [
              0.4444444444444444,
              "#bd3786"
             ],
             [
              0.5555555555555556,
              "#d8576b"
             ],
             [
              0.6666666666666666,
              "#ed7953"
             ],
             [
              0.7777777777777778,
              "#fb9f3a"
             ],
             [
              0.8888888888888888,
              "#fdca26"
             ],
             [
              1,
              "#f0f921"
             ]
            ],
            "type": "surface"
           }
          ],
          "table": [
           {
            "cells": {
             "fill": {
              "color": "#EBF0F8"
             },
             "line": {
              "color": "white"
             }
            },
            "header": {
             "fill": {
              "color": "#C8D4E3"
             },
             "line": {
              "color": "white"
             }
            },
            "type": "table"
           }
          ]
         },
         "layout": {
          "annotationdefaults": {
           "arrowcolor": "#2a3f5f",
           "arrowhead": 0,
           "arrowwidth": 1
          },
          "autotypenumbers": "strict",
          "coloraxis": {
           "colorbar": {
            "outlinewidth": 0,
            "ticks": ""
           }
          },
          "colorscale": {
           "diverging": [
            [
             0,
             "#8e0152"
            ],
            [
             0.1,
             "#c51b7d"
            ],
            [
             0.2,
             "#de77ae"
            ],
            [
             0.3,
             "#f1b6da"
            ],
            [
             0.4,
             "#fde0ef"
            ],
            [
             0.5,
             "#f7f7f7"
            ],
            [
             0.6,
             "#e6f5d0"
            ],
            [
             0.7,
             "#b8e186"
            ],
            [
             0.8,
             "#7fbc41"
            ],
            [
             0.9,
             "#4d9221"
            ],
            [
             1,
             "#276419"
            ]
           ],
           "sequential": [
            [
             0,
             "#0d0887"
            ],
            [
             0.1111111111111111,
             "#46039f"
            ],
            [
             0.2222222222222222,
             "#7201a8"
            ],
            [
             0.3333333333333333,
             "#9c179e"
            ],
            [
             0.4444444444444444,
             "#bd3786"
            ],
            [
             0.5555555555555556,
             "#d8576b"
            ],
            [
             0.6666666666666666,
             "#ed7953"
            ],
            [
             0.7777777777777778,
             "#fb9f3a"
            ],
            [
             0.8888888888888888,
             "#fdca26"
            ],
            [
             1,
             "#f0f921"
            ]
           ],
           "sequentialminus": [
            [
             0,
             "#0d0887"
            ],
            [
             0.1111111111111111,
             "#46039f"
            ],
            [
             0.2222222222222222,
             "#7201a8"
            ],
            [
             0.3333333333333333,
             "#9c179e"
            ],
            [
             0.4444444444444444,
             "#bd3786"
            ],
            [
             0.5555555555555556,
             "#d8576b"
            ],
            [
             0.6666666666666666,
             "#ed7953"
            ],
            [
             0.7777777777777778,
             "#fb9f3a"
            ],
            [
             0.8888888888888888,
             "#fdca26"
            ],
            [
             1,
             "#f0f921"
            ]
           ]
          },
          "colorway": [
           "#636efa",
           "#EF553B",
           "#00cc96",
           "#ab63fa",
           "#FFA15A",
           "#19d3f3",
           "#FF6692",
           "#B6E880",
           "#FF97FF",
           "#FECB52"
          ],
          "font": {
           "color": "#2a3f5f"
          },
          "geo": {
           "bgcolor": "white",
           "lakecolor": "white",
           "landcolor": "#E5ECF6",
           "showlakes": true,
           "showland": true,
           "subunitcolor": "white"
          },
          "hoverlabel": {
           "align": "left"
          },
          "hovermode": "closest",
          "mapbox": {
           "style": "light"
          },
          "paper_bgcolor": "white",
          "plot_bgcolor": "#E5ECF6",
          "polar": {
           "angularaxis": {
            "gridcolor": "white",
            "linecolor": "white",
            "ticks": ""
           },
           "bgcolor": "#E5ECF6",
           "radialaxis": {
            "gridcolor": "white",
            "linecolor": "white",
            "ticks": ""
           }
          },
          "scene": {
           "xaxis": {
            "backgroundcolor": "#E5ECF6",
            "gridcolor": "white",
            "gridwidth": 2,
            "linecolor": "white",
            "showbackground": true,
            "ticks": "",
            "zerolinecolor": "white"
           },
           "yaxis": {
            "backgroundcolor": "#E5ECF6",
            "gridcolor": "white",
            "gridwidth": 2,
            "linecolor": "white",
            "showbackground": true,
            "ticks": "",
            "zerolinecolor": "white"
           },
           "zaxis": {
            "backgroundcolor": "#E5ECF6",
            "gridcolor": "white",
            "gridwidth": 2,
            "linecolor": "white",
            "showbackground": true,
            "ticks": "",
            "zerolinecolor": "white"
           }
          },
          "shapedefaults": {
           "line": {
            "color": "#2a3f5f"
           }
          },
          "ternary": {
           "aaxis": {
            "gridcolor": "white",
            "linecolor": "white",
            "ticks": ""
           },
           "baxis": {
            "gridcolor": "white",
            "linecolor": "white",
            "ticks": ""
           },
           "bgcolor": "#E5ECF6",
           "caxis": {
            "gridcolor": "white",
            "linecolor": "white",
            "ticks": ""
           }
          },
          "title": {
           "x": 0.05
          },
          "xaxis": {
           "automargin": true,
           "gridcolor": "white",
           "linecolor": "white",
           "ticks": "",
           "title": {
            "standoff": 15
           },
           "zerolinecolor": "white",
           "zerolinewidth": 2
          },
          "yaxis": {
           "automargin": true,
           "gridcolor": "white",
           "linecolor": "white",
           "ticks": "",
           "title": {
            "standoff": 15
           },
           "zerolinecolor": "white",
           "zerolinewidth": 2
          }
         }
        },
        "title": {
         "font": {
          "size": 20
         }
        },
        "width": 700,
        "xaxis": {
         "anchor": "y",
         "domain": [
          0,
          1
         ],
         "tickfont": {
          "size": 15
         },
         "title": {
          "font": {
           "size": 20
          },
          "text": "Schwellwert"
         }
        },
        "yaxis": {
         "anchor": "x",
         "domain": [
          0,
          1
         ],
         "tickfont": {
          "size": 15
         },
         "title": {
          "font": {
           "size": 20
          },
          "text": "Wert"
         }
        }
       }
      }
     },
     "metadata": {},
     "output_type": "display_data"
    }
   ],
   "source": [
    "fig = px.line(\n",
    "    metric_results_df,\n",
    "    x=\"Schwellwert\",\n",
    "    y=\"Wert\",\n",
    "    color=\"Metrik\",\n",
    "    markers=\"x\",\n",
    "    width=700,\n",
    "    height=500,\n",
    "    # title=\"Vergleich der Verschiedenen Metriken über die Schwellwerte\",\n",
    ")\n",
    "fig.update_layout(\n",
    "    margin=dict(l=20, t=20, r=20, b=20),\n",
    "    title=dict(font=dict(size=20)),\n",
    "    yaxis=dict(tickfont=dict(size=15), title_font=dict(size=20)),\n",
    "    xaxis=dict(tickfont=dict(size=15), title_font=dict(size=20)),\n",
    ")\n",
    "\n",
    "fig.show()\n",
    "fig.write_image(\"../images/metrics-threshs.pdf\")\n",
    "fig.write_image(\"../images/metrics-threshs.png\")"
   ]
  },
  {
   "cell_type": "code",
   "execution_count": null,
   "id": "1091649f",
   "metadata": {},
   "outputs": [],
   "source": []
  }
 ],
 "metadata": {
  "kernelspec": {
   "display_name": ".venv",
   "language": "python",
   "name": "python3"
  },
  "language_info": {
   "codemirror_mode": {
    "name": "ipython",
    "version": 3
   },
   "file_extension": ".py",
   "mimetype": "text/x-python",
   "name": "python",
   "nbconvert_exporter": "python",
   "pygments_lexer": "ipython3",
   "version": "3.12.3"
  }
 },
 "nbformat": 4,
 "nbformat_minor": 5
}
